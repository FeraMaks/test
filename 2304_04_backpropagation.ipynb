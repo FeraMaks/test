{
  "nbformat": 4,
  "nbformat_minor": 0,
  "metadata": {
    "colab": {
      "provenance": [],
      "authorship_tag": "ABX9TyP6c7QZOjwASiOKdidze8hs",
      "include_colab_link": true
    },
    "kernelspec": {
      "name": "python3",
      "display_name": "Python 3"
    },
    "language_info": {
      "name": "python"
    }
  },
  "cells": [
    {
      "cell_type": "markdown",
      "metadata": {
        "id": "view-in-github",
        "colab_type": "text"
      },
      "source": [
        "<a href=\"https://colab.research.google.com/github/FeraMaks/test/blob/main/2304_04_backpropagation.ipynb\" target=\"_parent\"><img src=\"https://colab.research.google.com/assets/colab-badge.svg\" alt=\"Open In Colab\"/></a>"
      ]
    },
    {
      "cell_type": "markdown",
      "source": [],
      "metadata": {
        "id": "pG6COUw_HaYC"
      }
    },
    {
      "cell_type": "code",
      "source": [
        "Import libraries"
      ],
      "metadata": {
        "id": "MGiMkQT7HbXz"
      },
      "execution_count": null,
      "outputs": []
    },
    {
      "cell_type": "code",
      "execution_count": 2,
      "metadata": {
        "id": "woiWXr2-G56f"
      },
      "outputs": [],
      "source": [
        "import torch"
      ]
    },
    {
      "cell_type": "markdown",
      "source": [
        "Initialization"
      ],
      "metadata": {
        "id": "OiNwpbb3Hkx-"
      }
    },
    {
      "cell_type": "code",
      "source": [
        "x = torch.tensor(1.0)\n",
        "y = torch.tensor(2.0)\n",
        "\n",
        "theta = torch.tensor(1.0, requires_grad=True)\n",
        "theta"
      ],
      "metadata": {
        "colab": {
          "base_uri": "https://localhost:8080/"
        },
        "id": "6NHN462CHnW9",
        "outputId": "74da14cf-c32e-4ee1-9489-577b372a6aa5"
      },
      "execution_count": 3,
      "outputs": [
        {
          "output_type": "execute_result",
          "data": {
            "text/plain": [
              "tensor(1., requires_grad=True)"
            ]
          },
          "metadata": {},
          "execution_count": 3
        }
      ]
    },
    {
      "cell_type": "markdown",
      "source": [
        "#Forward pass"
      ],
      "metadata": {
        "id": "6NKs7WcXIQPE"
      }
    },
    {
      "cell_type": "code",
      "source": [
        "h = theta*x\n",
        "Loss = (y-h)**2\n",
        "Loss"
      ],
      "metadata": {
        "colab": {
          "base_uri": "https://localhost:8080/"
        },
        "id": "ivXVrYUhIRfD",
        "outputId": "39696130-dbcb-4833-a4b2-b0993cc60631"
      },
      "execution_count": 4,
      "outputs": [
        {
          "output_type": "execute_result",
          "data": {
            "text/plain": [
              "tensor(1., grad_fn=<PowBackward0>)"
            ]
          },
          "metadata": {},
          "execution_count": 4
        }
      ]
    },
    {
      "cell_type": "markdown",
      "source": [
        "#Backward pass"
      ],
      "metadata": {
        "id": "PdFGXMd6Ip54"
      }
    },
    {
      "cell_type": "code",
      "source": [
        "Loss.backward()\n",
        "theta.grad"
      ],
      "metadata": {
        "colab": {
          "base_uri": "https://localhost:8080/"
        },
        "id": "4yWfRw0aIm5V",
        "outputId": "3830cf09-f0b4-453d-9da0-c209d2e70f8f"
      },
      "execution_count": 5,
      "outputs": [
        {
          "output_type": "execute_result",
          "data": {
            "text/plain": [
              "tensor(-2.)"
            ]
          },
          "metadata": {},
          "execution_count": 5
        }
      ]
    },
    {
      "cell_type": "markdown",
      "source": [
        "#Update theta"
      ],
      "metadata": {
        "id": "5CiZB6WLI-Oa"
      }
    },
    {
      "cell_type": "code",
      "source": [
        "lr = 1e-4\n",
        "with torch.no_grad():\n",
        "  theta -= lr*theta.grad\n",
        "  theta.grad.zero_()\n",
        "theta"
      ],
      "metadata": {
        "colab": {
          "base_uri": "https://localhost:8080/"
        },
        "id": "94MOaZv7I1Bb",
        "outputId": "83543cfe-2bcc-417e-db88-92a0fd9e5fea"
      },
      "execution_count": 7,
      "outputs": [
        {
          "output_type": "execute_result",
          "data": {
            "text/plain": [
              "tensor(1.0002, requires_grad=True)"
            ]
          },
          "metadata": {},
          "execution_count": 7
        }
      ]
    },
    {
      "cell_type": "code",
      "source": [],
      "metadata": {
        "id": "vT8oTYDXKiSi"
      },
      "execution_count": null,
      "outputs": []
    }
  ]
}