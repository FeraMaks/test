{
  "nbformat": 4,
  "nbformat_minor": 0,
  "metadata": {
    "colab": {
      "provenance": [],
      "collapsed_sections": [],
      "authorship_tag": "ABX9TyMZUZHxqfHsmwcR94xcMYu1",
      "include_colab_link": true
    },
    "kernelspec": {
      "name": "python3",
      "display_name": "Python 3"
    },
    "language_info": {
      "name": "python"
    }
  },
  "cells": [
    {
      "cell_type": "markdown",
      "metadata": {
        "id": "view-in-github",
        "colab_type": "text"
      },
      "source": [
        "<a href=\"https://colab.research.google.com/github/FeraMaks/test/blob/main/NN_ShaftTraectory.ipynb\" target=\"_parent\"><img src=\"https://colab.research.google.com/assets/colab-badge.svg\" alt=\"Open In Colab\"/></a>"
      ]
    },
    {
      "cell_type": "code",
      "execution_count": 1,
      "metadata": {
        "id": "UGwCWPzQ4PLb"
      },
      "outputs": [],
      "source": [
        "import torch\n",
        "import torch.nn as nn\n",
        "import torchvision\n",
        "import torchvision.transforms as transforms\n",
        "from torch.utils.data import Dataset, DataLoader\n",
        "import numpy as np\n",
        "import matplotlib.pyplot as plt\n",
        "import math\n",
        "import pandas as pd\n",
        "\n",
        "from google.colab import drive"
      ]
    },
    {
      "cell_type": "code",
      "source": [
        "#device config\n",
        "device = torch.device('cuda' if torch.cuda.is_available() else 'cpu')"
      ],
      "metadata": {
        "id": "lY4YjbjkzSO1"
      },
      "execution_count": 2,
      "outputs": []
    },
    {
      "cell_type": "code",
      "source": [
        "drive.mount('/content/drive/')"
      ],
      "metadata": {
        "colab": {
          "base_uri": "https://localhost:8080/"
        },
        "id": "0y-xHoV-4gUq",
        "outputId": "ae5f0fd8-a636-48ac-8d93-9b224be67261"
      },
      "execution_count": 3,
      "outputs": [
        {
          "output_type": "stream",
          "name": "stdout",
          "text": [
            "Drive already mounted at /content/drive/; to attempt to forcibly remount, call drive.mount(\"/content/drive/\", force_remount=True).\n"
          ]
        }
      ]
    },
    {
      "cell_type": "markdown",
      "source": [
        "Hyper parameters"
      ],
      "metadata": {
        "id": "pMS1Dsjwtu6H"
      }
    },
    {
      "cell_type": "code",
      "source": [],
      "metadata": {
        "id": "tNpL4zE3tw0n"
      },
      "execution_count": 3,
      "outputs": []
    },
    {
      "cell_type": "markdown",
      "source": [
        "#Создание датасета"
      ],
      "metadata": {
        "id": "MwSUjvtElsBR"
      }
    },
    {
      "cell_type": "code",
      "source": [
        "xy = pd.read_excel(open('/content/drive/MyDrive/work/100.xlsx', 'rb'))\n",
        "xy = pd.DataFrame(xy)\n",
        "xynp = pd.DataFrame.to_numpy(xy)\n",
        "xynp = np.rot90(xynp)\n",
        "xynp.shape\n",
        "xynp1 = np.concatenate((xynp[0,:2000], xynp[1,:2000]))\n",
        "xynp2 = np.concatenate((xynp[0,2000:4000], xynp[1,2000:4000]))\n",
        "xynp3 = np.concatenate((xynp[0,4000:6000], xynp[1,4000:6000]))\n",
        "xynp4 = np.concatenate((xynp[0,6000:8000], xynp[1,6000:8000]))\n",
        "xynp5 = np.concatenate((xynp[0,8000:10000], xynp[1,8000:10000]))\n",
        "xynp6 = np.concatenate((xynp[0,10000:12000], xynp[1,10000:12000]))\n",
        "xynp7 = np.concatenate((xynp[0,12000:14000], xynp[1,12000:14000]))\n",
        "xynp8 = np.concatenate((xynp[0,14000:16000], xynp[1,14000:16000]))\n",
        "xynp9 = np.concatenate((xynp[0,16000:18000], xynp[1,16000:18000]))\n",
        "xynp10 = np.concatenate((xynp[0,18000:20000], xynp[1,18000:20000]))\n",
        "\n",
        "xynp11 = np.concatenate((xynp[2,:2000], xynp[3,:2000]))\n",
        "xynp12 = np.concatenate((xynp[2,2000:4000], xynp[3,2000:4000]))\n",
        "xynp13 = np.concatenate((xynp[2,4000:6000], xynp[3,4000:6000]))\n",
        "xynp14 = np.concatenate((xynp[2,6000:8000], xynp[3,6000:8000]))\n",
        "xynp15 = np.concatenate((xynp[2,8000:10000], xynp[3,8000:10000]))\n",
        "xynp16 = np.concatenate((xynp[2,10000:12000], xynp[3,10000:12000]))\n",
        "xynp17 = np.concatenate((xynp[2,12000:14000], xynp[3,12000:14000]))\n",
        "xynp18 = np.concatenate((xynp[2,14000:16000], xynp[3,14000:16000]))\n",
        "xynp19 = np.concatenate((xynp[2,16000:18000], xynp[3,16000:18000]))\n",
        "xynp20 = np.concatenate((xynp[2,18000:20000], xynp[3,18000:20000]))\n",
        "\n",
        "xynp21 = np.concatenate((xynp[4,:2000], xynp[5,:2000]))\n",
        "xynp22 = np.concatenate((xynp[4,2000:4000], xynp[5,2000:4000]))\n",
        "xynp23 = np.concatenate((xynp[4,4000:6000], xynp[5,4000:6000]))\n",
        "xynp24 = np.concatenate((xynp[4,6000:8000], xynp[5,6000:8000]))\n",
        "xynp25 = np.concatenate((xynp[4,8000:10000], xynp[5,8000:10000]))\n",
        "xynp26 = np.concatenate((xynp[4,10000:12000], xynp[5,10000:12000]))\n",
        "xynp27 = np.concatenate((xynp[4,12000:14000], xynp[5,12000:14000]))\n",
        "xynp28 = np.concatenate((xynp[4,14000:16000], xynp[5,14000:16000]))\n",
        "xynp29 = np.concatenate((xynp[4,16000:18000], xynp[5,16000:18000]))\n",
        "xynp30 = np.concatenate((xynp[4,18000:20000], xynp[5,18000:20000]))\n",
        "\n",
        "x = np.vstack((xynp1,xynp2,xynp3,xynp4,xynp5,xynp6,xynp7,xynp11,xynp12,xynp13,xynp14,xynp15,xynp16,xynp17,xynp21,xynp22,xynp23,xynp24,xynp25,xynp26,xynp27,xynp8,xynp9,xynp10,xynp18,xynp19,xynp20,xynp28,xynp29,xynp30))\n",
        "x.shape"
      ],
      "metadata": {
        "colab": {
          "base_uri": "https://localhost:8080/"
        },
        "id": "aF6Vtt8afTY1",
        "outputId": "1e5c612e-d701-49f2-deee-f73a11b22f7e"
      },
      "execution_count": 4,
      "outputs": [
        {
          "output_type": "execute_result",
          "data": {
            "text/plain": [
              "(30, 4000)"
            ]
          },
          "metadata": {},
          "execution_count": 4
        }
      ]
    },
    {
      "cell_type": "code",
      "source": [
        "x[0,:]"
      ],
      "metadata": {
        "colab": {
          "base_uri": "https://localhost:8080/"
        },
        "id": "6aNtztWVfdVz",
        "outputId": "31fb0ccd-0892-428d-cee5-feda60d9e279"
      },
      "execution_count": 5,
      "outputs": [
        {
          "output_type": "execute_result",
          "data": {
            "text/plain": [
              "array([-182.154261, -182.813766, -183.424184, ...,  -46.86475 ,\n",
              "        -44.582413,  -42.288928])"
            ]
          },
          "metadata": {},
          "execution_count": 5
        }
      ]
    },
    {
      "cell_type": "code",
      "source": [
        "y1 = np.ones((20,1))\n",
        "y2 = np.ones((10,1))\n",
        "y2 = y2*2\n",
        "y = np.concatenate((y1,y2))\n",
        "y.shape"
      ],
      "metadata": {
        "colab": {
          "base_uri": "https://localhost:8080/"
        },
        "id": "wS05TpUwkmdp",
        "outputId": "81c4b0bd-b495-459b-845b-abd732f02f70"
      },
      "execution_count": 6,
      "outputs": [
        {
          "output_type": "execute_result",
          "data": {
            "text/plain": [
              "(30, 1)"
            ]
          },
          "metadata": {},
          "execution_count": 6
        }
      ]
    },
    {
      "cell_type": "code",
      "source": [
        "yx = np.concatenate((y,x), axis=1)\n",
        "yx"
      ],
      "metadata": {
        "colab": {
          "base_uri": "https://localhost:8080/"
        },
        "id": "qIf8H86voLRL",
        "outputId": "5912e311-0060-43e1-9b52-61338f099bcf"
      },
      "execution_count": 7,
      "outputs": [
        {
          "output_type": "execute_result",
          "data": {
            "text/plain": [
              "array([[   1.      , -182.154261, -182.813766, ...,  -46.86475 ,\n",
              "         -44.582413,  -42.288928],\n",
              "       [   1.      , -173.012446, -173.965359, ...,  -75.228733,\n",
              "         -72.970316,  -70.706292],\n",
              "       [   1.      , -160.957252, -161.887317, ..., -101.26894 ,\n",
              "         -99.136526,  -96.993631],\n",
              "       ...,\n",
              "       [   2.      ,   39.184434,   32.518965, ..., -414.807569,\n",
              "        -417.559574, -420.19372 ],\n",
              "       [   2.      ,  111.369368,  104.954632, ..., -372.087845,\n",
              "        -376.125338, -380.059501],\n",
              "       [   2.      ,  187.787242,  181.505511, ..., -317.671315,\n",
              "        -322.631982, -327.522761]])"
            ]
          },
          "metadata": {},
          "execution_count": 7
        }
      ]
    },
    {
      "cell_type": "code",
      "source": [
        "class ShaftDataset(Dataset):\n",
        "  def __init__(self):\n",
        "    ds = yx\n",
        "    self.x = torch.from_numpy(ds[:, 1:])\n",
        "    self.y = torch.from_numpy(ds[:, 0])\n",
        "    self.n = ds.shape[0]\n",
        "\n",
        "  def __getitem__(self, index):\n",
        "    return self.x[index], self.y[index]\n",
        "  \n",
        "  def __len__(self):\n",
        "    return self.n"
      ],
      "metadata": {
        "id": "XURkjZuT6yyi"
      },
      "execution_count": 8,
      "outputs": []
    },
    {
      "cell_type": "code",
      "source": [
        "dataset = ShaftDataset()\n",
        "first_data = dataset[0]\n",
        "print(first_data)"
      ],
      "metadata": {
        "id": "ITBdf8iT7D8x",
        "colab": {
          "base_uri": "https://localhost:8080/"
        },
        "outputId": "7e35aade-2367-4ea2-ce57-1b7d27d9d8e4"
      },
      "execution_count": 9,
      "outputs": [
        {
          "output_type": "stream",
          "name": "stdout",
          "text": [
            "(tensor([-182.1543, -182.8138, -183.4242,  ...,  -46.8648,  -44.5824,\n",
            "         -42.2889], dtype=torch.float64), tensor(1., dtype=torch.float64))\n"
          ]
        }
      ]
    },
    {
      "cell_type": "markdown",
      "source": [
        "Hyper parameters"
      ],
      "metadata": {
        "id": "QG0rieAzwscd"
      }
    },
    {
      "cell_type": "code",
      "source": [
        "input_size = x.shape[0]*x.shape[1]\n",
        "hidden_size = 100\n",
        "num_classes = 2\n",
        "num_epochs = 10\n",
        "batch_size = 4000\n",
        "lr = 0.001 # learning rate"
      ],
      "metadata": {
        "id": "Ow5VwGMIwrym"
      },
      "execution_count": 10,
      "outputs": []
    },
    {
      "cell_type": "code",
      "source": [
        "train_dataset = x[:21,:]\n",
        "test_dataset = x[21:,:]\n",
        "train_loader = torch.utils.data.DataLoader(dataset=train_dataset, batch_size=batch_size, shuffle=True)\n",
        "test_loader = torch.utils.data.DataLoader(dataset=test_dataset, batch_size=batch_size, shuffle=False)\n",
        "train_dataset = train_dataset.torch.transforms.ToTensor()"
      ],
      "metadata": {
        "colab": {
          "base_uri": "https://localhost:8080/",
          "height": 200
        },
        "id": "KxDbXIaVquNd",
        "outputId": "1d9bd8fa-4d48-4afd-b67e-5e14a2c87785"
      },
      "execution_count": 18,
      "outputs": [
        {
          "output_type": "error",
          "ename": "AttributeError",
          "evalue": "ignored",
          "traceback": [
            "\u001b[0;31m---------------------------------------------------------------------------\u001b[0m",
            "\u001b[0;31mAttributeError\u001b[0m                            Traceback (most recent call last)",
            "\u001b[0;32m<ipython-input-18-1b193510435b>\u001b[0m in \u001b[0;36m<module>\u001b[0;34m\u001b[0m\n\u001b[1;32m      3\u001b[0m \u001b[0mtrain_loader\u001b[0m \u001b[0;34m=\u001b[0m \u001b[0mtorch\u001b[0m\u001b[0;34m.\u001b[0m\u001b[0mutils\u001b[0m\u001b[0;34m.\u001b[0m\u001b[0mdata\u001b[0m\u001b[0;34m.\u001b[0m\u001b[0mDataLoader\u001b[0m\u001b[0;34m(\u001b[0m\u001b[0mdataset\u001b[0m\u001b[0;34m=\u001b[0m\u001b[0mtrain_dataset\u001b[0m\u001b[0;34m,\u001b[0m \u001b[0mbatch_size\u001b[0m\u001b[0;34m=\u001b[0m\u001b[0mbatch_size\u001b[0m\u001b[0;34m,\u001b[0m \u001b[0mshuffle\u001b[0m\u001b[0;34m=\u001b[0m\u001b[0;32mTrue\u001b[0m\u001b[0;34m)\u001b[0m\u001b[0;34m\u001b[0m\u001b[0;34m\u001b[0m\u001b[0m\n\u001b[1;32m      4\u001b[0m \u001b[0mtest_loader\u001b[0m \u001b[0;34m=\u001b[0m \u001b[0mtorch\u001b[0m\u001b[0;34m.\u001b[0m\u001b[0mutils\u001b[0m\u001b[0;34m.\u001b[0m\u001b[0mdata\u001b[0m\u001b[0;34m.\u001b[0m\u001b[0mDataLoader\u001b[0m\u001b[0;34m(\u001b[0m\u001b[0mdataset\u001b[0m\u001b[0;34m=\u001b[0m\u001b[0mtest_dataset\u001b[0m\u001b[0;34m,\u001b[0m \u001b[0mbatch_size\u001b[0m\u001b[0;34m=\u001b[0m\u001b[0mbatch_size\u001b[0m\u001b[0;34m,\u001b[0m \u001b[0mshuffle\u001b[0m\u001b[0;34m=\u001b[0m\u001b[0;32mFalse\u001b[0m\u001b[0;34m)\u001b[0m\u001b[0;34m\u001b[0m\u001b[0;34m\u001b[0m\u001b[0m\n\u001b[0;32m----> 5\u001b[0;31m \u001b[0mtrain_dataset\u001b[0m \u001b[0;34m=\u001b[0m \u001b[0mtrain_dataset\u001b[0m\u001b[0;34m.\u001b[0m\u001b[0mtorch\u001b[0m\u001b[0;34m.\u001b[0m\u001b[0mtransforms\u001b[0m\u001b[0;34m.\u001b[0m\u001b[0mToTensor\u001b[0m\u001b[0;34m(\u001b[0m\u001b[0;34m)\u001b[0m\u001b[0;34m\u001b[0m\u001b[0;34m\u001b[0m\u001b[0m\n\u001b[0m",
            "\u001b[0;31mAttributeError\u001b[0m: 'numpy.ndarray' object has no attribute 'torch'"
          ]
        }
      ]
    },
    {
      "cell_type": "code",
      "source": [
        "examples = iter(train_loader)\n",
        "samples, labels = x, y\n",
        "print(samples.shape, labels.shape)"
      ],
      "metadata": {
        "colab": {
          "base_uri": "https://localhost:8080/"
        },
        "id": "zCYSzuDxtJx1",
        "outputId": "6f1fab7b-992d-4412-95e1-08a49cab4a89"
      },
      "execution_count": 12,
      "outputs": [
        {
          "output_type": "stream",
          "name": "stdout",
          "text": [
            "(30, 4000) (30, 1)\n"
          ]
        }
      ]
    },
    {
      "cell_type": "markdown",
      "source": [
        "#Создание нейронной сети"
      ],
      "metadata": {
        "id": "OsQ4OoSKxrmR"
      }
    },
    {
      "cell_type": "code",
      "source": [
        "class NeuralNet(nn.Module):\n",
        "  def __init__(self, input_size, hidden_size, num_classes):\n",
        "    super(NeuralNet, self).__init__()\n",
        "    self.l1 = nn.Linear(input_size, hidden_size)\n",
        "    self.relu = nn.ReLU()\n",
        "    self.l2 = nn.Linear(hidden_size, num_classes)\n",
        "\n",
        "  def forward(self, x):\n",
        "    out = self.l1(x)\n",
        "    out = self.relu(out)\n",
        "    out = self.l2(out)\n",
        "    return out\n"
      ],
      "metadata": {
        "id": "psneQ6gguTQO"
      },
      "execution_count": 13,
      "outputs": []
    },
    {
      "cell_type": "code",
      "source": [
        "model = NeuralNet(input_size, hidden_size, num_classes)"
      ],
      "metadata": {
        "id": "fEOw9LrLxqhg"
      },
      "execution_count": 14,
      "outputs": []
    },
    {
      "cell_type": "markdown",
      "source": [
        "Loss and optimizer"
      ],
      "metadata": {
        "id": "Lhe6kfOPx3YG"
      }
    },
    {
      "cell_type": "code",
      "source": [
        "L = nn.CrossEntropyLoss()\n",
        "optimizer = torch.optim.Adam(model.parameters(), lr=lr)"
      ],
      "metadata": {
        "id": "ezEMbjGAx5ZN"
      },
      "execution_count": 15,
      "outputs": []
    },
    {
      "cell_type": "markdown",
      "source": [
        "#Training loop"
      ],
      "metadata": {
        "id": "m-JRvLNRyRIl"
      }
    },
    {
      "cell_type": "code",
      "source": [
        "n_total_steps = len(train_loader)\n",
        "for epoch in range(num_epochs):\n",
        "  for i, (images, labels) in enumerate(train_loader):\n",
        "    images = images.reshape(-1, x.shape[0]*x.shape[1]).to(device)\n",
        "    labels = labels.to(device)\n",
        "\n",
        "    #forward path\n",
        "    outputs = model(images)\n",
        "    loss = L(outputs, labels)\n",
        "\n",
        "    #backward path\n",
        "    optimizer.zero_grad()\n",
        "    loss.backward()\n",
        "    optimizer.step()\n",
        "\n",
        "    if (i+1) % 100 == 0:\n",
        "       print(f'epoch {epoch+1} / {num_epochs}, step {i+1}/{n_total_steps}, loss = {loss.item():.4f}')\n"
      ],
      "metadata": {
        "colab": {
          "base_uri": "https://localhost:8080/",
          "height": 235
        },
        "id": "JcrFEtk1yS3N",
        "outputId": "1a7f4851-2b8b-42ac-e360-9dab57f5ff22"
      },
      "execution_count": 16,
      "outputs": [
        {
          "output_type": "error",
          "ename": "ValueError",
          "evalue": "ignored",
          "traceback": [
            "\u001b[0;31m---------------------------------------------------------------------------\u001b[0m",
            "\u001b[0;31mValueError\u001b[0m                                Traceback (most recent call last)",
            "\u001b[0;32m<ipython-input-16-a8421507c274>\u001b[0m in \u001b[0;36m<module>\u001b[0;34m\u001b[0m\n\u001b[1;32m      1\u001b[0m \u001b[0mn_total_steps\u001b[0m \u001b[0;34m=\u001b[0m \u001b[0mlen\u001b[0m\u001b[0;34m(\u001b[0m\u001b[0mtrain_loader\u001b[0m\u001b[0;34m)\u001b[0m\u001b[0;34m\u001b[0m\u001b[0;34m\u001b[0m\u001b[0m\n\u001b[1;32m      2\u001b[0m \u001b[0;32mfor\u001b[0m \u001b[0mepoch\u001b[0m \u001b[0;32min\u001b[0m \u001b[0mrange\u001b[0m\u001b[0;34m(\u001b[0m\u001b[0mnum_epochs\u001b[0m\u001b[0;34m)\u001b[0m\u001b[0;34m:\u001b[0m\u001b[0;34m\u001b[0m\u001b[0;34m\u001b[0m\u001b[0m\n\u001b[0;32m----> 3\u001b[0;31m   \u001b[0;32mfor\u001b[0m \u001b[0mi\u001b[0m\u001b[0;34m,\u001b[0m \u001b[0;34m(\u001b[0m\u001b[0mimages\u001b[0m\u001b[0;34m,\u001b[0m \u001b[0mlabels\u001b[0m\u001b[0;34m)\u001b[0m \u001b[0;32min\u001b[0m \u001b[0menumerate\u001b[0m\u001b[0;34m(\u001b[0m\u001b[0mtrain_loader\u001b[0m\u001b[0;34m)\u001b[0m\u001b[0;34m:\u001b[0m\u001b[0;34m\u001b[0m\u001b[0;34m\u001b[0m\u001b[0m\n\u001b[0m\u001b[1;32m      4\u001b[0m     \u001b[0mimages\u001b[0m \u001b[0;34m=\u001b[0m \u001b[0mimages\u001b[0m\u001b[0;34m.\u001b[0m\u001b[0mreshape\u001b[0m\u001b[0;34m(\u001b[0m\u001b[0;34m-\u001b[0m\u001b[0;36m1\u001b[0m\u001b[0;34m,\u001b[0m \u001b[0mx\u001b[0m\u001b[0;34m.\u001b[0m\u001b[0mshape\u001b[0m\u001b[0;34m[\u001b[0m\u001b[0;36m0\u001b[0m\u001b[0;34m]\u001b[0m\u001b[0;34m*\u001b[0m\u001b[0mx\u001b[0m\u001b[0;34m.\u001b[0m\u001b[0mshape\u001b[0m\u001b[0;34m[\u001b[0m\u001b[0;36m1\u001b[0m\u001b[0;34m]\u001b[0m\u001b[0;34m)\u001b[0m\u001b[0;34m.\u001b[0m\u001b[0mto\u001b[0m\u001b[0;34m(\u001b[0m\u001b[0mdevice\u001b[0m\u001b[0;34m)\u001b[0m\u001b[0;34m\u001b[0m\u001b[0;34m\u001b[0m\u001b[0m\n\u001b[1;32m      5\u001b[0m     \u001b[0mlabels\u001b[0m \u001b[0;34m=\u001b[0m \u001b[0mlabels\u001b[0m\u001b[0;34m.\u001b[0m\u001b[0mto\u001b[0m\u001b[0;34m(\u001b[0m\u001b[0mdevice\u001b[0m\u001b[0;34m)\u001b[0m\u001b[0;34m\u001b[0m\u001b[0;34m\u001b[0m\u001b[0m\n",
            "\u001b[0;31mValueError\u001b[0m: too many values to unpack (expected 2)"
          ]
        }
      ]
    },
    {
      "cell_type": "markdown",
      "source": [
        "#Test"
      ],
      "metadata": {
        "id": "ga6qUKpY04F1"
      }
    },
    {
      "cell_type": "code",
      "source": [
        "with torch.no_grad():\n",
        "  n_correct = 0\n",
        "  n_samples = 0\n",
        "  for images, labels in test_loader:\n",
        "    images = images.reshape(-1, x.shape[0]*x.shape[1]).to(device)\n",
        "    labels = labels.to(device)\n",
        "    outputs = model(images)\n",
        "\n",
        "    #value, index\n",
        "    _, predictions = torch.max(outputs, 1)\n",
        "    n_samples += labels.shape[0]\n",
        "    n_correct += (predictions == labels).sum().item()\n",
        "  acc = 100.0 * n_correct / n_samples\n",
        "  print(f'accuracy = {acc}')"
      ],
      "metadata": {
        "id": "Ff5AdQL005sM"
      },
      "execution_count": null,
      "outputs": []
    }
  ]
}