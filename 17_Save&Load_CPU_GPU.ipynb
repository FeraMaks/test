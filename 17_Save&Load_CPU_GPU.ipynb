{
  "nbformat": 4,
  "nbformat_minor": 0,
  "metadata": {
    "colab": {
      "provenance": [],
      "authorship_tag": "ABX9TyMMHhX07fIKWdT1Iu3re+Qe",
      "include_colab_link": true
    },
    "kernelspec": {
      "name": "python3",
      "display_name": "Python 3"
    },
    "language_info": {
      "name": "python"
    }
  },
  "cells": [
    {
      "cell_type": "markdown",
      "metadata": {
        "id": "view-in-github",
        "colab_type": "text"
      },
      "source": [
        "<a href=\"https://colab.research.google.com/github/FeraMaks/test/blob/main/17_Save%26Load_CPU_GPU.ipynb\" target=\"_parent\"><img src=\"https://colab.research.google.com/assets/colab-badge.svg\" alt=\"Open In Colab\"/></a>"
      ]
    },
    {
      "cell_type": "code",
      "execution_count": null,
      "metadata": {
        "id": "bhzOs8SOV0Wj"
      },
      "outputs": [],
      "source": [
        "import torch\n",
        "import roch.nn as nn"
      ]
    },
    {
      "cell_type": "markdown",
      "source": [
        "Save on GPU, Load on CPU"
      ],
      "metadata": {
        "id": "OyMIj-xwV5Sd"
      }
    },
    {
      "cell_type": "code",
      "source": [
        "device = torch.device(\"cuda\")\n",
        "model.to(device)\n",
        "torch.save(model.state_dict(), PATH)\n",
        "\n",
        "device = torch.device('cpu')\n",
        "model = Model(*args, **kwargs)\n",
        "model.load_state_dict(torch.load(PATH, map_location=device))"
      ],
      "metadata": {
        "id": "AxS2aa1fV7VB"
      },
      "execution_count": null,
      "outputs": []
    },
    {
      "cell_type": "markdown",
      "source": [
        "Save on GPU, Load on GPU"
      ],
      "metadata": {
        "id": "se-YAg8IWY_F"
      }
    },
    {
      "cell_type": "code",
      "source": [
        "device = torch.device(\"cuda\")\n",
        "model.to(device)\n",
        "torch.save(model.state_dict(), PATH)\n",
        "\n",
        "model = Model(*args, **kwargs)\n",
        "model.load_state_dict(torch.load(PATH))\n",
        "model.to(device)"
      ],
      "metadata": {
        "id": "bE46tAfrWWmR"
      },
      "execution_count": null,
      "outputs": []
    },
    {
      "cell_type": "markdown",
      "source": [
        "Save on CPU, Load on GPU"
      ],
      "metadata": {
        "id": "28SKiP9QW0BQ"
      }
    },
    {
      "cell_type": "code",
      "source": [
        "torch.save(model.state_dict(), PATH)\n",
        "\n",
        "device = torch.device(\"cuda\")\n",
        "model = Model(*args, **kwargs)\n",
        "model.load_state_dict(torch.load(PATH, map_location=\"cuda:=0\"))\n",
        "model.to(device)"
      ],
      "metadata": {
        "id": "RD0ietIPW2HI"
      },
      "execution_count": null,
      "outputs": []
    }
  ]
}