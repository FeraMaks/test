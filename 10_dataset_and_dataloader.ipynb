{
  "nbformat": 4,
  "nbformat_minor": 0,
  "metadata": {
    "colab": {
      "provenance": [],
      "authorship_tag": "ABX9TyMC3MUXUNXRtcMRZKtx7A2L",
      "include_colab_link": true
    },
    "kernelspec": {
      "name": "python3",
      "display_name": "Python 3"
    },
    "language_info": {
      "name": "python"
    }
  },
  "cells": [
    {
      "cell_type": "markdown",
      "metadata": {
        "id": "view-in-github",
        "colab_type": "text"
      },
      "source": [
        "<a href=\"https://colab.research.google.com/github/FeraMaks/test/blob/main/10_dataset_and_dataloader.ipynb\" target=\"_parent\"><img src=\"https://colab.research.google.com/assets/colab-badge.svg\" alt=\"Open In Colab\"/></a>"
      ]
    },
    {
      "cell_type": "markdown",
      "source": [
        "##✈Import libraries"
      ],
      "metadata": {
        "id": "uJAOr3iiQnL3"
      }
    },
    {
      "cell_type": "code",
      "execution_count": 1,
      "metadata": {
        "id": "-ELhG41AQZx9"
      },
      "outputs": [],
      "source": [
        "import torch\n",
        "import torchvision\n",
        "from torch.utils.data import Dataset, DataLoader\n",
        "import numpy as np\n",
        "import math\n",
        "\n",
        "from google.colab import drive"
      ]
    },
    {
      "cell_type": "code",
      "source": [
        "drive.mount('/content/drive/')"
      ],
      "metadata": {
        "colab": {
          "base_uri": "https://localhost:8080/"
        },
        "id": "S-UZ5ZHPXW7r",
        "outputId": "834a5902-eb5c-4fa1-ff61-f1c053a11219"
      },
      "execution_count": 2,
      "outputs": [
        {
          "output_type": "stream",
          "name": "stdout",
          "text": [
            "Drive already mounted at /content/drive/; to attempt to forcibly remount, call drive.mount(\"/content/drive/\", force_remount=True).\n"
          ]
        }
      ]
    },
    {
      "cell_type": "markdown",
      "source": [
        "#Data set"
      ],
      "metadata": {
        "id": "9pU7JAkYYvN0"
      }
    },
    {
      "cell_type": "code",
      "source": [
        "class WineDataset(Dataset):\n",
        "\n",
        "  def __init__(self, transform=None):\n",
        "    #data loading\n",
        "    xy = np.loadtxt('/content/drive/MyDrive/Dataset/wine.csv', delimiter=',', dtype=np.float32, skiprows=1)\n",
        "    self.x = (xy[:, 1:])\n",
        "    self.y = (xy[:,[0]]) #n\n",
        "    self.n_samples = xy.shape[0]\n",
        "    self.transform = transform\n",
        "\n",
        "  def __getitem__(self, index):\n",
        "    sample = self.x[index], self.y[index]\n",
        "\n",
        "    if self.transform:\n",
        "      sample = self.transform(sample)\n",
        "\n",
        "    return sample\n",
        "\n",
        "  def __len__(self):\n",
        "    return self.n_samples"
      ],
      "metadata": {
        "id": "8JeNfrmkYw_f"
      },
      "execution_count": 7,
      "outputs": []
    },
    {
      "cell_type": "code",
      "source": [
        "class ToTensor:\n",
        "  def __call__(self,sample):\n",
        "    inputs, targets = sample\n",
        "    return torch.from_numpy(inputs), torch.from_numpy(targets)"
      ],
      "metadata": {
        "id": "ja6Diny-iuFw"
      },
      "execution_count": 4,
      "outputs": []
    },
    {
      "cell_type": "code",
      "source": [
        "class MultTransform:\n",
        "  def __init__(self, factor):\n",
        "    self.factor = factor\n",
        "\n",
        "  def __call__(self,sample):\n",
        "    inputs, targets = sample\n",
        "    inputs *= self.factor\n",
        "    return inputs, targets"
      ],
      "metadata": {
        "id": "_ivSLkhWkznU"
      },
      "execution_count": 18,
      "outputs": []
    },
    {
      "cell_type": "code",
      "source": [
        "dataset = WineDataset(transform=ToTensor())\n",
        "first_data = dataset[0]\n",
        "print(first_data)"
      ],
      "metadata": {
        "colab": {
          "base_uri": "https://localhost:8080/"
        },
        "id": "aZ5g0cCnc2PO",
        "outputId": "d2391c7a-b5e9-4e9b-bc9a-e0b7d26742ff"
      },
      "execution_count": 16,
      "outputs": [
        {
          "output_type": "stream",
          "name": "stdout",
          "text": [
            "(tensor([1.4230e+01, 1.7100e+00, 2.4300e+00, 1.5600e+01, 1.2700e+02, 2.8000e+00,\n",
            "        3.0600e+00, 2.8000e-01, 2.2900e+00, 5.6400e+00, 1.0400e+00, 3.9200e+00,\n",
            "        1.0650e+03]), tensor([1.]))\n"
          ]
        }
      ]
    },
    {
      "cell_type": "code",
      "source": [
        "composed = torchvision.transforms.Compose([ToTensor(), MultTransform(0.5)])\n",
        "dataset = WineDataset(transform=composed)\n",
        "first_data = dataset[0]\n",
        "print(first_data)"
      ],
      "metadata": {
        "colab": {
          "base_uri": "https://localhost:8080/"
        },
        "id": "epGNJue4lbCR",
        "outputId": "4b725685-cacb-4a82-e840-c35bca52ce30"
      },
      "execution_count": 19,
      "outputs": [
        {
          "output_type": "stream",
          "name": "stdout",
          "text": [
            "(tensor([7.1150e+00, 8.5500e-01, 1.2150e+00, 7.8000e+00, 6.3500e+01, 1.4000e+00,\n",
            "        1.5300e+00, 1.4000e-01, 1.1450e+00, 2.8200e+00, 5.2000e-01, 1.9600e+00,\n",
            "        5.3250e+02]), tensor([1.]))\n"
          ]
        }
      ]
    },
    {
      "cell_type": "code",
      "source": [
        "dataloader = DataLoader(dataset=dataset, batch_size = 4, shuffle=True, num_workers=2)"
      ],
      "metadata": {
        "id": "kO6-eNh7dN4_"
      },
      "execution_count": 9,
      "outputs": []
    },
    {
      "cell_type": "code",
      "source": [
        "dataiter = iter(dataloader)\n",
        "data = dataiter.next()\n",
        "features, labels = data\n",
        "print(features, labels)\n",
        "#inputs=features, targets=labels"
      ],
      "metadata": {
        "colab": {
          "base_uri": "https://localhost:8080/"
        },
        "id": "ctjT9zyXdqq1",
        "outputId": "21181326-384a-4c7b-c43e-22d9caa415d3"
      },
      "execution_count": 11,
      "outputs": [
        {
          "output_type": "stream",
          "name": "stdout",
          "text": [
            "tensor([[1.2080e+01, 2.0800e+00, 1.7000e+00, 1.7500e+01, 9.7000e+01, 2.2300e+00,\n",
            "         2.1700e+00, 2.6000e-01, 1.4000e+00, 3.3000e+00, 1.2700e+00, 2.9600e+00,\n",
            "         7.1000e+02],\n",
            "        [1.2700e+01, 3.5500e+00, 2.3600e+00, 2.1500e+01, 1.0600e+02, 1.7000e+00,\n",
            "         1.2000e+00, 1.7000e-01, 8.4000e-01, 5.0000e+00, 7.8000e-01, 1.2900e+00,\n",
            "         6.0000e+02],\n",
            "        [1.2420e+01, 1.6100e+00, 2.1900e+00, 2.2500e+01, 1.0800e+02, 2.0000e+00,\n",
            "         2.0900e+00, 3.4000e-01, 1.6100e+00, 2.0600e+00, 1.0600e+00, 2.9600e+00,\n",
            "         3.4500e+02],\n",
            "        [1.2690e+01, 1.5300e+00, 2.2600e+00, 2.0700e+01, 8.0000e+01, 1.3800e+00,\n",
            "         1.4600e+00, 5.8000e-01, 1.6200e+00, 3.0500e+00, 9.6000e-01, 2.0600e+00,\n",
            "         4.9500e+02]]) tensor([[2.],\n",
            "        [3.],\n",
            "        [2.],\n",
            "        [2.]])\n"
          ]
        }
      ]
    },
    {
      "cell_type": "markdown",
      "source": [
        "# Training loop (empty_"
      ],
      "metadata": {
        "id": "ExkvB2iieYSl"
      }
    },
    {
      "cell_type": "code",
      "source": [
        "num_epoch = 2\n",
        "batch_size = 4\n",
        "total_samples = len(dataset)\n",
        "n_iteration = math.ceil(total_samples/batch_size)"
      ],
      "metadata": {
        "id": "d48QiCKneJHP"
      },
      "execution_count": 10,
      "outputs": []
    },
    {
      "cell_type": "code",
      "source": [
        "for epoch in range(num_epoch):\n",
        "  for i, (inputs, targets) in enumerate (dataloader):\n",
        "    #forward\n",
        "    #backward\n",
        "    #update\n",
        "    if (i+1)% 5 == 0:\n",
        "      print(f'epoch {epoch}/{num_epoch}, iteration {i+1}/{n_iteration},inputs {inputs.shape}, targets {targets.shape}')"
      ],
      "metadata": {
        "colab": {
          "base_uri": "https://localhost:8080/"
        },
        "id": "WMt8pnxje7nW",
        "outputId": "fed91202-c23f-435c-b174-a13adc261010"
      },
      "execution_count": 12,
      "outputs": [
        {
          "output_type": "stream",
          "name": "stdout",
          "text": [
            "epoch 0/2, iteration 5/45,inputs torch.Size([4, 13]), targets torch.Size([4, 1])\n",
            "epoch 0/2, iteration 10/45,inputs torch.Size([4, 13]), targets torch.Size([4, 1])\n",
            "epoch 0/2, iteration 15/45,inputs torch.Size([4, 13]), targets torch.Size([4, 1])\n",
            "epoch 0/2, iteration 20/45,inputs torch.Size([4, 13]), targets torch.Size([4, 1])\n",
            "epoch 0/2, iteration 25/45,inputs torch.Size([4, 13]), targets torch.Size([4, 1])\n",
            "epoch 0/2, iteration 30/45,inputs torch.Size([4, 13]), targets torch.Size([4, 1])\n",
            "epoch 0/2, iteration 35/45,inputs torch.Size([4, 13]), targets torch.Size([4, 1])\n",
            "epoch 0/2, iteration 40/45,inputs torch.Size([4, 13]), targets torch.Size([4, 1])\n",
            "epoch 0/2, iteration 45/45,inputs torch.Size([2, 13]), targets torch.Size([2, 1])\n",
            "epoch 1/2, iteration 5/45,inputs torch.Size([4, 13]), targets torch.Size([4, 1])\n",
            "epoch 1/2, iteration 10/45,inputs torch.Size([4, 13]), targets torch.Size([4, 1])\n",
            "epoch 1/2, iteration 15/45,inputs torch.Size([4, 13]), targets torch.Size([4, 1])\n",
            "epoch 1/2, iteration 20/45,inputs torch.Size([4, 13]), targets torch.Size([4, 1])\n",
            "epoch 1/2, iteration 25/45,inputs torch.Size([4, 13]), targets torch.Size([4, 1])\n",
            "epoch 1/2, iteration 30/45,inputs torch.Size([4, 13]), targets torch.Size([4, 1])\n",
            "epoch 1/2, iteration 35/45,inputs torch.Size([4, 13]), targets torch.Size([4, 1])\n",
            "epoch 1/2, iteration 40/45,inputs torch.Size([4, 13]), targets torch.Size([4, 1])\n",
            "epoch 1/2, iteration 45/45,inputs torch.Size([2, 13]), targets torch.Size([2, 1])\n"
          ]
        }
      ]
    }
  ]
}