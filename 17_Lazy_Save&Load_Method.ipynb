{
  "nbformat": 4,
  "nbformat_minor": 0,
  "metadata": {
    "colab": {
      "provenance": [],
      "authorship_tag": "ABX9TyNICsAJRCT3/nY3VKOis1mK",
      "include_colab_link": true
    },
    "kernelspec": {
      "name": "python3",
      "display_name": "Python 3"
    },
    "language_info": {
      "name": "python"
    }
  },
  "cells": [
    {
      "cell_type": "markdown",
      "metadata": {
        "id": "view-in-github",
        "colab_type": "text"
      },
      "source": [
        "<a href=\"https://colab.research.google.com/github/FeraMaks/test/blob/main/17_Lazy_Save%26Load_Method.ipynb\" target=\"_parent\"><img src=\"https://colab.research.google.com/assets/colab-badge.svg\" alt=\"Open In Colab\"/></a>"
      ]
    },
    {
      "cell_type": "code",
      "execution_count": 1,
      "metadata": {
        "id": "cSwOCJBiPFjd"
      },
      "outputs": [],
      "source": [
        "import torch\n",
        "import torch.nn as nn"
      ]
    },
    {
      "cell_type": "code",
      "source": [
        "class Model(nn.Module):\n",
        "  def __init__(self, n_input_features):\n",
        "    super(Model, self).__init__()\n",
        "    self.linear = nn.Linear(n_input_features, 1)\n",
        "  \n",
        "  def forward(self, x):\n",
        "    y_pred = torch.sigmoid(self.linear(x))\n",
        "    return y_pred\n",
        "\n",
        "#model = Model(n_input_features=6)\n",
        "#train your model...\n",
        "\n",
        "FILE = \"model.pth\"\n",
        "#torch.save(model, FILE)\n",
        "model = torch.load(FILE)\n",
        "model.eval()\n",
        "\n",
        "for param in model.parameters():\n",
        "  print(param)"
      ],
      "metadata": {
        "colab": {
          "base_uri": "https://localhost:8080/"
        },
        "id": "5e1pKCVZPIpK",
        "outputId": "8c24e765-9ea4-485a-c53d-7edcd32f9647"
      },
      "execution_count": 3,
      "outputs": [
        {
          "output_type": "stream",
          "name": "stdout",
          "text": [
            "Parameter containing:\n",
            "tensor([[-0.2787,  0.0969,  0.1178, -0.2182,  0.3474,  0.3053]],\n",
            "       requires_grad=True)\n",
            "Parameter containing:\n",
            "tensor([-0.1046], requires_grad=True)\n"
          ]
        }
      ]
    }
  ]
}