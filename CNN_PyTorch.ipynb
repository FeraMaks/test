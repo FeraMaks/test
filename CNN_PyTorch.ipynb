{
  "nbformat": 4,
  "nbformat_minor": 0,
  "metadata": {
    "colab": {
      "provenance": [],
      "authorship_tag": "ABX9TyNvhI3vktTWThb/xS5EzHQP",
      "include_colab_link": true
    },
    "kernelspec": {
      "name": "python3",
      "display_name": "Python 3"
    },
    "language_info": {
      "name": "python"
    }
  },
  "cells": [
    {
      "cell_type": "markdown",
      "metadata": {
        "id": "view-in-github",
        "colab_type": "text"
      },
      "source": [
        "<a href=\"https://colab.research.google.com/github/FeraMaks/test/blob/main/CNN_PyTorch.ipynb\" target=\"_parent\"><img src=\"https://colab.research.google.com/assets/colab-badge.svg\" alt=\"Open In Colab\"/></a>"
      ]
    },
    {
      "cell_type": "code",
      "execution_count": 1,
      "metadata": {
        "id": "9vt37IWFN0j0"
      },
      "outputs": [],
      "source": [
        "import torch\n",
        "import torch.nn as nn\n",
        "import torch.nn.functional as F\n",
        "import torchvision\n",
        "import torchvision.transforms as transforms\n",
        "import matplotlib.pyplot as plt\n",
        "import numpy as np"
      ]
    },
    {
      "cell_type": "markdown",
      "source": [
        "##Device configuration"
      ],
      "metadata": {
        "id": "sTxlsFrbPwcO"
      }
    },
    {
      "cell_type": "code",
      "source": [
        "device = torch.device('cuda' if torch.cuda.is_available() else 'cpu')"
      ],
      "metadata": {
        "id": "lpYWZ10uPvzw"
      },
      "execution_count": 2,
      "outputs": []
    },
    {
      "cell_type": "markdown",
      "source": [
        "##Hyper parameters"
      ],
      "metadata": {
        "id": "v7kKIAPAQBRF"
      }
    },
    {
      "cell_type": "code",
      "source": [
        "num_epochs = 12\n",
        "batch_size = 4\n",
        "lr = 0.001"
      ],
      "metadata": {
        "id": "YwBAwI6FQEHk"
      },
      "execution_count": 3,
      "outputs": []
    },
    {
      "cell_type": "markdown",
      "source": [
        "dataset has PILImage images of range [0,1]\n",
        "we transform them to Tensors of normalizer range [-1, 1]"
      ],
      "metadata": {
        "id": "RMIo6SCMQXRU"
      }
    },
    {
      "cell_type": "code",
      "source": [
        "transform = transforms.Compose(\n",
        "                        [transforms.ToTensor(),\n",
        "                         transforms.Normalize((0.5, 0.5, 0.5), (0.5, 0.5, 0.5))])\n",
        "train_dataset = torchvision.datasets.CIFAR10(root='./data', train=True,\n",
        "                                             download=True, transform=transform)\n",
        "test_dataset = torchvision.datasets.CIFAR10(root='./data', train=False,\n",
        "                                            download=True, transform=transform)\n",
        "train_loader = torch.utils.data.DataLoader(train_dataset, batch_size=batch_size,\n",
        "                                           shuffle=True)\n",
        "test_loader = torch.utils.data.DataLoader(test_dataset, batch_size=batch_size,\n",
        "                                           shuffle=False)\n",
        "classes = ('plane', 'car', 'bird', 'cat',\n",
        "           'deer', 'dog', 'frog', 'horse', 'ship', 'truck')"
      ],
      "metadata": {
        "colab": {
          "base_uri": "https://localhost:8080/"
        },
        "id": "l4OlGdbqQeVL",
        "outputId": "cee747d8-85a6-469c-def5-cbdd98485e25"
      },
      "execution_count": 4,
      "outputs": [
        {
          "output_type": "stream",
          "name": "stdout",
          "text": [
            "Files already downloaded and verified\n",
            "Files already downloaded and verified\n"
          ]
        }
      ]
    },
    {
      "cell_type": "markdown",
      "source": [
        "##Implement CNN"
      ],
      "metadata": {
        "id": "sC5x-4ABXc2g"
      }
    },
    {
      "cell_type": "code",
      "source": [
        "class ConvNet(nn.Module):\n",
        "  def __init__(self):\n",
        "    super(ConvNet, self).__init__()\n",
        "    self.conv1 = nn.Conv2d(3, 6, 5)\n",
        "    self.pool = nn.MaxPool2d(2, 2)\n",
        "    self.conv2 = nn.Conv2d(6, 16, 5)\n",
        "    self.fc1 = nn.Linear(16*5*5, 120)\n",
        "    self.fc2 = nn.Linear(120, 84)\n",
        "    self.fc3 = nn.Linear(84, 10)\n",
        "  def forward(self, x):\n",
        "    x = self.pool(F.relu(self.conv1(x)))\n",
        "    x = self.pool(F.relu(self.conv2(x)))\n",
        "    x = x.view(-1, 16*5*5)\n",
        "    x = F.relu(self.fc1(x))\n",
        "    x = F.relu(self.fc2(x))\n",
        "    x = self.fc3(x)\n",
        "    return x\n",
        "model = ConvNet().to(device)\n",
        "\n",
        "L = nn.CrossEntropyLoss()\n",
        "optimizer = torch.optim.SGD(model.parameters(),lr=lr)\n",
        "\n",
        "n_total_steps = len(train_loader)\n",
        "for epoch in range(num_epochs):\n",
        "  for i, (images, labels) in enumerate(train_loader):\n",
        "    images = images.to(device)\n",
        "    labels = labels.to(device)\n",
        "\n",
        "    #Forward pass\n",
        "    outputs = model(images)\n",
        "    loss = L(outputs, labels)\n",
        "\n",
        "    #Backward and optimize\n",
        "    optimizer.zero_grad()\n",
        "    loss.backward()\n",
        "    optimizer.step()\n",
        "\n",
        "    if (i+1) % 2000 == 0:\n",
        "      print(f'Epoch [{epoch+1}/{num_epochs}], Step [{i+1}/{n_total_steps}], Loss: {loss.item():.4f}')\n",
        "  print('Finished Training')"
      ],
      "metadata": {
        "colab": {
          "base_uri": "https://localhost:8080/"
        },
        "id": "C_tEGohvXfF-",
        "outputId": "ca85bda9-3277-4f0a-fc49-0996dd47a589"
      },
      "execution_count": 5,
      "outputs": [
        {
          "output_type": "stream",
          "name": "stdout",
          "text": [
            "Epoch [1/12], Step [2000/12500], Loss: 2.3048\n",
            "Epoch [1/12], Step [4000/12500], Loss: 2.2969\n",
            "Epoch [1/12], Step [6000/12500], Loss: 2.3004\n",
            "Epoch [1/12], Step [8000/12500], Loss: 2.3021\n",
            "Epoch [1/12], Step [10000/12500], Loss: 2.2979\n",
            "Epoch [1/12], Step [12000/12500], Loss: 2.2765\n",
            "Finished Training\n",
            "Epoch [2/12], Step [2000/12500], Loss: 2.2170\n",
            "Epoch [2/12], Step [4000/12500], Loss: 2.2170\n",
            "Epoch [2/12], Step [6000/12500], Loss: 1.8947\n",
            "Epoch [2/12], Step [8000/12500], Loss: 1.8913\n",
            "Epoch [2/12], Step [10000/12500], Loss: 1.8236\n",
            "Epoch [2/12], Step [12000/12500], Loss: 2.1252\n",
            "Finished Training\n",
            "Epoch [3/12], Step [2000/12500], Loss: 1.7358\n",
            "Epoch [3/12], Step [4000/12500], Loss: 1.6769\n",
            "Epoch [3/12], Step [6000/12500], Loss: 2.9624\n",
            "Epoch [3/12], Step [8000/12500], Loss: 1.2498\n",
            "Epoch [3/12], Step [10000/12500], Loss: 3.2148\n",
            "Epoch [3/12], Step [12000/12500], Loss: 1.4218\n",
            "Finished Training\n",
            "Epoch [4/12], Step [2000/12500], Loss: 1.4034\n",
            "Epoch [4/12], Step [4000/12500], Loss: 1.2631\n",
            "Epoch [4/12], Step [6000/12500], Loss: 2.1592\n",
            "Epoch [4/12], Step [8000/12500], Loss: 1.4820\n",
            "Epoch [4/12], Step [10000/12500], Loss: 2.4795\n",
            "Epoch [4/12], Step [12000/12500], Loss: 2.0087\n",
            "Finished Training\n",
            "Epoch [5/12], Step [2000/12500], Loss: 1.4818\n",
            "Epoch [5/12], Step [4000/12500], Loss: 1.3815\n",
            "Epoch [5/12], Step [6000/12500], Loss: 1.7767\n",
            "Epoch [5/12], Step [8000/12500], Loss: 1.7949\n",
            "Epoch [5/12], Step [10000/12500], Loss: 1.3263\n",
            "Epoch [5/12], Step [12000/12500], Loss: 2.0034\n",
            "Finished Training\n",
            "Epoch [6/12], Step [2000/12500], Loss: 1.2229\n",
            "Epoch [6/12], Step [4000/12500], Loss: 1.3229\n",
            "Epoch [6/12], Step [6000/12500], Loss: 1.6771\n",
            "Epoch [6/12], Step [8000/12500], Loss: 1.3673\n",
            "Epoch [6/12], Step [10000/12500], Loss: 0.5314\n",
            "Epoch [6/12], Step [12000/12500], Loss: 1.7452\n",
            "Finished Training\n",
            "Epoch [7/12], Step [2000/12500], Loss: 0.6177\n",
            "Epoch [7/12], Step [4000/12500], Loss: 1.4856\n",
            "Epoch [7/12], Step [6000/12500], Loss: 1.6061\n",
            "Epoch [7/12], Step [8000/12500], Loss: 1.6715\n",
            "Epoch [7/12], Step [10000/12500], Loss: 1.6543\n",
            "Epoch [7/12], Step [12000/12500], Loss: 0.8349\n",
            "Finished Training\n",
            "Epoch [8/12], Step [2000/12500], Loss: 1.4405\n",
            "Epoch [8/12], Step [4000/12500], Loss: 1.0099\n",
            "Epoch [8/12], Step [6000/12500], Loss: 0.6058\n",
            "Epoch [8/12], Step [8000/12500], Loss: 0.9836\n",
            "Epoch [8/12], Step [10000/12500], Loss: 0.5964\n",
            "Epoch [8/12], Step [12000/12500], Loss: 0.7961\n",
            "Finished Training\n",
            "Epoch [9/12], Step [2000/12500], Loss: 1.5927\n",
            "Epoch [9/12], Step [4000/12500], Loss: 0.9954\n",
            "Epoch [9/12], Step [6000/12500], Loss: 0.9398\n",
            "Epoch [9/12], Step [8000/12500], Loss: 1.4616\n",
            "Epoch [9/12], Step [10000/12500], Loss: 1.3270\n",
            "Epoch [9/12], Step [12000/12500], Loss: 1.7366\n",
            "Finished Training\n",
            "Epoch [10/12], Step [2000/12500], Loss: 1.6761\n",
            "Epoch [10/12], Step [4000/12500], Loss: 0.4953\n",
            "Epoch [10/12], Step [6000/12500], Loss: 0.5428\n",
            "Epoch [10/12], Step [8000/12500], Loss: 0.5544\n",
            "Epoch [10/12], Step [10000/12500], Loss: 1.4652\n",
            "Epoch [10/12], Step [12000/12500], Loss: 1.7077\n",
            "Finished Training\n",
            "Epoch [11/12], Step [2000/12500], Loss: 1.2985\n",
            "Epoch [11/12], Step [4000/12500], Loss: 1.3105\n",
            "Epoch [11/12], Step [6000/12500], Loss: 0.9071\n",
            "Epoch [11/12], Step [8000/12500], Loss: 1.2212\n",
            "Epoch [11/12], Step [10000/12500], Loss: 1.8185\n",
            "Epoch [11/12], Step [12000/12500], Loss: 1.1367\n",
            "Finished Training\n",
            "Epoch [12/12], Step [2000/12500], Loss: 0.6165\n",
            "Epoch [12/12], Step [4000/12500], Loss: 0.6570\n",
            "Epoch [12/12], Step [6000/12500], Loss: 0.6579\n",
            "Epoch [12/12], Step [8000/12500], Loss: 0.7956\n",
            "Epoch [12/12], Step [10000/12500], Loss: 0.3710\n",
            "Epoch [12/12], Step [12000/12500], Loss: 1.4230\n",
            "Finished Training\n"
          ]
        }
      ]
    },
    {
      "cell_type": "code",
      "source": [
        "with torch.no_grad():\n",
        "  n_correct = 0\n",
        "  n_samples = 0\n",
        "  n_class_correct = [0 for i in range(10)]\n",
        "  n_class_samples = [0 for i in range(10)]\n",
        "  for images, labels in test_loader:\n",
        "    images = images.to(device)\n",
        "    labels = labels.to(device)\n",
        "    outputs = model(images)\n",
        "    #max returns (value, index)\n",
        "    _, predicted = torch.max(outputs, 1)\n",
        "    n_samples += labels.size(0)\n",
        "    n_correct += (predicted == labels).sum().item()\n",
        "\n",
        "    for i in range(batch_size):\n",
        "      label = labels[i]\n",
        "      pred = predicted[i]\n",
        "      if (label == pred):\n",
        "        n_class_correct[label] += 1\n",
        "      n_class_samples[label] += 1\n",
        "  acc = 100.0 * n_correct / n_samples\n",
        "  print(f'Accuracy of the network: {acc} %')\n",
        "\n",
        "  for i in range(10):\n",
        "    acc = 100.0 *n_class_correct[i] / n_class_samples[i]\n",
        "    print(f'Accuracy of {classes[i]}: {acc} %')"
      ],
      "metadata": {
        "colab": {
          "base_uri": "https://localhost:8080/"
        },
        "id": "RwXtTSz4ZnqA",
        "outputId": "8a40cc3b-4139-4256-e99f-1a6803fd8361"
      },
      "execution_count": 6,
      "outputs": [
        {
          "output_type": "stream",
          "name": "stdout",
          "text": [
            "Accuracy of the network: 59.36 %\n",
            "Accuracy of plane: 59.1 %\n",
            "Accuracy of car: 72.7 %\n",
            "Accuracy of bird: 32.9 %\n",
            "Accuracy of cat: 54.3 %\n",
            "Accuracy of deer: 47.7 %\n",
            "Accuracy of dog: 41.3 %\n",
            "Accuracy of frog: 74.3 %\n",
            "Accuracy of horse: 63.4 %\n",
            "Accuracy of ship: 82.7 %\n",
            "Accuracy of truck: 65.2 %\n"
          ]
        }
      ]
    }
  ]
}