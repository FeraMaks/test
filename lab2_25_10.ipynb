{
  "nbformat": 4,
  "nbformat_minor": 0,
  "metadata": {
    "colab": {
      "provenance": [],
      "collapsed_sections": [],
      "authorship_tag": "ABX9TyMz9WzDckv5zS10Rg0AmLuP",
      "include_colab_link": true
    },
    "kernelspec": {
      "name": "python3",
      "display_name": "Python 3"
    },
    "language_info": {
      "name": "python"
    }
  },
  "cells": [
    {
      "cell_type": "markdown",
      "metadata": {
        "id": "view-in-github",
        "colab_type": "text"
      },
      "source": [
        "<a href=\"https://colab.research.google.com/github/FeraMaks/test/blob/main/lab2_25_10.ipynb\" target=\"_parent\"><img src=\"https://colab.research.google.com/assets/colab-badge.svg\" alt=\"Open In Colab\"/></a>"
      ]
    },
    {
      "cell_type": "code",
      "execution_count": 1,
      "metadata": {
        "id": "JIFShNqA2sa1"
      },
      "outputs": [],
      "source": [
        "import numpy as np\n",
        "import numpy.linalg as lina\n",
        "import matplotlib.pyplot as plt\n",
        "from matplotlib import cm\n",
        "from mpl_toolkits.mplot3d import Axes3D\n",
        "import pandas as pd"
      ]
    },
    {
      "cell_type": "code",
      "source": [
        "N1 = 100\n",
        "N2 = 100\n",
        "L1 = 1\n",
        "L2 = 1\n",
        "X1 = np.linspace(0,L1,N1)\n",
        "X2 = np.linspace(0,L2,N2)\n",
        "Tbot = np.zeros((1,N1))\n",
        "Ttop = np.zeros((N2,1))\n",
        "Ta, Tb, Tc = 200, 300, 400\n",
        "a = 1/((X1[1]-X1[0])**2)\n",
        "b = 1/((X2[1]-X2[0])**2)\n",
        "c = -2*(a+b)"
      ],
      "metadata": {
        "id": "f0FXuqeK8u8M"
      },
      "execution_count": 2,
      "outputs": []
    },
    {
      "cell_type": "code",
      "source": [
        "K = np.zeros(((N1-1)*(N2-1),(N1-1)*(N2-1)))\n",
        "T = np.zeros(((N1),(N2)))\n",
        "P = np.zeros(((N1-1)*(N2-1),1))\n",
        "T"
      ],
      "metadata": {
        "id": "iVSssOe-866-",
        "colab": {
          "base_uri": "https://localhost:8080/"
        },
        "outputId": "b86c5332-c1c0-406a-f3e4-d138effab4f9"
      },
      "execution_count": 3,
      "outputs": [
        {
          "output_type": "execute_result",
          "data": {
            "text/plain": [
              "array([[0., 0., 0., ..., 0., 0., 0.],\n",
              "       [0., 0., 0., ..., 0., 0., 0.],\n",
              "       [0., 0., 0., ..., 0., 0., 0.],\n",
              "       ...,\n",
              "       [0., 0., 0., ..., 0., 0., 0.],\n",
              "       [0., 0., 0., ..., 0., 0., 0.],\n",
              "       [0., 0., 0., ..., 0., 0., 0.]])"
            ]
          },
          "metadata": {},
          "execution_count": 3
        }
      ]
    },
    {
      "cell_type": "code",
      "source": [
        "for j in range (N2-1):\n",
        "  for i in range (N1-1):\n",
        "    K[i+j*(N1-1),i+j*(N2-1)] = c\n",
        "    if i != N2-2:\n",
        "      K[i+1+j*(N1-1),i+j*(N2-1)] = a\n",
        "    if j != N2-2:\n",
        "      K[i-1+j*(N1-1),i+j*(N2-1)] = a\n",
        "      K[i+j*(N1-1),i+(j+1)*(N2-1)] = b\n",
        "    if i == (N1-2):\n",
        "      K[i+j*(N1-1),i+j*(N2-1)] = c+a\n",
        "  if j == (N2-2):\n",
        "    for i in range (N1-1):\n",
        "      K[i+j*(N1-1),i+j*(N2-1)] = c+b\n",
        "    if i == (N1-2):\n",
        "      K[i+j*(N1-1),i+j*(N2-1)] = c+b+a\n",
        "K"
      ],
      "metadata": {
        "id": "qJjxExNK-muP",
        "colab": {
          "base_uri": "https://localhost:8080/"
        },
        "outputId": "b3140aed-06bd-4810-f144-05b86d8e84e6"
      },
      "execution_count": 4,
      "outputs": [
        {
          "output_type": "execute_result",
          "data": {
            "text/plain": [
              "array([[-39204.,   9801.,      0., ...,      0.,      0.,      0.],\n",
              "       [  9801., -39204.,   9801., ...,      0.,      0.,      0.],\n",
              "       [     0.,   9801., -39204., ...,      0.,      0.,      0.],\n",
              "       ...,\n",
              "       [     0.,      0.,      0., ..., -29403.,      0.,      0.],\n",
              "       [     0.,      0.,      0., ...,   9801., -29403.,      0.],\n",
              "       [  9801.,      0.,      0., ...,      0.,   9801., -19602.]])"
            ]
          },
          "metadata": {},
          "execution_count": 4
        }
      ]
    },
    {
      "cell_type": "code",
      "source": [
        "for i in range (N1):\n",
        "  Tbot[0,i] = (Tc-Ta)/L2*X2[i]+Ta\n",
        "Tbot"
      ],
      "metadata": {
        "id": "gMmxmJM3woib",
        "colab": {
          "base_uri": "https://localhost:8080/"
        },
        "outputId": "f12e637c-875c-42eb-905f-c3df1d8dc123"
      },
      "execution_count": 5,
      "outputs": [
        {
          "output_type": "execute_result",
          "data": {
            "text/plain": [
              "array([[200.        , 202.02020202, 204.04040404, 206.06060606,\n",
              "        208.08080808, 210.1010101 , 212.12121212, 214.14141414,\n",
              "        216.16161616, 218.18181818, 220.2020202 , 222.22222222,\n",
              "        224.24242424, 226.26262626, 228.28282828, 230.3030303 ,\n",
              "        232.32323232, 234.34343434, 236.36363636, 238.38383838,\n",
              "        240.4040404 , 242.42424242, 244.44444444, 246.46464646,\n",
              "        248.48484848, 250.50505051, 252.52525253, 254.54545455,\n",
              "        256.56565657, 258.58585859, 260.60606061, 262.62626263,\n",
              "        264.64646465, 266.66666667, 268.68686869, 270.70707071,\n",
              "        272.72727273, 274.74747475, 276.76767677, 278.78787879,\n",
              "        280.80808081, 282.82828283, 284.84848485, 286.86868687,\n",
              "        288.88888889, 290.90909091, 292.92929293, 294.94949495,\n",
              "        296.96969697, 298.98989899, 301.01010101, 303.03030303,\n",
              "        305.05050505, 307.07070707, 309.09090909, 311.11111111,\n",
              "        313.13131313, 315.15151515, 317.17171717, 319.19191919,\n",
              "        321.21212121, 323.23232323, 325.25252525, 327.27272727,\n",
              "        329.29292929, 331.31313131, 333.33333333, 335.35353535,\n",
              "        337.37373737, 339.39393939, 341.41414141, 343.43434343,\n",
              "        345.45454545, 347.47474747, 349.49494949, 351.51515152,\n",
              "        353.53535354, 355.55555556, 357.57575758, 359.5959596 ,\n",
              "        361.61616162, 363.63636364, 365.65656566, 367.67676768,\n",
              "        369.6969697 , 371.71717172, 373.73737374, 375.75757576,\n",
              "        377.77777778, 379.7979798 , 381.81818182, 383.83838384,\n",
              "        385.85858586, 387.87878788, 389.8989899 , 391.91919192,\n",
              "        393.93939394, 395.95959596, 397.97979798, 400.        ]])"
            ]
          },
          "metadata": {},
          "execution_count": 5
        }
      ]
    },
    {
      "cell_type": "code",
      "source": [
        "for i in range (N2):\n",
        "  Ttop[i,0] = (Tb-Ta)/L1*X1[i]+Ta\n",
        "Ttop"
      ],
      "metadata": {
        "id": "9IcW8NiGyF32",
        "colab": {
          "base_uri": "https://localhost:8080/"
        },
        "outputId": "ec936f70-69c2-40ec-81f0-50ae12768520"
      },
      "execution_count": 6,
      "outputs": [
        {
          "output_type": "execute_result",
          "data": {
            "text/plain": [
              "array([[200.        ],\n",
              "       [201.01010101],\n",
              "       [202.02020202],\n",
              "       [203.03030303],\n",
              "       [204.04040404],\n",
              "       [205.05050505],\n",
              "       [206.06060606],\n",
              "       [207.07070707],\n",
              "       [208.08080808],\n",
              "       [209.09090909],\n",
              "       [210.1010101 ],\n",
              "       [211.11111111],\n",
              "       [212.12121212],\n",
              "       [213.13131313],\n",
              "       [214.14141414],\n",
              "       [215.15151515],\n",
              "       [216.16161616],\n",
              "       [217.17171717],\n",
              "       [218.18181818],\n",
              "       [219.19191919],\n",
              "       [220.2020202 ],\n",
              "       [221.21212121],\n",
              "       [222.22222222],\n",
              "       [223.23232323],\n",
              "       [224.24242424],\n",
              "       [225.25252525],\n",
              "       [226.26262626],\n",
              "       [227.27272727],\n",
              "       [228.28282828],\n",
              "       [229.29292929],\n",
              "       [230.3030303 ],\n",
              "       [231.31313131],\n",
              "       [232.32323232],\n",
              "       [233.33333333],\n",
              "       [234.34343434],\n",
              "       [235.35353535],\n",
              "       [236.36363636],\n",
              "       [237.37373737],\n",
              "       [238.38383838],\n",
              "       [239.39393939],\n",
              "       [240.4040404 ],\n",
              "       [241.41414141],\n",
              "       [242.42424242],\n",
              "       [243.43434343],\n",
              "       [244.44444444],\n",
              "       [245.45454545],\n",
              "       [246.46464646],\n",
              "       [247.47474747],\n",
              "       [248.48484848],\n",
              "       [249.49494949],\n",
              "       [250.50505051],\n",
              "       [251.51515152],\n",
              "       [252.52525253],\n",
              "       [253.53535354],\n",
              "       [254.54545455],\n",
              "       [255.55555556],\n",
              "       [256.56565657],\n",
              "       [257.57575758],\n",
              "       [258.58585859],\n",
              "       [259.5959596 ],\n",
              "       [260.60606061],\n",
              "       [261.61616162],\n",
              "       [262.62626263],\n",
              "       [263.63636364],\n",
              "       [264.64646465],\n",
              "       [265.65656566],\n",
              "       [266.66666667],\n",
              "       [267.67676768],\n",
              "       [268.68686869],\n",
              "       [269.6969697 ],\n",
              "       [270.70707071],\n",
              "       [271.71717172],\n",
              "       [272.72727273],\n",
              "       [273.73737374],\n",
              "       [274.74747475],\n",
              "       [275.75757576],\n",
              "       [276.76767677],\n",
              "       [277.77777778],\n",
              "       [278.78787879],\n",
              "       [279.7979798 ],\n",
              "       [280.80808081],\n",
              "       [281.81818182],\n",
              "       [282.82828283],\n",
              "       [283.83838384],\n",
              "       [284.84848485],\n",
              "       [285.85858586],\n",
              "       [286.86868687],\n",
              "       [287.87878788],\n",
              "       [288.88888889],\n",
              "       [289.8989899 ],\n",
              "       [290.90909091],\n",
              "       [291.91919192],\n",
              "       [292.92929293],\n",
              "       [293.93939394],\n",
              "       [294.94949495],\n",
              "       [295.95959596],\n",
              "       [296.96969697],\n",
              "       [297.97979798],\n",
              "       [298.98989899],\n",
              "       [300.        ]])"
            ]
          },
          "metadata": {},
          "execution_count": 6
        }
      ]
    },
    {
      "cell_type": "code",
      "source": [
        "for j in range (N2-1):\n",
        "  for i in range (N1-1):\n",
        "    if i == 0:\n",
        "      P[i+j*(N1-1),0] = -a*Ttop[j]\n",
        "    if j == 0:\n",
        "      P[i+j*(N1-1),0] = -a*Ttop[i,0]-b*Tbot[0,i]\n",
        "      P[i+1+j*(N1-1),0] = -b*Tbot[0,i]\n",
        "P"
      ],
      "metadata": {
        "id": "yAJx91WCLRq0",
        "colab": {
          "base_uri": "https://localhost:8080/"
        },
        "outputId": "c729c35c-dadb-41c8-8992-11309f6a3014"
      },
      "execution_count": 7,
      "outputs": [
        {
          "output_type": "execute_result",
          "data": {
            "text/plain": [
              "array([[-3920400.],\n",
              "       [-3950100.],\n",
              "       [-3979800.],\n",
              "       ...,\n",
              "       [       0.],\n",
              "       [       0.],\n",
              "       [       0.]])"
            ]
          },
          "metadata": {},
          "execution_count": 7
        }
      ]
    },
    {
      "cell_type": "code",
      "source": [
        "T = lina.solve(K, P)\n",
        "T"
      ],
      "metadata": {
        "id": "WGEAhqCJ3zH0"
      },
      "execution_count": null,
      "outputs": []
    },
    {
      "cell_type": "code",
      "source": [
        "T = np.reshape(T,(N1-1,N2-1))\n",
        "T\n"
      ],
      "metadata": {
        "id": "uhheULeR9bMI"
      },
      "execution_count": null,
      "outputs": []
    },
    {
      "cell_type": "code",
      "source": [
        "Ttop = Ttop[::-1]\n",
        "Ttop = Ttop[0:N2-1]\n",
        "Ttop.shape"
      ],
      "metadata": {
        "id": "-CAxYaGQjzh2"
      },
      "execution_count": null,
      "outputs": []
    },
    {
      "cell_type": "code",
      "source": [
        "T = np.concatenate((Ttop, T), axis=1)\n",
        "T"
      ],
      "metadata": {
        "id": "vXbSB7uRnM5O"
      },
      "execution_count": null,
      "outputs": []
    },
    {
      "cell_type": "code",
      "source": [
        "T = np.concatenate((T, Tbot), axis=0)\n",
        "T"
      ],
      "metadata": {
        "id": "N7YBxUJspNbF"
      },
      "execution_count": null,
      "outputs": []
    },
    {
      "cell_type": "code",
      "source": [
        "np.reshape(T[0,:N1],(1,T[0,:N1].shape[0]))\n",
        "T = np.concatenate((np.reshape(T[0,:N1],(1,T[0,:N1].shape[0])), T), axis=0)\n",
        "np.reshape(T[:,T.shape[1]-1],(N2+1,1))\n",
        "T = np.concatenate((T, np.reshape(T[:,T.shape[1]-1],(N2+1,1))), axis=1)\n",
        "T"
      ],
      "metadata": {
        "id": "fGKEm53uwCFT"
      },
      "execution_count": null,
      "outputs": []
    },
    {
      "cell_type": "code",
      "source": [
        "X1 = np.linspace(0,L1,N1+1)\n",
        "X2 = np.linspace(0,L2,N2+1)"
      ],
      "metadata": {
        "id": "WIj_Z93Q6sRv"
      },
      "execution_count": null,
      "outputs": []
    },
    {
      "cell_type": "code",
      "source": [
        "fig = plt.figure()\n",
        "ax = fig.add_subplot(111, projection='3d')\n",
        "ax.plot_surface(X1, X2, T, cmap=cm.jet, linewidth=1, vmin = 0, vmax = 1000)\n",
        "ax.set_xlabel('X1')\n",
        "ax.set_ylabel('Y2')\n",
        "ax.set_zlabel('Temp')\n",
        "fig.tight_layout()"
      ],
      "metadata": {
        "id": "xCLN9pjvrf2m"
      },
      "execution_count": null,
      "outputs": []
    },
    {
      "cell_type": "code",
      "source": [
        "pd.DataFrame(data=T)"
      ],
      "metadata": {
        "id": "W2BNjpVevpVC"
      },
      "execution_count": null,
      "outputs": []
    }
  ]
}