{
  "cells": [
    {
      "cell_type": "markdown",
      "metadata": {
        "id": "view-in-github",
        "colab_type": "text"
      },
      "source": [
        "<a href=\"https://colab.research.google.com/github/FeraMaks/test/blob/main/NN_ShaftTraectory_2_2.ipynb\" target=\"_parent\"><img src=\"https://colab.research.google.com/assets/colab-badge.svg\" alt=\"Open In Colab\"/></a>"
      ]
    },
    {
      "cell_type": "code",
      "execution_count": 1,
      "metadata": {
        "id": "UGwCWPzQ4PLb"
      },
      "outputs": [],
      "source": [
        "import torch\n",
        "import torch.nn as nn\n",
        "import torchvision\n",
        "import torchvision.transforms as transforms\n",
        "from torch.utils.data import Dataset, DataLoader\n",
        "import numpy as np\n",
        "import matplotlib.pyplot as plt\n",
        "import math\n",
        "import random\n",
        "import pandas as pd\n",
        "from numpy.core.memmap import uint8\n",
        "\n",
        "from google.colab import drive"
      ]
    },
    {
      "cell_type": "code",
      "execution_count": 2,
      "metadata": {
        "id": "lY4YjbjkzSO1"
      },
      "outputs": [],
      "source": [
        "#device config\n",
        "device = torch.device('cuda' if torch.cuda.is_available() else 'cpu')"
      ]
    },
    {
      "cell_type": "code",
      "execution_count": 3,
      "metadata": {
        "colab": {
          "base_uri": "https://localhost:8080/"
        },
        "id": "0y-xHoV-4gUq",
        "outputId": "3ef1f621-9797-4a04-c63f-57d07b91b7d0"
      },
      "outputs": [
        {
          "output_type": "stream",
          "name": "stdout",
          "text": [
            "Drive already mounted at /content/drive/; to attempt to forcibly remount, call drive.mount(\"/content/drive/\", force_remount=True).\n"
          ]
        }
      ],
      "source": [
        "drive.mount('/content/drive/')"
      ]
    },
    {
      "cell_type": "markdown",
      "metadata": {
        "id": "MwSUjvtElsBR"
      },
      "source": [
        "##Загрузка данных"
      ]
    },
    {
      "cell_type": "code",
      "execution_count": 4,
      "metadata": {
        "colab": {
          "base_uri": "https://localhost:8080/"
        },
        "id": "aF6Vtt8afTY1",
        "outputId": "9f9dd46a-5c59-43a9-dece-03a3415b8814"
      },
      "outputs": [
        {
          "output_type": "execute_result",
          "data": {
            "text/plain": [
              "(6, 20000)"
            ]
          },
          "metadata": {},
          "execution_count": 4
        }
      ],
      "source": [
        "# Советую воспользоваться циклом for, чтобы не писать множество однотипных строк кода\n",
        "\n",
        "data1_x = pd.read_excel(open('/content/drive/MyDrive/work/100.xlsx', 'rb'))\n",
        "data1_x = pd.DataFrame(data1_x)\n",
        "data1_xnp = pd.DataFrame.to_numpy(data1_x)\n",
        "data1_xnp = np.rot90(data1_xnp)\n",
        "data1_xnp.shape"
      ]
    },
    {
      "cell_type": "code",
      "source": [
        "data2_x = pd.read_excel(open('/content/drive/MyDrive/work/90_011.xlsx', 'rb'))\n",
        "data2_x = pd.DataFrame(data2_x)\n",
        "data2_xnp = pd.DataFrame.to_numpy(data2_x)\n",
        "data2_xnp = np.rot90(data2_xnp)\n",
        "data2_xnp.shape"
      ],
      "metadata": {
        "colab": {
          "base_uri": "https://localhost:8080/"
        },
        "id": "1L52sW0YSfRF",
        "outputId": "71cf985e-2710-4cbf-dc39-2e51622be9d5"
      },
      "execution_count": 5,
      "outputs": [
        {
          "output_type": "execute_result",
          "data": {
            "text/plain": [
              "(6, 20000)"
            ]
          },
          "metadata": {},
          "execution_count": 5
        }
      ]
    },
    {
      "cell_type": "code",
      "source": [
        "data3_x = pd.read_excel(open('/content/drive/MyDrive/work/110_011.xlsx', 'rb'))\n",
        "data3_x = pd.DataFrame(data3_x)\n",
        "data3_xnp = pd.DataFrame.to_numpy(data3_x)\n",
        "data3_xnp = np.rot90(data3_xnp)\n",
        "data3_xnp.shape"
      ],
      "metadata": {
        "colab": {
          "base_uri": "https://localhost:8080/"
        },
        "id": "c_yRhrbSS6E1",
        "outputId": "34994a67-8370-43b2-bb8c-926a3915e7a4"
      },
      "execution_count": 6,
      "outputs": [
        {
          "output_type": "execute_result",
          "data": {
            "text/plain": [
              "(6, 20000)"
            ]
          },
          "metadata": {},
          "execution_count": 6
        }
      ]
    },
    {
      "cell_type": "code",
      "source": [
        "data4_x = pd.read_excel(open('/content/drive/MyDrive/work/120_011.xlsx', 'rb'))\n",
        "data4_x = pd.DataFrame(data4_x)\n",
        "data4_xnp = pd.DataFrame.to_numpy(data4_x)\n",
        "data4_xnp = np.rot90(data4_xnp)\n",
        "data4_xnp.shape"
      ],
      "metadata": {
        "colab": {
          "base_uri": "https://localhost:8080/"
        },
        "id": "-q-ams-_S6nc",
        "outputId": "34b53918-dab4-4b9f-cbb5-ea16569ca10a"
      },
      "execution_count": 7,
      "outputs": [
        {
          "output_type": "execute_result",
          "data": {
            "text/plain": [
              "(6, 20000)"
            ]
          },
          "metadata": {},
          "execution_count": 7
        }
      ]
    },
    {
      "cell_type": "markdown",
      "source": [
        "##Подготовка датасета"
      ],
      "metadata": {
        "id": "P4vWtCezUnKu"
      }
    },
    {
      "cell_type": "code",
      "source": [
        "#parameters\n",
        "data_number = 4 # количество файлов с графиками\n",
        "num_samples = 10 # количество сэмплов в одном графике\n",
        "point_number = 2000 # количество точек в одном графике\n",
        "num_graphycs = 3 # количество графиков\n",
        "num_grahp0 = 1 # кол-во нормальных графиков\n",
        "num_grahp1 = 2 # кол-во угловатых графиков\n",
        "inputs = []"
      ],
      "metadata": {
        "id": "EsmFXtlaHS4W"
      },
      "execution_count": 8,
      "outputs": []
    },
    {
      "cell_type": "code",
      "source": [
        "y0 = np.zeros((num_grahp0*num_samples,1))\n",
        "y1 = np.ones((num_grahp1*num_samples,1))\n",
        "y = np.concatenate((y0, y1))\n",
        "for i in range (2):\n",
        "  y = np.concatenate((y, y))\n",
        "y, y.shape"
      ],
      "metadata": {
        "colab": {
          "base_uri": "https://localhost:8080/"
        },
        "id": "reImqeAHTlb1",
        "outputId": "074a2e19-b3b8-4d2a-a26b-92ad126a6032"
      },
      "execution_count": 9,
      "outputs": [
        {
          "output_type": "execute_result",
          "data": {
            "text/plain": [
              "(array([[0.],\n",
              "        [0.],\n",
              "        [0.],\n",
              "        [0.],\n",
              "        [0.],\n",
              "        [0.],\n",
              "        [0.],\n",
              "        [0.],\n",
              "        [0.],\n",
              "        [0.],\n",
              "        [1.],\n",
              "        [1.],\n",
              "        [1.],\n",
              "        [1.],\n",
              "        [1.],\n",
              "        [1.],\n",
              "        [1.],\n",
              "        [1.],\n",
              "        [1.],\n",
              "        [1.],\n",
              "        [1.],\n",
              "        [1.],\n",
              "        [1.],\n",
              "        [1.],\n",
              "        [1.],\n",
              "        [1.],\n",
              "        [1.],\n",
              "        [1.],\n",
              "        [1.],\n",
              "        [1.],\n",
              "        [0.],\n",
              "        [0.],\n",
              "        [0.],\n",
              "        [0.],\n",
              "        [0.],\n",
              "        [0.],\n",
              "        [0.],\n",
              "        [0.],\n",
              "        [0.],\n",
              "        [0.],\n",
              "        [1.],\n",
              "        [1.],\n",
              "        [1.],\n",
              "        [1.],\n",
              "        [1.],\n",
              "        [1.],\n",
              "        [1.],\n",
              "        [1.],\n",
              "        [1.],\n",
              "        [1.],\n",
              "        [1.],\n",
              "        [1.],\n",
              "        [1.],\n",
              "        [1.],\n",
              "        [1.],\n",
              "        [1.],\n",
              "        [1.],\n",
              "        [1.],\n",
              "        [1.],\n",
              "        [1.],\n",
              "        [0.],\n",
              "        [0.],\n",
              "        [0.],\n",
              "        [0.],\n",
              "        [0.],\n",
              "        [0.],\n",
              "        [0.],\n",
              "        [0.],\n",
              "        [0.],\n",
              "        [0.],\n",
              "        [1.],\n",
              "        [1.],\n",
              "        [1.],\n",
              "        [1.],\n",
              "        [1.],\n",
              "        [1.],\n",
              "        [1.],\n",
              "        [1.],\n",
              "        [1.],\n",
              "        [1.],\n",
              "        [1.],\n",
              "        [1.],\n",
              "        [1.],\n",
              "        [1.],\n",
              "        [1.],\n",
              "        [1.],\n",
              "        [1.],\n",
              "        [1.],\n",
              "        [1.],\n",
              "        [1.],\n",
              "        [0.],\n",
              "        [0.],\n",
              "        [0.],\n",
              "        [0.],\n",
              "        [0.],\n",
              "        [0.],\n",
              "        [0.],\n",
              "        [0.],\n",
              "        [0.],\n",
              "        [0.],\n",
              "        [1.],\n",
              "        [1.],\n",
              "        [1.],\n",
              "        [1.],\n",
              "        [1.],\n",
              "        [1.],\n",
              "        [1.],\n",
              "        [1.],\n",
              "        [1.],\n",
              "        [1.],\n",
              "        [1.],\n",
              "        [1.],\n",
              "        [1.],\n",
              "        [1.],\n",
              "        [1.],\n",
              "        [1.],\n",
              "        [1.],\n",
              "        [1.],\n",
              "        [1.],\n",
              "        [1.]]), (120, 1))"
            ]
          },
          "metadata": {},
          "execution_count": 9
        }
      ]
    },
    {
      "cell_type": "code",
      "source": [
        "data_x = np.concatenate((data1_xnp,data2_xnp,data3_xnp,data4_xnp))\n",
        "type(data_x)"
      ],
      "metadata": {
        "colab": {
          "base_uri": "https://localhost:8080/"
        },
        "id": "AftsfVRiWjIm",
        "outputId": "a64095a1-fdfe-433f-d7a3-9b92137d0bf1"
      },
      "execution_count": 10,
      "outputs": [
        {
          "output_type": "execute_result",
          "data": {
            "text/plain": [
              "numpy.ndarray"
            ]
          },
          "metadata": {},
          "execution_count": 10
        }
      ]
    },
    {
      "cell_type": "code",
      "source": [
        "for j in range (data_number*num_graphycs):\n",
        "  for i in range (num_samples):\n",
        "    inputs.append(np.concatenate((data_x[j*2,i*point_number:i*point_number+point_number], data_x[j*2+1,i*point_number:i*point_number+point_number])))\n",
        "inputs = np.concatenate(inputs, axis=0)\n",
        "inputs = np.reshape(inputs, (data_number*num_graphycs*num_samples,point_number*2))\n",
        "# Тип данных  в нейросетях - float32. Можно и float64, но тогда модель нужно делать с таким типом данных.\n",
        "#x = x.astype('float32')\n",
        "inputs.shape"
      ],
      "metadata": {
        "colab": {
          "base_uri": "https://localhost:8080/"
        },
        "id": "fB7L1axkHaLO",
        "outputId": "0c09747f-9768-43be-ac99-704222721c63"
      },
      "execution_count": 11,
      "outputs": [
        {
          "output_type": "execute_result",
          "data": {
            "text/plain": [
              "(120, 4000)"
            ]
          },
          "metadata": {},
          "execution_count": 11
        }
      ]
    },
    {
      "cell_type": "code",
      "source": [
        "xy = np.concatenate((y,inputs), axis=1)\n",
        "xy[0,:]"
      ],
      "metadata": {
        "colab": {
          "base_uri": "https://localhost:8080/"
        },
        "id": "DLdTD4KqXvnO",
        "outputId": "93553a60-979d-43ba-921a-66192a39ccf6"
      },
      "execution_count": 12,
      "outputs": [
        {
          "output_type": "execute_result",
          "data": {
            "text/plain": [
              "array([   0.      , -182.154261, -182.813766, ...,  -46.86475 ,\n",
              "        -44.582413,  -42.288928])"
            ]
          },
          "metadata": {},
          "execution_count": 12
        }
      ]
    },
    {
      "cell_type": "code",
      "source": [
        "xy = sorted(xy, key=lambda x: random.random())"
      ],
      "metadata": {
        "id": "-7Ih4dhZXseF"
      },
      "execution_count": 13,
      "outputs": []
    },
    {
      "cell_type": "code",
      "source": [
        "xy = np.asarray(xy)\n",
        "xy.shape"
      ],
      "metadata": {
        "colab": {
          "base_uri": "https://localhost:8080/"
        },
        "id": "Vci-eSMravRP",
        "outputId": "f325f260-31ab-425f-8333-a7618410505c"
      },
      "execution_count": 14,
      "outputs": [
        {
          "output_type": "execute_result",
          "data": {
            "text/plain": [
              "(120, 4001)"
            ]
          },
          "metadata": {},
          "execution_count": 14
        }
      ]
    },
    {
      "cell_type": "code",
      "source": [
        "x, y = xy[:,1:], xy[:,0]\n",
        "x = x.astype('float32')\n",
        "y = y.astype('int64')\n",
        "x.shape, y.shape"
      ],
      "metadata": {
        "colab": {
          "base_uri": "https://localhost:8080/"
        },
        "id": "MnlOpWLcYhdF",
        "outputId": "e5ba3f36-b1f3-45ca-fbb4-c17eabb20c21"
      },
      "execution_count": 15,
      "outputs": [
        {
          "output_type": "execute_result",
          "data": {
            "text/plain": [
              "((120, 4000), (120,))"
            ]
          },
          "metadata": {},
          "execution_count": 15
        }
      ]
    },
    {
      "cell_type": "code",
      "execution_count": 16,
      "metadata": {
        "id": "wS05TpUwkmdp"
      },
      "outputs": [],
      "source": [
        "# Индексация классов начиается с нуля. То есть первый класс - 0, второй класс - 1. Тип данных разметки - int64.\n",
        "# Размерность у разметки должна быть одна"
      ]
    },
    {
      "cell_type": "code",
      "execution_count": 17,
      "metadata": {
        "id": "XURkjZuT6yyi"
      },
      "outputs": [],
      "source": [
        "# Тут и далее уже очень много ошибок, покажу просто как правильно с комментариями.\n",
        "\n",
        "class ShaftDataset(Dataset):\n",
        "    def __init__(self, x, y, mode):\n",
        "        # Проверка выборки\n",
        "        if mode == 'train':\n",
        "            self.x = x[:100]\n",
        "            self.y = y[:100]\n",
        "        elif mode == 'val':\n",
        "            self.x = x[100:]\n",
        "            self.y = y[100:]\n",
        "            \n",
        "        # Разбиение сделано по вашему примеру, но обращаю внимание,\n",
        "        # что так в тренировочной выборке всего один пример со 2 классом. А в тестовой - только 2 класс/\n",
        "        # Поэтому нужно как то примеры скомпоновать по-другому\n",
        "\n",
        "    def __getitem__(self, index):\n",
        "        return self.x[index], self.y[index]\n",
        "  \n",
        "    def __len__(self):\n",
        "        return len(self.y)"
      ]
    },
    {
      "cell_type": "code",
      "execution_count": 18,
      "metadata": {
        "id": "ITBdf8iT7D8x"
      },
      "outputs": [],
      "source": [
        "# Создаем два отдельных датасета и их будем подавать в Loader.\n",
        "# Изначально вы пытались сделать два среза по одному датасету и подавили в Loader. Так работать не будет\n",
        "\n",
        "train_dataset = ShaftDataset(x, y, 'train')\n",
        "test_dataset = ShaftDataset(x, y, 'val')\n"
      ]
    },
    {
      "cell_type": "code",
      "execution_count": 19,
      "metadata": {
        "id": "dgohZFvDgJmR",
        "colab": {
          "base_uri": "https://localhost:8080/"
        },
        "outputId": "f7363299-1676-45f4-e3b7-c06a1123c62b"
      },
      "outputs": [
        {
          "output_type": "execute_result",
          "data": {
            "text/plain": [
              "(array([-312.547  , -317.00662, -321.39444, ..., -386.78918, -383.58664,\n",
              "        -380.30704], dtype=float32), 1)"
            ]
          },
          "metadata": {},
          "execution_count": 19
        }
      ],
      "source": [
        "train_dataset[0]"
      ]
    },
    {
      "cell_type": "markdown",
      "metadata": {
        "id": "QG0rieAzwscd"
      },
      "source": [
        "Hyper parameters"
      ]
    },
    {
      "cell_type": "code",
      "execution_count": 20,
      "metadata": {
        "id": "Ow5VwGMIwrym"
      },
      "outputs": [],
      "source": [
        "input_size = x.shape[1]\n",
        "hidden_size = 32 # Попробуйте для начала поменьше\n",
        "num_classes = 2\n",
        "num_epochs = 10000\n",
        "batch_size = 15 # Bath size не может быть больше размера датасета (у вас 30 примеров)\n",
        "lr = 0.001 # learning rate"
      ]
    },
    {
      "cell_type": "code",
      "execution_count": 21,
      "metadata": {
        "id": "KxDbXIaVquNd"
      },
      "outputs": [],
      "source": [
        "# Loader генерирует тензоры следующего размера -\n",
        "# (batch_size (размер батча - кол-во примеров в батче), m (кол-во признаков))\n",
        "# Таким образом, размерностей 2, а не 4\n",
        "\n",
        "train_loader = torch.utils.data.DataLoader(dataset=train_dataset, \n",
        "                                           batch_size=batch_size, \n",
        "                                           shuffle=True)\n",
        "\n",
        "test_loader = torch.utils.data.DataLoader(dataset=test_dataset, \n",
        "                                          batch_size=batch_size, \n",
        "                                          shuffle=False)"
      ]
    },
    {
      "cell_type": "code",
      "execution_count": 22,
      "metadata": {
        "colab": {
          "base_uri": "https://localhost:8080/"
        },
        "id": "zCYSzuDxtJx1",
        "outputId": "33c50071-af71-4aac-c853-bf19eecd25fb"
      },
      "outputs": [
        {
          "output_type": "stream",
          "name": "stdout",
          "text": [
            "(100, 4000) (100,)\n",
            "(20, 4000) (20,)\n"
          ]
        }
      ],
      "source": [
        "# Размеры данных в датасетах\n",
        "\n",
        "features, labels = train_dataset.x, train_dataset.y\n",
        "print(features.shape, labels.shape)\n",
        "features, labels = test_dataset.x, test_dataset.y\n",
        "print(features.shape, labels.shape)\n",
        "#samples = torch.from_numpy(samples)\n",
        "#labels = torch.from_numpy(labels)"
      ]
    },
    {
      "cell_type": "markdown",
      "metadata": {
        "id": "OsQ4OoSKxrmR"
      },
      "source": [
        "#Создание нейронной сети"
      ]
    },
    {
      "cell_type": "code",
      "execution_count": 23,
      "metadata": {
        "id": "psneQ6gguTQO"
      },
      "outputs": [],
      "source": [
        "class NeuralNet(nn.Module):\n",
        "  def __init__(self, input_size, hidden_size, num_classes):\n",
        "    super(NeuralNet, self).__init__()\n",
        "    self.l1 = nn.Linear(input_size, hidden_size)\n",
        "    self.relu = nn.ReLU()\n",
        "    self.l2 = nn.Linear(hidden_size, num_classes)\n",
        "\n",
        "  def forward(self, x):\n",
        "    out = self.l1(x)\n",
        "    out = self.relu(out)\n",
        "    out = self.l2(out)\n",
        "    return out\n"
      ]
    },
    {
      "cell_type": "code",
      "execution_count": 24,
      "metadata": {
        "id": "fEOw9LrLxqhg"
      },
      "outputs": [],
      "source": [
        "model = NeuralNet(input_size, hidden_size, num_classes)\n",
        "\n",
        "# Модель также перемещаем в нужное место\n",
        "model = model.to(device)"
      ]
    },
    {
      "cell_type": "markdown",
      "metadata": {
        "id": "Lhe6kfOPx3YG"
      },
      "source": [
        "Loss and optimizer"
      ]
    },
    {
      "cell_type": "code",
      "execution_count": 25,
      "metadata": {
        "id": "ezEMbjGAx5ZN"
      },
      "outputs": [],
      "source": [
        "L = nn.CrossEntropyLoss()\n",
        "optimizer = torch.optim.Adam(model.parameters(), lr=lr)"
      ]
    },
    {
      "cell_type": "markdown",
      "metadata": {
        "id": "m-JRvLNRyRIl"
      },
      "source": [
        "#Training loop"
      ]
    },
    {
      "cell_type": "code",
      "execution_count": null,
      "metadata": {
        "id": "JcrFEtk1yS3N"
      },
      "outputs": [],
      "source": [
        "n_total_steps = len(train_loader)\n",
        "for epoch in range(num_epochs):\n",
        "  for i, (features, labels) in enumerate(train_loader):\n",
        "    features = features.to(device)\n",
        "    labels = labels.to(device)\n",
        "\n",
        "    #forward path\n",
        "    outputs = model(features) # Подаем признаки на вход нейросети\n",
        "    loss = L(outputs, labels)\n",
        "\n",
        "    #backward path\n",
        "    optimizer.zero_grad()\n",
        "    loss.backward()\n",
        "    optimizer.step()\n",
        "\n",
        "    if (i+1) % 7 == 0:\n",
        "       print(f'epoch {epoch+1} / {num_epochs}, step {i+1}/{n_total_steps}, loss = {loss.item():.4f}')\n"
      ]
    },
    {
      "cell_type": "code",
      "execution_count": 27,
      "metadata": {
        "colab": {
          "base_uri": "https://localhost:8080/"
        },
        "id": "JBpHSfuK3GWL",
        "outputId": "ca2317b1-76b6-439b-881d-8ac9e68a0c7b"
      },
      "outputs": [
        {
          "output_type": "execute_result",
          "data": {
            "text/plain": [
              "(tensor([[  23.2449,    7.2273],\n",
              "         [1465.5220, 1492.9529],\n",
              "         [  -2.7491,  -15.6126],\n",
              "         [ 126.7009,  146.1419],\n",
              "         [ 375.8835,  537.9810],\n",
              "         [1907.5239, 1929.6212],\n",
              "         [ 696.1847,  721.3726],\n",
              "         [ 208.8569,  352.0326],\n",
              "         [  70.5079,   92.2346],\n",
              "         [ 168.0563,  150.4929]], grad_fn=<AddmmBackward0>),\n",
              " tensor([0, 1, 0, 1, 1, 1, 1, 1, 1, 0]))"
            ]
          },
          "metadata": {},
          "execution_count": 27
        }
      ],
      "source": [
        "outputs, labels"
      ]
    },
    {
      "cell_type": "markdown",
      "metadata": {
        "id": "ga6qUKpY04F1"
      },
      "source": [
        "#Test"
      ]
    },
    {
      "cell_type": "code",
      "execution_count": 28,
      "metadata": {
        "colab": {
          "base_uri": "https://localhost:8080/"
        },
        "id": "Ff5AdQL005sM",
        "outputId": "1fecc8ef-4fc5-4dac-9987-50b3afe48f0c"
      },
      "outputs": [
        {
          "output_type": "stream",
          "name": "stdout",
          "text": [
            "tensor([[ 385.8858,  399.5749],\n",
            "        [ 262.2820,  279.7303],\n",
            "        [ 750.1978,  758.6814],\n",
            "        [1239.1327, 1229.9988],\n",
            "        [ 408.8623,  396.8980],\n",
            "        [ 553.9085,  509.5866],\n",
            "        [ 312.2325,  329.7563],\n",
            "        [ 129.1398,  129.8865],\n",
            "        [ 438.5577,  467.7952],\n",
            "        [ 195.6100,  219.9076],\n",
            "        [1860.6306, 1881.1155],\n",
            "        [ 167.2228,  161.4828],\n",
            "        [ 136.7680,  139.8704],\n",
            "        [ 217.8830,  233.7505],\n",
            "        [ 193.5891,  216.8350]])\n",
            "tensor([[ 710.3569,  699.3018],\n",
            "        [ 208.5720,  206.6598],\n",
            "        [ 394.9173,  505.9138],\n",
            "        [1597.5796, 1644.1211],\n",
            "        [  68.7338,   90.4059]])\n"
          ]
        }
      ],
      "source": [
        "with torch.no_grad():\n",
        "  n_correct = 0\n",
        "  n_samples = 0\n",
        "  for features, labels in test_loader:\n",
        "    features = features.to(device)\n",
        "    labels = labels.to(device)\n",
        "    outputs = model(features)\n",
        "    print(outputs)\n",
        "    #value, index\n",
        "    _, predictions = torch.max(outputs, 1)\n",
        "    n_samples += labels.shape[0]\n",
        "    n_correct += (predictions == labels).sum().item()"
      ]
    },
    {
      "cell_type": "code",
      "source": [
        "  acc = 100.0 * n_correct / n_samples\n",
        "  print(f'accuracy = {acc} %')"
      ],
      "metadata": {
        "colab": {
          "base_uri": "https://localhost:8080/"
        },
        "id": "Ledys3Jj-6Or",
        "outputId": "e64e72c7-4dea-45b2-e89e-22380559d9ee"
      },
      "execution_count": 29,
      "outputs": [
        {
          "output_type": "stream",
          "name": "stdout",
          "text": [
            "accuracy = 60.0 %\n"
          ]
        }
      ]
    }
  ],
  "metadata": {
    "colab": {
      "provenance": [],
      "include_colab_link": true
    },
    "kernelspec": {
      "display_name": "Python 3 (ipykernel)",
      "language": "python",
      "name": "python3"
    },
    "language_info": {
      "codemirror_mode": {
        "name": "ipython",
        "version": 3
      },
      "file_extension": ".py",
      "mimetype": "text/x-python",
      "name": "python",
      "nbconvert_exporter": "python",
      "pygments_lexer": "ipython3",
      "version": "3.9.12"
    },
    "varInspector": {
      "cols": {
        "lenName": 16,
        "lenType": 16,
        "lenVar": 40
      },
      "kernels_config": {
        "python": {
          "delete_cmd_postfix": "",
          "delete_cmd_prefix": "del ",
          "library": "var_list.py",
          "varRefreshCmd": "print(var_dic_list())"
        },
        "r": {
          "delete_cmd_postfix": ") ",
          "delete_cmd_prefix": "rm(",
          "library": "var_list.r",
          "varRefreshCmd": "cat(var_dic_list()) "
        }
      },
      "types_to_exclude": [
        "module",
        "function",
        "builtin_function_or_method",
        "instance",
        "_Feature"
      ],
      "window_display": false
    }
  },
  "nbformat": 4,
  "nbformat_minor": 0
}