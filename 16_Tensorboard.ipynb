{
  "nbformat": 4,
  "nbformat_minor": 0,
  "metadata": {
    "colab": {
      "provenance": [],
      "authorship_tag": "ABX9TyPhlTxV0C6xTBiZTzUPU5Go",
      "include_colab_link": true
    },
    "kernelspec": {
      "name": "python3",
      "display_name": "Python 3"
    },
    "language_info": {
      "name": "python"
    }
  },
  "cells": [
    {
      "cell_type": "markdown",
      "metadata": {
        "id": "view-in-github",
        "colab_type": "text"
      },
      "source": [
        "<a href=\"https://colab.research.google.com/github/FeraMaks/test/blob/main/16_Tensorboard.ipynb\" target=\"_parent\"><img src=\"https://colab.research.google.com/assets/colab-badge.svg\" alt=\"Open In Colab\"/></a>"
      ]
    },
    {
      "cell_type": "markdown",
      "source": [
        "Import libraries"
      ],
      "metadata": {
        "id": "b4_WerjPoJt4"
      }
    },
    {
      "cell_type": "code",
      "execution_count": null,
      "metadata": {
        "id": "8AoF8M_0oGBu"
      },
      "outputs": [],
      "source": [
        "import torch\n",
        "import torch.nn as nn\n",
        "import torchvision\n",
        "import torchvision.transforms as transforms\n",
        "import matplotlib.pyplot as plt\n",
        "import sys\n",
        "import torch.nn.functional as F\n",
        "from torch,utils,tensorboard import SummaryWriter\n",
        "writer = SummaryWriter('runs/mnist')\n",
        "#device config\n",
        "device = torch.device('cuda' if torch.cuda.is_available() else 'cpu')"
      ]
    },
    {
      "cell_type": "code",
      "source": [
        "input_size = 784 # 28x28\n",
        "hidden_size = 100\n",
        "num_classes = 10\n",
        "num_epochs = 2\n",
        "batch_size = 100\n",
        "learning_rate = 0.001\n",
        "\n",
        "#MNIST\n",
        "train_dataset = torchvision.datasets.MNIST(root='./data', train=True, transform=transforms.ToTensor(), download=True)\n",
        "train_test = torchvision.datasets.MNIST(root='./data', train=False,\n",
        "          transform=transforms.ToTensor())\n",
        "train_loader = torch.utils.data.DataLoader(dataset=train_dataset, batch_size=batch_size,\n",
        "          shuffle=True)\n",
        "test_loader = torch.utils.data.DataLoader(dataset=train_dataset, batch_size=batch_size,\n",
        "          shuffle=False)\n",
        "\n",
        "examples = iter(train_loader)\n",
        "samples, labels = examples.next()\n",
        "print(samples.shape, labels.shape)"
      ],
      "metadata": {
        "colab": {
          "base_uri": "https://localhost:8080/"
        },
        "id": "MwtUHYQjowqZ",
        "outputId": "01939374-dad6-45b0-e099-1502c8fcdd3c"
      },
      "execution_count": null,
      "outputs": [
        {
          "output_type": "stream",
          "name": "stdout",
          "text": [
            "torch.Size([100, 1, 28, 28]) torch.Size([100])\n"
          ]
        }
      ]
    },
    {
      "cell_type": "code",
      "source": [
        "for i in range(6):\n",
        "  plt.subplot(2, 3, i+1)\n",
        "  plt.imshow(samples[i][0],cmap='Purples')\n",
        "  #plt.show\n",
        "img_grid = torchvision.utils.make_grid(examples)\n",
        "writer.add_image('mnist_images', img_grid)\n"
      ],
      "metadata": {
        "colab": {
          "base_uri": "https://localhost:8080/",
          "height": 267
        },
        "id": "QM9vFcPFrpx7",
        "outputId": "68101495-e311-4c57-93cb-266338806fac"
      },
      "execution_count": null,
      "outputs": [
        {
          "output_type": "display_data",
          "data": {
            "text/plain": [
              "<Figure size 432x288 with 6 Axes>"
            ],
            "image/png": "[encoded data removed]"
          },
          "metadata": {
            "needs_background": "light"
          }
        }
      ]
    },
    {
      "cell_type": "code",
      "source": [
        "class NeuralNet(nn.Module):\n",
        "  def __init__(self, input_size, hidden_size, num_classes):\n",
        "    super(NeuralNet, self).__init__()\n",
        "    self.l1 = nn.Linear(input_size, hidden_size)\n",
        "    self.relu = nn.ReLU()\n",
        "    self.l2 = nn.Linear(hidden_size, num_classes)\n",
        "\n",
        "  def forward(self, x):\n",
        "    out = self.l1(x)\n",
        "    out = self.relu(out)\n",
        "    out = self.l2(out)\n",
        "    return out\n",
        "model = NeuralNet(input_size, hidden_size, num_classes)"
      ],
      "metadata": {
        "id": "gRcRS-AGsQoe"
      },
      "execution_count": null,
      "outputs": []
    },
    {
      "cell_type": "markdown",
      "source": [
        "Loss and optimizer"
      ],
      "metadata": {
        "id": "a0DZ7tuTtoaC"
      }
    },
    {
      "cell_type": "code",
      "source": [
        "criterion = nn.CrossEntropyLoss()\n",
        "optimizer = torch.optim.Adam(model.parameters(), lr=learning_rate)"
      ],
      "metadata": {
        "id": "aQ4Dkit-tn9l"
      },
      "execution_count": null,
      "outputs": []
    },
    {
      "cell_type": "code",
      "source": [
        "writer.add_graph(model, example_data.reshape(-1,28*28))\n",
        "writer.close()\n",
        "sys.exit()"
      ],
      "metadata": {
        "id": "0hw1JVNKGHO8"
      },
      "execution_count": null,
      "outputs": []
    },
    {
      "cell_type": "markdown",
      "source": [
        "Training loop"
      ],
      "metadata": {
        "id": "WmJg6ij6tr5a"
      }
    },
    {
      "cell_type": "code",
      "source": [
        "n_total_steps = len(train_loader)\n",
        "\n",
        "running_loss = 0.0\n",
        "running_correct = 0\n",
        "for epoch in range(num_epochs):\n",
        "  for i, (images, labels) in enumerate(train_loader):\n",
        "    #100, 1, 28, 28\n",
        "    #100,784)\n",
        "    images = images.reshape(-1,28*28).to(device)\n",
        "    labels = labels.to(device)\n",
        "\n",
        "    #forward\n",
        "    outputs = model(images)\n",
        "    loss = criterion(outputs, labels)\n",
        "\n",
        "    #backwards\n",
        "    optimizer.zero_grad()\n",
        "    loss.backward()\n",
        "    optimizer.step()\n",
        "\n",
        "    running_loss += loss.item()\n",
        "\n",
        "    _, predictions = torch.max(outputs, 1)\n",
        "    running_correct += (predicted == labels).sum().item()\n",
        "    if (i+1) % 100 == 0:\n",
        "      print(f'epoch {epoch+1} / {num_epochs}, step {i+1}/{n_total_steps}, loss = {loss.item():.4f}')\n",
        "      writer.add_scalar('training loss', running_loss / 100, epoch * n_total_steps + i)\n",
        "      writer.add_scalar('accuracy', running_correct / 100, epoch * n_total_steps + i)\n",
        "      running_loss = 0.0\n",
        "      running_correct = 0"
      ],
      "metadata": {
        "colab": {
          "base_uri": "https://localhost:8080/"
        },
        "id": "kwlqyj6uttvS",
        "outputId": "dd8883ea-25ab-41d4-92b4-84ecbc4cdd66"
      },
      "execution_count": null,
      "outputs": [
        {
          "output_type": "stream",
          "name": "stdout",
          "text": [
            "epoch 1 / 2, step 100/600, loss = 0.4059\n",
            "epoch 1 / 2, step 200/600, loss = 0.3356\n",
            "epoch 1 / 2, step 300/600, loss = 0.1782\n",
            "epoch 1 / 2, step 400/600, loss = 0.2654\n",
            "epoch 1 / 2, step 500/600, loss = 0.2634\n",
            "epoch 1 / 2, step 600/600, loss = 0.2289\n",
            "epoch 2 / 2, step 100/600, loss = 0.2172\n",
            "epoch 2 / 2, step 200/600, loss = 0.1499\n",
            "epoch 2 / 2, step 300/600, loss = 0.1569\n",
            "epoch 2 / 2, step 400/600, loss = 0.1054\n",
            "epoch 2 / 2, step 500/600, loss = 0.2219\n",
            "epoch 2 / 2, step 600/600, loss = 0.2602\n"
          ]
        }
      ]
    },
    {
      "cell_type": "markdown",
      "source": [
        "Test"
      ],
      "metadata": {
        "id": "lsyWTj4UvKH_"
      }
    },
    {
      "cell_type": "code",
      "source": [
        "\n",
        "labels = []\n",
        "preds = []\n",
        "with torch.no_grad():\n",
        "  n_correct = 0\n",
        "  n_samples = 0\n",
        "  for images, labels1 in test_loader:\n",
        "    images = images.reshape(-1,28*28).to(device)\n",
        "    labels1 = labels1.to(device) \n",
        "    outputs = model(images)\n",
        "\n",
        "    #value, index\n",
        "    _, predictions = torch.max(outputs, 1)\n",
        "    n_samples += labels1.shape[0]\n",
        "    n_correct += (predictions == labels1).sum().item()\n",
        "\n",
        "    class_predictions = [F.softmax(output, dim=0), for output in outputs]\n",
        "\n",
        "    preds.append(class_predictions)\n",
        "    labels.append(predicted)\n",
        "  \n",
        "  preds = torch.cat([torch.stack(batch) for batch in preds])\n",
        "  labels = torch.cat(labels)\n",
        "\n",
        "  acc = 100.0 * n_correct / n_samples\n",
        "  print(f'accuracy = {acc}')\n",
        "\n",
        "  classes = range(10)\n",
        "  for i in classes:\n",
        "    labels_i = labels == i\n",
        "    preds_i = preds[:,i]\n",
        "    writer.add_pr_curve(str(i), labels_i, preds_i, global_step=0)\n",
        "    writer.close()"
      ],
      "metadata": {
        "id": "mgZy_hY0vMZH"
      },
      "execution_count": null,
      "outputs": []
    },
    {
      "cell_type": "code",
      "source": [
        "#acc = 100.0 * n_correct / n_samples\n",
        "#print(f'accuracy = {acc}')"
      ],
      "metadata": {
        "colab": {
          "base_uri": "https://localhost:8080/"
        },
        "id": "LSehb51UwD-b",
        "outputId": "ac800440-0717-462e-f204-70de0c8e3047"
      },
      "execution_count": null,
      "outputs": [
        {
          "output_type": "stream",
          "name": "stdout",
          "text": [
            "accuracy = 95.73666666666666\n"
          ]
        }
      ]
    }
  ]
}