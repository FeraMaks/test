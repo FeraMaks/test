{
  "nbformat": 4,
  "nbformat_minor": 0,
  "metadata": {
    "colab": {
      "provenance": [],
      "authorship_tag": "ABX9TyMQZhxFFu+QKXoOY9OiI9cn",
      "include_colab_link": true
    },
    "kernelspec": {
      "name": "python3",
      "display_name": "Python 3"
    },
    "language_info": {
      "name": "python"
    }
  },
  "cells": [
    {
      "cell_type": "markdown",
      "metadata": {
        "id": "view-in-github",
        "colab_type": "text"
      },
      "source": [
        "<a href=\"https://colab.research.google.com/github/FeraMaks/test/blob/main/09_dataset_and_dataloader.ipynb\" target=\"_parent\"><img src=\"https://colab.research.google.com/assets/colab-badge.svg\" alt=\"Open In Colab\"/></a>"
      ]
    },
    {
      "cell_type": "markdown",
      "source": [
        "##✈Import libraries"
      ],
      "metadata": {
        "id": "uJAOr3iiQnL3"
      }
    },
    {
      "cell_type": "code",
      "execution_count": 4,
      "metadata": {
        "id": "-ELhG41AQZx9"
      },
      "outputs": [],
      "source": [
        "import torch\n",
        "import torchvision\n",
        "from torch.utils.data import Dataset, DataLoader\n",
        "import numpy as np\n",
        "import math\n",
        "\n",
        "from google.colab import drive"
      ]
    },
    {
      "cell_type": "code",
      "source": [
        "drive.mount('/content/drive/MyDrive/Dataset/wine.csv')"
      ],
      "metadata": {
        "colab": {
          "base_uri": "https://localhost:8080/"
        },
        "id": "S-UZ5ZHPXW7r",
        "outputId": "797d2321-91d2-483c-e18f-5b3a77dd76a5"
      },
      "execution_count": 5,
      "outputs": [
        {
          "output_type": "stream",
          "name": "stdout",
          "text": [
            "Mounted at /content/drive\n"
          ]
        }
      ]
    },
    {
      "cell_type": "markdown",
      "source": [
        "#Data set"
      ],
      "metadata": {
        "id": "9pU7JAkYYvN0"
      }
    },
    {
      "cell_type": "code",
      "source": [
        "class WineDataset(Dataset):\n",
        "  def __init__(self):\n",
        "    xy = np.loadtxt('/content/drive/MyDrive/Dataset/wine.csv',delimiter=',', dtype=np.float32, skiprows=1)\n",
        "    self.x = torch.from_numpy(xy[:, 1:])\n",
        "    self.y = torch.from_numpy(xy[:, 0])\n",
        "    self.n = xy.shape[0]\n",
        "\n",
        "  def __getitem__(self, index):\n",
        "    return self.x[index], self.y[index]\n",
        "  \n",
        "  def __len__(self):\n",
        "    return self.n"
      ],
      "metadata": {
        "id": "8JeNfrmkYw_f"
      },
      "execution_count": 6,
      "outputs": []
    },
    {
      "cell_type": "code",
      "source": [
        "dataset = WineDataset()\n",
        "first_data = dataset[0]\n",
        "print(first_data)"
      ],
      "metadata": {
        "colab": {
          "base_uri": "https://localhost:8080/"
        },
        "id": "aZ5g0cCnc2PO",
        "outputId": "bd9af824-f511-48ed-f75f-267a6e5eb588"
      },
      "execution_count": 8,
      "outputs": [
        {
          "output_type": "stream",
          "name": "stdout",
          "text": [
            "(tensor([1.4230e+01, 1.7100e+00, 2.4300e+00, 1.5600e+01, 1.2700e+02, 2.8000e+00,\n",
            "        3.0600e+00, 2.8000e-01, 2.2900e+00, 5.6400e+00, 1.0400e+00, 3.9200e+00,\n",
            "        1.0650e+03]), tensor(1.))\n"
          ]
        }
      ]
    },
    {
      "cell_type": "code",
      "source": [
        "dataloader = DataLoader(dataset=dataset, batch_size = 4, shuffle=True, num_workers=2)"
      ],
      "metadata": {
        "id": "kO6-eNh7dN4_"
      },
      "execution_count": 9,
      "outputs": []
    },
    {
      "cell_type": "code",
      "source": [
        "dataiter = iter(dataloader)\n",
        "data = dataiter.next()\n",
        "features, labels = data\n",
        "print(features, labels)\n",
        "#inputs=features, targets=labels"
      ],
      "metadata": {
        "colab": {
          "base_uri": "https://localhost:8080/"
        },
        "id": "ctjT9zyXdqq1",
        "outputId": "62986121-65e9-4d94-86ad-8d6a43f1aece"
      },
      "execution_count": 11,
      "outputs": [
        {
          "output_type": "stream",
          "name": "stdout",
          "text": [
            "tensor([[1.4100e+01, 2.0200e+00, 2.4000e+00, 1.8800e+01, 1.0300e+02, 2.7500e+00,\n",
            "         2.9200e+00, 3.2000e-01, 2.3800e+00, 6.2000e+00, 1.0700e+00, 2.7500e+00,\n",
            "         1.0600e+03],\n",
            "        [1.2000e+01, 9.2000e-01, 2.0000e+00, 1.9000e+01, 8.6000e+01, 2.4200e+00,\n",
            "         2.2600e+00, 3.0000e-01, 1.4300e+00, 2.5000e+00, 1.3800e+00, 3.1200e+00,\n",
            "         2.7800e+02],\n",
            "        [1.4390e+01, 1.8700e+00, 2.4500e+00, 1.4600e+01, 9.6000e+01, 2.5000e+00,\n",
            "         2.5200e+00, 3.0000e-01, 1.9800e+00, 5.2500e+00, 1.0200e+00, 3.5800e+00,\n",
            "         1.2900e+03],\n",
            "        [1.1460e+01, 3.7400e+00, 1.8200e+00, 1.9500e+01, 1.0700e+02, 3.1800e+00,\n",
            "         2.5800e+00, 2.4000e-01, 3.5800e+00, 2.9000e+00, 7.5000e-01, 2.8100e+00,\n",
            "         5.6200e+02]]) tensor([1., 2., 1., 2.])\n"
          ]
        }
      ]
    },
    {
      "cell_type": "markdown",
      "source": [
        "# Training loop (empty)"
      ],
      "metadata": {
        "id": "ExkvB2iieYSl"
      }
    },
    {
      "cell_type": "code",
      "source": [
        "num_epoch = 2\n",
        "batch_size = 4\n",
        "total_samples = len(dataset)\n",
        "n_iteration = math.ceil(total_samples/batch_size)"
      ],
      "metadata": {
        "id": "d48QiCKneJHP"
      },
      "execution_count": 12,
      "outputs": []
    },
    {
      "cell_type": "code",
      "source": [
        "for epoch in range(num_epoch):\n",
        "  for i, (inputs, targets) in enumerate (dataloader):\n",
        "    #forward\n",
        "    #backward\n",
        "    #update\n",
        "    if (i+1)% 5 == 0:\n",
        "      print(f'epoch {epoch}/{num_epoch}, iteration {i+1}/{n_iteration},inputs {inputs.shape}, targets {targets.shape}')"
      ],
      "metadata": {
        "colab": {
          "base_uri": "https://localhost:8080/"
        },
        "id": "WMt8pnxje7nW",
        "outputId": "32fb6dea-19dc-4fe6-b616-3a16b2b17f54"
      },
      "execution_count": 14,
      "outputs": [
        {
          "output_type": "stream",
          "name": "stdout",
          "text": [
            "epoch 0/2, iteration 5/45,inputs torch.Size([4, 13]), targets torch.Size([4])\n",
            "epoch 0/2, iteration 10/45,inputs torch.Size([4, 13]), targets torch.Size([4])\n",
            "epoch 0/2, iteration 15/45,inputs torch.Size([4, 13]), targets torch.Size([4])\n",
            "epoch 0/2, iteration 20/45,inputs torch.Size([4, 13]), targets torch.Size([4])\n",
            "epoch 0/2, iteration 25/45,inputs torch.Size([4, 13]), targets torch.Size([4])\n",
            "epoch 0/2, iteration 30/45,inputs torch.Size([4, 13]), targets torch.Size([4])\n",
            "epoch 0/2, iteration 35/45,inputs torch.Size([4, 13]), targets torch.Size([4])\n",
            "epoch 0/2, iteration 40/45,inputs torch.Size([4, 13]), targets torch.Size([4])\n",
            "epoch 0/2, iteration 45/45,inputs torch.Size([2, 13]), targets torch.Size([2])\n",
            "epoch 1/2, iteration 5/45,inputs torch.Size([4, 13]), targets torch.Size([4])\n",
            "epoch 1/2, iteration 10/45,inputs torch.Size([4, 13]), targets torch.Size([4])\n",
            "epoch 1/2, iteration 15/45,inputs torch.Size([4, 13]), targets torch.Size([4])\n",
            "epoch 1/2, iteration 20/45,inputs torch.Size([4, 13]), targets torch.Size([4])\n",
            "epoch 1/2, iteration 25/45,inputs torch.Size([4, 13]), targets torch.Size([4])\n",
            "epoch 1/2, iteration 30/45,inputs torch.Size([4, 13]), targets torch.Size([4])\n",
            "epoch 1/2, iteration 35/45,inputs torch.Size([4, 13]), targets torch.Size([4])\n",
            "epoch 1/2, iteration 40/45,inputs torch.Size([4, 13]), targets torch.Size([4])\n",
            "epoch 1/2, iteration 45/45,inputs torch.Size([2, 13]), targets torch.Size([2])\n"
          ]
        }
      ]
    }
  ]
}