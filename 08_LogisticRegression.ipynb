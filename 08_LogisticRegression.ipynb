{
  "nbformat": 4,
  "nbformat_minor": 0,
  "metadata": {
    "colab": {
      "provenance": [],
      "authorship_tag": "ABX9TyM5+poZhuqT0/ic4X+99nB3",
      "include_colab_link": true
    },
    "kernelspec": {
      "name": "python3",
      "display_name": "Python 3"
    },
    "language_info": {
      "name": "python"
    }
  },
  "cells": [
    {
      "cell_type": "markdown",
      "metadata": {
        "id": "view-in-github",
        "colab_type": "text"
      },
      "source": [
        "<a href=\"https://colab.research.google.com/github/FeraMaks/test/blob/main/08_LogisticRegression.ipynb\" target=\"_parent\"><img src=\"https://colab.research.google.com/assets/colab-badge.svg\" alt=\"Open In Colab\"/></a>"
      ]
    },
    {
      "cell_type": "markdown",
      "source": [
        "# Import libraries"
      ],
      "metadata": {
        "id": "Q4XM6PncQc_N"
      }
    },
    {
      "cell_type": "code",
      "source": [
        "import torch\n",
        "import torch.nn as nn\n",
        "import numpy as np\n",
        "from sklearn import datasets\n",
        "from sklearn.preprocessing import StandardScaler\n",
        "from sklearn.model_selection import train_test_split\n",
        "#import matplotlib.pyplot as plt\n"
      ],
      "metadata": {
        "id": "B43e128uQh8m"
      },
      "execution_count": 1,
      "outputs": []
    },
    {
      "cell_type": "markdown",
      "source": [
        "# Initialisation"
      ],
      "metadata": {
        "id": "iozBvKwWRBXP"
      }
    },
    {
      "cell_type": "code",
      "source": [
        "bc = datasets.load_breast_cancer()\n",
        "\n",
        "X, Y = bc.data, bc.target\n",
        "\n",
        "n_samples, n_features = X.shape\n",
        "\n",
        "X_train, X_test, Y_train, Y_test = train_test_split(X, Y, test_size=0.2)\n",
        "\n",
        "#scale\n",
        "sc = StandardScaler()\n",
        "X_train = sc.fit_transform(X_train)\n",
        "X_test = sc.transform(X_test)\n",
        "\n",
        "X_numpy, Y_numpy = datasets.make_regression(n_samples = 100, n_features = 1, noise = 10)\n",
        "\n",
        "X_train = torch.from_numpy(X_train.astype(np.float32))\n",
        "X_test = torch.from_numpy(X_test.astype(np.float32))\n",
        "\n",
        "Y_train = torch.from_numpy(Y_train.astype(np.float32))\n",
        "Y_test = torch.from_numpy(Y_test.astype(np.float32))\n",
        "\n",
        "Y_train = Y_train.view(Y_train.shape[0], 1)\n",
        "Y_test = Y_test.view(Y_test.shape[0], 1)"
      ],
      "metadata": {
        "id": "G_3vROmSRD1K"
      },
      "execution_count": 10,
      "outputs": []
    },
    {
      "cell_type": "code",
      "source": [
        "X.shape"
      ],
      "metadata": {
        "colab": {
          "base_uri": "https://localhost:8080/"
        },
        "id": "RlqaG_LxkBiZ",
        "outputId": "a7a4ecd7-d16e-4ab8-d0c8-bbfc80f33114"
      },
      "execution_count": 3,
      "outputs": [
        {
          "output_type": "execute_result",
          "data": {
            "text/plain": [
              "(569, 30)"
            ]
          },
          "metadata": {},
          "execution_count": 3
        }
      ]
    },
    {
      "cell_type": "markdown",
      "source": [
        "# Model prediction"
      ],
      "metadata": {
        "id": "vLEo6cEFTD7M"
      }
    },
    {
      "cell_type": "code",
      "source": [
        "input_size = n_features\n",
        "output_size = 1\n",
        "\n",
        "class LogisticRegression(nn.Module):\n",
        "  def __init__(self, input_dim, output_dim):\n",
        "    super(LogisticRegression, self).__init__()\n",
        "    #define layers\n",
        "    self.lin = nn.Linear(input_dim, output_dim)\n",
        "  def forward(self, x):\n",
        "    return torch.sigmoid(self.lin(x))\n"
      ],
      "metadata": {
        "id": "kPpGrtfrS7Ik"
      },
      "execution_count": 4,
      "outputs": []
    },
    {
      "cell_type": "code",
      "source": [
        "model = LogisticRegression(input_size, output_size)"
      ],
      "metadata": {
        "id": "6WQ_SVTFUtWa"
      },
      "execution_count": 5,
      "outputs": []
    },
    {
      "cell_type": "markdown",
      "source": [
        "Loss"
      ],
      "metadata": {
        "id": "UaZdfJXgU-Zi"
      }
    },
    {
      "cell_type": "code",
      "source": [
        "loss = nn.BCELoss()"
      ],
      "metadata": {
        "id": "U7ZjJLUQU5Ar"
      },
      "execution_count": 6,
      "outputs": []
    },
    {
      "cell_type": "markdown",
      "source": [
        "#Training"
      ],
      "metadata": {
        "id": "GiDFd_EgVISp"
      }
    },
    {
      "cell_type": "code",
      "source": [
        "lr = 0.01\n",
        "n = 1000\n",
        "\n",
        "optimizer = torch.optim.SGD(model.parameters(), lr = lr)\n",
        "\n",
        "for epoch in range(n):\n",
        "  #prediction\n",
        "  H = model(X_train)\n",
        "  #loss\n",
        "  L = loss(H, Y_train)\n",
        "  L.backward()\n",
        "  #update\n",
        "  optimizer.step()\n",
        "  #zero gradients\n",
        "  optimizer.zero_grad()\n",
        "\n",
        "  if (epoch+1) % 100 == 0:\n",
        "    [w,b] = model.parameters()\n",
        "    print(f'epoch = {epoch+1}: w = {w[0][0]:.3f},loss = {L.item():.5f}')\n",
        "with torch.no_grad():\n",
        "  y_predicted = model(X_test)\n",
        "  y_predicted_cls = y_predicted.round()\n",
        "  accuracy = y_predicted_cls.eq(Y_test).sum()/float(Y_test.shape[0])\n",
        "  print(f'accuracy = {accuracy:.4f}')"
      ],
      "metadata": {
        "colab": {
          "base_uri": "https://localhost:8080/"
        },
        "id": "sTBmmDQlU3N1",
        "outputId": "53dad03f-ffe0-4fc3-a16f-88159ca78739"
      },
      "execution_count": 11,
      "outputs": [
        {
          "output_type": "stream",
          "name": "stdout",
          "text": [
            "epoch = 100: w = -0.080,loss = 0.23854\n",
            "epoch = 200: w = -0.138,loss = 0.18313\n",
            "epoch = 300: w = -0.176,loss = 0.15838\n",
            "epoch = 400: w = -0.204,loss = 0.14376\n",
            "epoch = 500: w = -0.226,loss = 0.13388\n",
            "epoch = 600: w = -0.245,loss = 0.12665\n",
            "epoch = 700: w = -0.260,loss = 0.12105\n",
            "epoch = 800: w = -0.273,loss = 0.11656\n",
            "epoch = 900: w = -0.285,loss = 0.11284\n",
            "epoch = 1000: w = -0.296,loss = 0.10970\n",
            "accuracy = 1.0000\n"
          ]
        }
      ]
    },
    {
      "cell_type": "markdown",
      "source": [
        "#Visualization"
      ],
      "metadata": {
        "id": "RNm50dr4XzSq"
      }
    },
    {
      "cell_type": "code",
      "source": [
        "#predictions = model(X).detach().numpy()\n",
        "#plt.plot(X_numpy, Y_numpy, 'ro')\n",
        "#plt.plot(X_numpy, predictions, 'b')"
      ],
      "metadata": {
        "id": "cwpk8g5UV9F9"
      },
      "execution_count": null,
      "outputs": []
    }
  ]
}