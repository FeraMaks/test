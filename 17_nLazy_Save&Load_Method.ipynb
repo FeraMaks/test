{
  "nbformat": 4,
  "nbformat_minor": 0,
  "metadata": {
    "colab": {
      "provenance": [],
      "authorship_tag": "ABX9TyOhFE+qH1nOwCrMCn6xK+Pl",
      "include_colab_link": true
    },
    "kernelspec": {
      "name": "python3",
      "display_name": "Python 3"
    },
    "language_info": {
      "name": "python"
    }
  },
  "cells": [
    {
      "cell_type": "markdown",
      "metadata": {
        "id": "view-in-github",
        "colab_type": "text"
      },
      "source": [
        "<a href=\"https://colab.research.google.com/github/FeraMaks/test/blob/main/17_nLazy_Save%26Load_Method.ipynb\" target=\"_parent\"><img src=\"https://colab.research.google.com/assets/colab-badge.svg\" alt=\"Open In Colab\"/></a>"
      ]
    },
    {
      "cell_type": "code",
      "execution_count": 1,
      "metadata": {
        "id": "cSwOCJBiPFjd"
      },
      "outputs": [],
      "source": [
        "import torch\n",
        "import torch.nn as nn"
      ]
    },
    {
      "cell_type": "code",
      "source": [
        "class Model(nn.Module):\n",
        "  def __init__(self, n_input_features):\n",
        "    super(Model, self).__init__()\n",
        "    self.linear = nn.Linear(n_input_features, 1)\n",
        "  \n",
        "  def forward(self, x):\n",
        "    y_pred = torch.sigmoid(self.linear(x))\n",
        "    return y_pred\n",
        "\n",
        "model = Model(n_input_features=6)\n",
        "#train your model...\n",
        "\n",
        "for param in model.parameters():\n",
        "  print(param)\n",
        "FILE = \"model.pth\"\n",
        "torch.save(model.state_dict(), FILE)\n",
        "#model = torch.load(FILE)\n",
        "#model.eval()\n",
        "\n",
        "loaded_model = Model(n_input_features=6)\n",
        "loaded_model.load_state_dict(torch.load(FILE))\n",
        "loaded_model.eval()\n",
        "\n",
        "for param in loaded_model.parameters():\n",
        "  print(param)"
      ],
      "metadata": {
        "colab": {
          "base_uri": "https://localhost:8080/"
        },
        "id": "5e1pKCVZPIpK",
        "outputId": "b8b8023c-c568-4582-e304-3d25da4b89f7"
      },
      "execution_count": 2,
      "outputs": [
        {
          "output_type": "stream",
          "name": "stdout",
          "text": [
            "Parameter containing:\n",
            "tensor([[ 0.2422,  0.2903, -0.2093,  0.0659,  0.2346, -0.2866]],\n",
            "       requires_grad=True)\n",
            "Parameter containing:\n",
            "tensor([-0.2905], requires_grad=True)\n",
            "Parameter containing:\n",
            "tensor([[ 0.2422,  0.2903, -0.2093,  0.0659,  0.2346, -0.2866]],\n",
            "       requires_grad=True)\n",
            "Parameter containing:\n",
            "tensor([-0.2905], requires_grad=True)\n"
          ]
        }
      ]
    }
  ]
}