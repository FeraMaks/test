{
  "nbformat": 4,
  "nbformat_minor": 0,
  "metadata": {
    "colab": {
      "provenance": [],
      "authorship_tag": "ABX9TyNBufo/7cw6kcyV7NqN6GMa",
      "include_colab_link": true
    },
    "kernelspec": {
      "name": "python3",
      "display_name": "Python 3"
    },
    "language_info": {
      "name": "python"
    }
  },
  "cells": [
    {
      "cell_type": "markdown",
      "metadata": {
        "id": "view-in-github",
        "colab_type": "text"
      },
      "source": [
        "<a href=\"https://colab.research.google.com/github/FeraMaks/test/blob/main/05_1_gradientDescent_torch.ipynb\" target=\"_parent\"><img src=\"https://colab.research.google.com/assets/colab-badge.svg\" alt=\"Open In Colab\"/></a>"
      ]
    },
    {
      "cell_type": "markdown",
      "source": [
        "Import libraries"
      ],
      "metadata": {
        "id": "pG6COUw_HaYC"
      }
    },
    {
      "cell_type": "code",
      "execution_count": 4,
      "metadata": {
        "id": "woiWXr2-G56f"
      },
      "outputs": [],
      "source": [
        "import torch"
      ]
    },
    {
      "cell_type": "markdown",
      "source": [
        "#Initialization"
      ],
      "metadata": {
        "id": "OiNwpbb3Hkx-"
      }
    },
    {
      "cell_type": "code",
      "source": [
        "#y = 2*x"
      ],
      "metadata": {
        "id": "2EXrxOBHK8RB"
      },
      "execution_count": 5,
      "outputs": []
    },
    {
      "cell_type": "code",
      "source": [
        "X = torch.tensor([1, 2, 3, 4], dtype=torch.float32)\n",
        "Y = torch.tensor([2, 4, 6, 8], dtype=torch.float32)\n",
        "x_test = torch.tensor([5], dtype=torch.float32)\n",
        "theta = torch.tensor([1.0], dtype=torch.float32, requires_grad=True)"
      ],
      "metadata": {
        "id": "6NHN462CHnW9"
      },
      "execution_count": 6,
      "outputs": []
    },
    {
      "cell_type": "markdown",
      "source": [
        "#Forward pass"
      ],
      "metadata": {
        "id": "6NKs7WcXIQPE"
      }
    },
    {
      "cell_type": "code",
      "source": [
        "def forward(x):\n",
        "  return theta*x"
      ],
      "metadata": {
        "id": "ivXVrYUhIRfD"
      },
      "execution_count": 7,
      "outputs": []
    },
    {
      "cell_type": "code",
      "source": [
        "def loss(y, h):\n",
        "  return((y-h)**2).mean()"
      ],
      "metadata": {
        "id": "cz4P1frkLzfe"
      },
      "execution_count": 8,
      "outputs": []
    },
    {
      "cell_type": "markdown",
      "source": [
        "#Training"
      ],
      "metadata": {
        "id": "5CiZB6WLI-Oa"
      }
    },
    {
      "cell_type": "code",
      "source": [
        "lr = 0.01\n",
        "n = 100\n",
        "\n",
        "for epoch in range(n):\n",
        "  #prediction\n",
        "  H = forward(X)\n",
        "  #loss\n",
        "  L = loss(Y,H)\n",
        "  #gradient\n",
        "  L.backward() #grad_theta = gradient(X, Y, H)\n",
        "  #update\n",
        "  with torch.no_grad():\n",
        "    theta -= lr*theta.grad\n",
        "  theta.grad.zero_()\n",
        "\n",
        "  if epoch % 10 == 0:\n",
        "    print(f'epoch = {epoch+1}, theta = {theta}, loss = {L}')"
      ],
      "metadata": {
        "colab": {
          "base_uri": "https://localhost:8080/"
        },
        "id": "94MOaZv7I1Bb",
        "outputId": "4fe3a828-937f-44a2-f435-2c92ac63b9f3"
      },
      "execution_count": 9,
      "outputs": [
        {
          "output_type": "stream",
          "name": "stdout",
          "text": [
            "epoch = 1, theta = tensor([1.1500], requires_grad=True), loss = 7.5\n",
            "epoch = 11, theta = tensor([1.8327], requires_grad=True), loss = 0.2906963527202606\n",
            "epoch = 21, theta = tensor([1.9671], requires_grad=True), loss = 0.011267285794019699\n",
            "epoch = 31, theta = tensor([1.9935], requires_grad=True), loss = 0.00043670617742463946\n",
            "epoch = 41, theta = tensor([1.9987], requires_grad=True), loss = 1.692865407676436e-05\n",
            "epoch = 51, theta = tensor([1.9997], requires_grad=True), loss = 6.560999281646218e-07\n",
            "epoch = 61, theta = tensor([2.0000], requires_grad=True), loss = 2.5496280642300917e-08\n",
            "epoch = 71, theta = tensor([2.0000], requires_grad=True), loss = 9.822542779147625e-10\n",
            "epoch = 81, theta = tensor([2.0000], requires_grad=True), loss = 3.807443249570497e-11\n",
            "epoch = 91, theta = tensor([2.0000], requires_grad=True), loss = 8.988365607365267e-13\n"
          ]
        }
      ]
    },
    {
      "cell_type": "code",
      "source": [],
      "metadata": {
        "id": "vT8oTYDXKiSi"
      },
      "execution_count": 9,
      "outputs": []
    }
  ]
}