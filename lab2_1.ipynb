{
  "nbformat": 4,
  "nbformat_minor": 0,
  "metadata": {
    "colab": {
      "provenance": [],
      "collapsed_sections": [],
      "authorship_tag": "ABX9TyPlzT0F8exGzthHx0NlcXfG",
      "include_colab_link": true
    },
    "kernelspec": {
      "name": "python3",
      "display_name": "Python 3"
    },
    "language_info": {
      "name": "python"
    }
  },
  "cells": [
    {
      "cell_type": "markdown",
      "metadata": {
        "id": "view-in-github",
        "colab_type": "text"
      },
      "source": [
        "<a href=\"https://colab.research.google.com/github/FeraMaks/test/blob/main/lab2_1.ipynb\" target=\"_parent\"><img src=\"https://colab.research.google.com/assets/colab-badge.svg\" alt=\"Open In Colab\"/></a>"
      ]
    },
    {
      "cell_type": "code",
      "execution_count": 14,
      "metadata": {
        "id": "JIFShNqA2sa1"
      },
      "outputs": [],
      "source": [
        "import numpy as np\n",
        "import numpy.linalg as lina\n",
        "import matplotlib.pyplot as plt\n",
        "from mpl_toolkits.mplot3d import Axes3D"
      ]
    },
    {
      "cell_type": "code",
      "source": [
        "N1 = 5\n",
        "N2 = 5\n",
        "L1 = 1\n",
        "L2 = 1\n",
        "X1 = np.linspace(0,L1,N1)\n",
        "X2 = np.linspace(0,L2,N2)\n",
        "Tbot = np.zeros((1,N1))\n",
        "Ttop = np.zeros((N2,1))\n",
        "Ta, Tb, Tc = 200, 300, 400\n",
        "a = 1/((X1[1]-X1[0])**2)\n",
        "b = 1/((X2[1]-X2[0])**2)\n",
        "c = -2*(a+b)\n",
        "X1"
      ],
      "metadata": {
        "id": "f0FXuqeK8u8M",
        "colab": {
          "base_uri": "https://localhost:8080/"
        },
        "outputId": "d7049f2b-b6f4-4501-81c8-03b3ca936d4d"
      },
      "execution_count": 2,
      "outputs": [
        {
          "output_type": "execute_result",
          "data": {
            "text/plain": [
              "array([0.  , 0.25, 0.5 , 0.75, 1.  ])"
            ]
          },
          "metadata": {},
          "execution_count": 2
        }
      ]
    },
    {
      "cell_type": "code",
      "source": [
        "K = np.zeros(((N1-1)*(N2-1),(N1-1)*(N2-1)))\n",
        "T = np.zeros(((N1),(N2)))\n",
        "P = np.zeros(((N1-1)*(N2-1),1))\n",
        "T"
      ],
      "metadata": {
        "colab": {
          "base_uri": "https://localhost:8080/"
        },
        "id": "iVSssOe-866-",
        "outputId": "da97f900-12ad-4def-a890-7610e573c05e"
      },
      "execution_count": 3,
      "outputs": [
        {
          "output_type": "execute_result",
          "data": {
            "text/plain": [
              "array([[0., 0., 0., 0., 0.],\n",
              "       [0., 0., 0., 0., 0.],\n",
              "       [0., 0., 0., 0., 0.],\n",
              "       [0., 0., 0., 0., 0.],\n",
              "       [0., 0., 0., 0., 0.]])"
            ]
          },
          "metadata": {},
          "execution_count": 3
        }
      ]
    },
    {
      "cell_type": "code",
      "source": [
        "for j in range (N2-1):\n",
        "  for i in range (N1-1):\n",
        "    K[i+j*(N1-1),i+j*(N2-1)] = c\n",
        "    if i != N2-2:\n",
        "      K[i+1+j*(N1-1),i+j*(N2-1)] = a\n",
        "    if j != N2-2:\n",
        "      K[i-1+j*(N1-1),i+j*(N2-1)] = a\n",
        "      K[i+j*(N1-1),i+(j+1)*(N2-1)] = b\n",
        "    if i == (N1-2):\n",
        "      K[i+j*(N1-1),i+j*(N2-1)] = c+a\n",
        "  if j == (N2-2):\n",
        "    for i in range (N1-1):\n",
        "      K[i+j*(N1-1),i+j*(N2-1)] = c+b\n",
        "    if i == (N1-2):\n",
        "      K[i+j*(N1-1),i+j*(N2-1)] = c+b+a\n",
        "K"
      ],
      "metadata": {
        "colab": {
          "base_uri": "https://localhost:8080/"
        },
        "id": "qJjxExNK-muP",
        "outputId": "e7d173b7-a41d-4eab-d7ea-733b443e6307"
      },
      "execution_count": 4,
      "outputs": [
        {
          "output_type": "execute_result",
          "data": {
            "text/plain": [
              "array([[-64.,  16.,   0.,   0.,  16.,   0.,   0.,   0.,   0.,   0.,   0.,\n",
              "          0.,   0.,   0.,   0.,   0.],\n",
              "       [ 16., -64.,  16.,   0.,   0.,  16.,   0.,   0.,   0.,   0.,   0.,\n",
              "          0.,   0.,   0.,   0.,   0.],\n",
              "       [  0.,  16., -64.,  16.,   0.,   0.,  16.,   0.,   0.,   0.,   0.,\n",
              "          0.,   0.,   0.,   0.,   0.],\n",
              "       [  0.,   0.,  16., -48.,  16.,   0.,   0.,  16.,   0.,   0.,   0.,\n",
              "          0.,   0.,   0.,   0.,   0.],\n",
              "       [  0.,   0.,   0.,   0., -64.,  16.,   0.,   0.,  16.,   0.,   0.,\n",
              "          0.,   0.,   0.,   0.,   0.],\n",
              "       [  0.,   0.,   0.,   0.,  16., -64.,  16.,   0.,   0.,  16.,   0.,\n",
              "          0.,   0.,   0.,   0.,   0.],\n",
              "       [  0.,   0.,   0.,   0.,   0.,  16., -64.,  16.,   0.,   0.,  16.,\n",
              "          0.,   0.,   0.,   0.,   0.],\n",
              "       [  0.,   0.,   0.,   0.,   0.,   0.,  16., -48.,  16.,   0.,   0.,\n",
              "         16.,   0.,   0.,   0.,   0.],\n",
              "       [  0.,   0.,   0.,   0.,   0.,   0.,   0.,   0., -64.,  16.,   0.,\n",
              "          0.,  16.,   0.,   0.,   0.],\n",
              "       [  0.,   0.,   0.,   0.,   0.,   0.,   0.,   0.,  16., -64.,  16.,\n",
              "          0.,   0.,  16.,   0.,   0.],\n",
              "       [  0.,   0.,   0.,   0.,   0.,   0.,   0.,   0.,   0.,  16., -64.,\n",
              "         16.,   0.,   0.,  16.,   0.],\n",
              "       [  0.,   0.,   0.,   0.,   0.,   0.,   0.,   0.,   0.,   0.,  16.,\n",
              "        -48.,   0.,   0.,   0.,  16.],\n",
              "       [  0.,   0.,   0.,   0.,   0.,   0.,   0.,   0.,   0.,   0.,   0.,\n",
              "          0., -48.,   0.,   0.,   0.],\n",
              "       [  0.,   0.,   0.,   0.,   0.,   0.,   0.,   0.,   0.,   0.,   0.,\n",
              "          0.,  16., -48.,   0.,   0.],\n",
              "       [  0.,   0.,   0.,   0.,   0.,   0.,   0.,   0.,   0.,   0.,   0.,\n",
              "          0.,   0.,  16., -48.,   0.],\n",
              "       [ 16.,   0.,   0.,   0.,   0.,   0.,   0.,   0.,   0.,   0.,   0.,\n",
              "          0.,   0.,   0.,  16., -32.]])"
            ]
          },
          "metadata": {},
          "execution_count": 4
        }
      ]
    },
    {
      "cell_type": "code",
      "source": [
        "for i in range (N1):\n",
        "  Tbot[0,i] = (Tc-Ta)/L2*X2[i]+Ta\n",
        "Tbot"
      ],
      "metadata": {
        "colab": {
          "base_uri": "https://localhost:8080/"
        },
        "id": "gMmxmJM3woib",
        "outputId": "0c0cf580-fb4e-4cc9-e639-63d560be7c8a"
      },
      "execution_count": 5,
      "outputs": [
        {
          "output_type": "execute_result",
          "data": {
            "text/plain": [
              "array([[200., 250., 300., 350., 400.]])"
            ]
          },
          "metadata": {},
          "execution_count": 5
        }
      ]
    },
    {
      "cell_type": "code",
      "source": [
        "for i in range (N2):\n",
        "  Ttop[i,0] = (Tb-Ta)/L1*X1[i]+Ta\n",
        "Ttop"
      ],
      "metadata": {
        "colab": {
          "base_uri": "https://localhost:8080/"
        },
        "id": "9IcW8NiGyF32",
        "outputId": "8b62085c-650f-4684-e10f-1f1891965d36"
      },
      "execution_count": 6,
      "outputs": [
        {
          "output_type": "execute_result",
          "data": {
            "text/plain": [
              "array([[200.],\n",
              "       [225.],\n",
              "       [250.],\n",
              "       [275.],\n",
              "       [300.]])"
            ]
          },
          "metadata": {},
          "execution_count": 6
        }
      ]
    },
    {
      "cell_type": "code",
      "source": [
        "(b-a)/L1"
      ],
      "metadata": {
        "id": "SKqrj66DAMSB",
        "colab": {
          "base_uri": "https://localhost:8080/"
        },
        "outputId": "2f2f2ce1-d63f-4198-c4bf-af1f55cd01d8"
      },
      "execution_count": 7,
      "outputs": [
        {
          "output_type": "execute_result",
          "data": {
            "text/plain": [
              "0.0"
            ]
          },
          "metadata": {},
          "execution_count": 7
        }
      ]
    },
    {
      "cell_type": "code",
      "source": [
        "for j in range (N2-1):\n",
        "  for i in range (N1-1):\n",
        "    if i == 0:\n",
        "      P[i+j*(N1-1),0] = -a*Ttop[j]\n",
        "    if j == 0:\n",
        "      P[i+j*(N1-1),0] = -a*Ttop[i,0]-b*Tbot[0,i]\n",
        "      P[i+1+j*(N1-1),0] = -b*Tbot[0,i]\n",
        "P"
      ],
      "metadata": {
        "id": "yAJx91WCLRq0",
        "colab": {
          "base_uri": "https://localhost:8080/"
        },
        "outputId": "b249eccb-4808-4e1d-b4b2-035d0bfa7096"
      },
      "execution_count": 10,
      "outputs": [
        {
          "output_type": "execute_result",
          "data": {
            "text/plain": [
              "array([[ -6400.],\n",
              "       [ -7600.],\n",
              "       [ -8800.],\n",
              "       [-10000.],\n",
              "       [ -3600.],\n",
              "       [     0.],\n",
              "       [     0.],\n",
              "       [     0.],\n",
              "       [ -4000.],\n",
              "       [     0.],\n",
              "       [     0.],\n",
              "       [     0.],\n",
              "       [ -4400.],\n",
              "       [     0.],\n",
              "       [     0.],\n",
              "       [     0.]])"
            ]
          },
          "metadata": {},
          "execution_count": 10
        }
      ]
    },
    {
      "cell_type": "code",
      "source": [
        "T = lina.solve(K, P)\n",
        "T"
      ],
      "metadata": {
        "id": "WGEAhqCJ3zH0",
        "colab": {
          "base_uri": "https://localhost:8080/"
        },
        "outputId": "25c6c057-e3fd-47d9-ea33-dbe1703230fc"
      },
      "execution_count": 11,
      "outputs": [
        {
          "output_type": "execute_result",
          "data": {
            "text/plain": [
              "array([[184.50230837],\n",
              "       [248.42745093],\n",
              "       [295.47084725],\n",
              "       [354.78638943],\n",
              "       [ 89.58178253],\n",
              "       [ 38.73664813],\n",
              "       [ 28.66954862],\n",
              "       [ 54.3065385 ],\n",
              "       [ 94.59048201],\n",
              "       [ 36.69526135],\n",
              "       [ 21.63500785],\n",
              "       [ 39.65958488],\n",
              "       [ 91.66666667],\n",
              "       [ 30.55555556],\n",
              "       [ 10.18518519],\n",
              "       [ 97.34374678]])"
            ]
          },
          "metadata": {},
          "execution_count": 11
        }
      ]
    },
    {
      "cell_type": "code",
      "source": [
        "T = np.reshape(T,(4,4))\n",
        "T"
      ],
      "metadata": {
        "colab": {
          "base_uri": "https://localhost:8080/"
        },
        "id": "uhheULeR9bMI",
        "outputId": "107e3397-af19-4a9b-b046-3a36cf6a56a8"
      },
      "execution_count": 12,
      "outputs": [
        {
          "output_type": "execute_result",
          "data": {
            "text/plain": [
              "array([[184.50230837, 248.42745093, 295.47084725, 354.78638943],\n",
              "       [ 89.58178253,  38.73664813,  28.66954862,  54.3065385 ],\n",
              "       [ 94.59048201,  36.69526135,  21.63500785,  39.65958488],\n",
              "       [ 91.66666667,  30.55555556,  10.18518519,  97.34374678]])"
            ]
          },
          "metadata": {},
          "execution_count": 12
        }
      ]
    }
  ]
}