{
  "nbformat": 4,
  "nbformat_minor": 0,
  "metadata": {
    "colab": {
      "provenance": [],
      "authorship_tag": "ABX9TyPumQA9WrtZAmBNz1VkV96A",
      "include_colab_link": true
    },
    "kernelspec": {
      "name": "python3",
      "display_name": "Python 3"
    },
    "language_info": {
      "name": "python"
    }
  },
  "cells": [
    {
      "cell_type": "markdown",
      "metadata": {
        "id": "view-in-github",
        "colab_type": "text"
      },
      "source": [
        "<a href=\"https://colab.research.google.com/github/FeraMaks/test/blob/main/05_1_gradientDescent_numpy.ipynb\" target=\"_parent\"><img src=\"https://colab.research.google.com/assets/colab-badge.svg\" alt=\"Open In Colab\"/></a>"
      ]
    },
    {
      "cell_type": "markdown",
      "source": [
        "Import libraries"
      ],
      "metadata": {
        "id": "pG6COUw_HaYC"
      }
    },
    {
      "cell_type": "code",
      "execution_count": 25,
      "metadata": {
        "id": "woiWXr2-G56f"
      },
      "outputs": [],
      "source": [
        "import numpy as np"
      ]
    },
    {
      "cell_type": "markdown",
      "source": [
        "#Initialization"
      ],
      "metadata": {
        "id": "OiNwpbb3Hkx-"
      }
    },
    {
      "cell_type": "code",
      "source": [
        "y = 2*x"
      ],
      "metadata": {
        "id": "2EXrxOBHK8RB"
      },
      "execution_count": 26,
      "outputs": []
    },
    {
      "cell_type": "code",
      "source": [
        "X = np.array([1, 2, 3, 4], dtype=np.float32)\n",
        "Y = np.array([2, 4, 6, 8], dtype=np.float32)\n",
        "x_test = 5\n",
        "theta = 1.0"
      ],
      "metadata": {
        "id": "6NHN462CHnW9"
      },
      "execution_count": 27,
      "outputs": []
    },
    {
      "cell_type": "markdown",
      "source": [
        "#Forward pass"
      ],
      "metadata": {
        "id": "6NKs7WcXIQPE"
      }
    },
    {
      "cell_type": "code",
      "source": [
        "def forward(x):\n",
        "  return theta*x"
      ],
      "metadata": {
        "id": "ivXVrYUhIRfD"
      },
      "execution_count": 28,
      "outputs": []
    },
    {
      "cell_type": "code",
      "source": [
        "def loss(y, h):\n",
        "  return((y-h)**2).mean()"
      ],
      "metadata": {
        "id": "cz4P1frkLzfe"
      },
      "execution_count": 29,
      "outputs": []
    },
    {
      "cell_type": "markdown",
      "source": [
        "#Backward pass (Почему компонента градиента считается именно так)"
      ],
      "metadata": {
        "id": "PdFGXMd6Ip54"
      }
    },
    {
      "cell_type": "code",
      "source": [
        "def gradient(x, y, h):\n",
        "  return np.dot(-2*x, y-h).mean()\n",
        "print(f'Prediction befor training: h({x_test:.3f}) = {forward(x_test):.3f}')"
      ],
      "metadata": {
        "colab": {
          "base_uri": "https://localhost:8080/"
        },
        "id": "4yWfRw0aIm5V",
        "outputId": "38fae86a-a52d-4eaf-ab0c-b886a60c8879"
      },
      "execution_count": 30,
      "outputs": [
        {
          "output_type": "stream",
          "name": "stdout",
          "text": [
            "Prediction befor training: h(5.000) = 5.000\n"
          ]
        }
      ]
    },
    {
      "cell_type": "markdown",
      "source": [
        "#Trainig"
      ],
      "metadata": {
        "id": "5CiZB6WLI-Oa"
      }
    },
    {
      "cell_type": "code",
      "source": [
        "lr = 0.01\n",
        "n = 10\n",
        "\n",
        "for epoch in range(n):\n",
        "  #prediction\n",
        "  H = forward(X)\n",
        "  #loss\n",
        "  L = loss(Y,H)\n",
        "  #gradient\n",
        "  grad_theta = gradient(X, Y, H)\n",
        "  #update\n",
        "  theta -= lr*grad_theta\n",
        "  if epoch % 2 == 0:\n",
        "    print(f'epoch = {epoch+1}, theta = {theta:.3f}, loss = {L:.5f}')"
      ],
      "metadata": {
        "colab": {
          "base_uri": "https://localhost:8080/"
        },
        "id": "94MOaZv7I1Bb",
        "outputId": "c6f9f205-d7e9-41af-dd03-8c31079a9efc"
      },
      "execution_count": 31,
      "outputs": [
        {
          "output_type": "stream",
          "name": "stdout",
          "text": [
            "epoch = 1, theta = 1.600, loss = 7.50000\n",
            "epoch = 3, theta = 1.936, loss = 0.19200\n",
            "epoch = 5, theta = 1.990, loss = 0.00492\n",
            "epoch = 7, theta = 1.998, loss = 0.00013\n",
            "epoch = 9, theta = 2.000, loss = 0.00000\n"
          ]
        }
      ]
    },
    {
      "cell_type": "code",
      "source": [],
      "metadata": {
        "id": "vT8oTYDXKiSi"
      },
      "execution_count": 31,
      "outputs": []
    }
  ]
}