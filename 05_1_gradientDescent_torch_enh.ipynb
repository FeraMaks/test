{
  "nbformat": 4,
  "nbformat_minor": 0,
  "metadata": {
    "colab": {
      "provenance": [],
      "authorship_tag": "ABX9TyOdGSsWahZDHhbjuUoPvOSW",
      "include_colab_link": true
    },
    "kernelspec": {
      "name": "python3",
      "display_name": "Python 3"
    },
    "language_info": {
      "name": "python"
    }
  },
  "cells": [
    {
      "cell_type": "markdown",
      "metadata": {
        "id": "view-in-github",
        "colab_type": "text"
      },
      "source": [
        "<a href=\"https://colab.research.google.com/github/FeraMaks/test/blob/main/05_1_gradientDescent_torch_enh.ipynb\" target=\"_parent\"><img src=\"https://colab.research.google.com/assets/colab-badge.svg\" alt=\"Open In Colab\"/></a>"
      ]
    },
    {
      "cell_type": "markdown",
      "source": [
        "Import libraries"
      ],
      "metadata": {
        "id": "pG6COUw_HaYC"
      }
    },
    {
      "cell_type": "code",
      "execution_count": 1,
      "metadata": {
        "id": "woiWXr2-G56f"
      },
      "outputs": [],
      "source": [
        "import torch\n",
        "import torch.nn as nn"
      ]
    },
    {
      "cell_type": "markdown",
      "source": [
        "#Initialization"
      ],
      "metadata": {
        "id": "OiNwpbb3Hkx-"
      }
    },
    {
      "cell_type": "code",
      "source": [
        "#y = 2*x"
      ],
      "metadata": {
        "id": "2EXrxOBHK8RB"
      },
      "execution_count": 2,
      "outputs": []
    },
    {
      "cell_type": "code",
      "source": [
        "X = torch.tensor([1, 2, 3, 4], dtype=torch.float32)\n",
        "Y = torch.tensor([2, 4, 6, 8], dtype=torch.float32)\n",
        "x_test = torch.tensor([5], dtype=torch.float32)\n",
        "theta = torch.tensor([1.0], dtype=torch.float32, requires_grad=True)"
      ],
      "metadata": {
        "id": "6NHN462CHnW9"
      },
      "execution_count": 3,
      "outputs": []
    },
    {
      "cell_type": "markdown",
      "source": [
        "#Forward pass"
      ],
      "metadata": {
        "id": "6NKs7WcXIQPE"
      }
    },
    {
      "cell_type": "code",
      "source": [
        "def forward(x):\n",
        "  return theta*x"
      ],
      "metadata": {
        "id": "ivXVrYUhIRfD"
      },
      "execution_count": 4,
      "outputs": []
    },
    {
      "cell_type": "code",
      "source": [
        "loss = nn.MSELoss()"
      ],
      "metadata": {
        "id": "cz4P1frkLzfe"
      },
      "execution_count": 5,
      "outputs": []
    },
    {
      "cell_type": "markdown",
      "source": [
        "#Training"
      ],
      "metadata": {
        "id": "5CiZB6WLI-Oa"
      }
    },
    {
      "cell_type": "code",
      "source": [
        "lr = 0.01\n",
        "n = 100\n",
        "\n",
        "optimizer = torch.optim.SGD([theta],lr=lr)\n",
        "\n",
        "for epoch in range(n):\n",
        "  #prediction\n",
        "  H = forward(X)\n",
        "  #loss\n",
        "  L = loss(Y,H)\n",
        "  #gradient\n",
        "  L.backward() #grad_theta = gradient(X, Y, H)\n",
        "  #update\n",
        "  optimizer.step()\n",
        "  #zero grad\n",
        "  optimizer.zero_grad()\n",
        "\n",
        "\n",
        "  if epoch % 10 == 0:\n",
        "    print(f'epoch = {epoch+1}, theta = {theta.item():.3f}, loss = {L:.5f}')"
      ],
      "metadata": {
        "colab": {
          "base_uri": "https://localhost:8080/"
        },
        "id": "94MOaZv7I1Bb",
        "outputId": "963d01b2-ba25-4aff-a977-2848d37f4da8"
      },
      "execution_count": 6,
      "outputs": [
        {
          "output_type": "stream",
          "name": "stdout",
          "text": [
            "epoch = 1, theta = 1.150, loss = 7.50000\n",
            "epoch = 11, theta = 1.833, loss = 0.29070\n",
            "epoch = 21, theta = 1.967, loss = 0.01127\n",
            "epoch = 31, theta = 1.994, loss = 0.00044\n",
            "epoch = 41, theta = 1.999, loss = 0.00002\n",
            "epoch = 51, theta = 2.000, loss = 0.00000\n",
            "epoch = 61, theta = 2.000, loss = 0.00000\n",
            "epoch = 71, theta = 2.000, loss = 0.00000\n",
            "epoch = 81, theta = 2.000, loss = 0.00000\n",
            "epoch = 91, theta = 2.000, loss = 0.00000\n"
          ]
        }
      ]
    },
    {
      "cell_type": "code",
      "source": [],
      "metadata": {
        "id": "vT8oTYDXKiSi"
      },
      "execution_count": 6,
      "outputs": []
    }
  ]
}