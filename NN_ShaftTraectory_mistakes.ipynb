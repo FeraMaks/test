{
  "cells": [
    {
      "cell_type": "markdown",
      "metadata": {
        "id": "view-in-github",
        "colab_type": "text"
      },
      "source": [
        "<a href=\"https://colab.research.google.com/github/FeraMaks/test/blob/main/NN_ShaftTraectory_mistakes.ipynb\" target=\"_parent\"><img src=\"https://colab.research.google.com/assets/colab-badge.svg\" alt=\"Open In Colab\"/></a>"
      ]
    },
    {
      "cell_type": "code",
      "execution_count": null,
      "metadata": {
        "id": "UGwCWPzQ4PLb"
      },
      "outputs": [],
      "source": [
        "import torch\n",
        "import torch.nn as nn\n",
        "import torchvision\n",
        "import torchvision.transforms as transforms\n",
        "from torch.utils.data import Dataset, DataLoader\n",
        "import numpy as np\n",
        "import matplotlib.pyplot as plt\n",
        "import math\n",
        "import pandas as pd\n",
        "from numpy.core.memmap import uint8\n",
        "\n",
        "from google.colab import drive"
      ]
    },
    {
      "cell_type": "code",
      "execution_count": null,
      "metadata": {
        "id": "lY4YjbjkzSO1"
      },
      "outputs": [],
      "source": [
        "#device config\n",
        "device = torch.device('cuda' if torch.cuda.is_available() else 'cpu')"
      ]
    },
    {
      "cell_type": "code",
      "execution_count": null,
      "metadata": {
        "id": "0y-xHoV-4gUq"
      },
      "outputs": [],
      "source": [
        "drive.mount('/content/drive/')"
      ]
    },
    {
      "cell_type": "markdown",
      "metadata": {
        "id": "pMS1Dsjwtu6H"
      },
      "source": [
        "Hyper parameters"
      ]
    },
    {
      "cell_type": "markdown",
      "metadata": {
        "id": "MwSUjvtElsBR"
      },
      "source": [
        "#Создание датасета"
      ]
    },
    {
      "cell_type": "code",
      "execution_count": null,
      "metadata": {
        "colab": {
          "base_uri": "https://localhost:8080/"
        },
        "id": "aF6Vtt8afTY1",
        "outputId": "2d2bdc41-2297-489f-fe9f-1de015cb05c1"
      },
      "outputs": [
        {
          "data": {
            "text/plain": [
              "(30, 4000)"
            ]
          },
          "execution_count": 4,
          "metadata": {},
          "output_type": "execute_result"
        }
      ],
      "source": [
        "# Советую воспользоваться циклом for, чтобы не писать множество однотипных строк кода\n",
        "\n",
        "xy = pd.read_excel(open('/content/drive/MyDrive/work/100.xlsx', 'rb'))\n",
        "xy = pd.DataFrame(xy)\n",
        "xynp = pd.DataFrame.to_numpy(xy)\n",
        "xynp = np.rot90(xynp)\n",
        "xynp.shape\n",
        "xynp1 = np.concatenate((xynp[0,:2000], xynp[1,:2000]))\n",
        "xynp2 = np.concatenate((xynp[0,2000:4000], xynp[1,2000:4000]))\n",
        "xynp3 = np.concatenate((xynp[0,4000:6000], xynp[1,4000:6000]))\n",
        "xynp4 = np.concatenate((xynp[0,6000:8000], xynp[1,6000:8000]))\n",
        "xynp5 = np.concatenate((xynp[0,8000:10000], xynp[1,8000:10000]))\n",
        "xynp6 = np.concatenate((xynp[0,10000:12000], xynp[1,10000:12000]))\n",
        "xynp7 = np.concatenate((xynp[0,12000:14000], xynp[1,12000:14000]))\n",
        "xynp8 = np.concatenate((xynp[0,14000:16000], xynp[1,14000:16000]))\n",
        "xynp9 = np.concatenate((xynp[0,16000:18000], xynp[1,16000:18000]))\n",
        "xynp10 = np.concatenate((xynp[0,18000:20000], xynp[1,18000:20000]))\n",
        "\n",
        "xynp11 = np.concatenate((xynp[2,:2000], xynp[3,:2000]))\n",
        "xynp12 = np.concatenate((xynp[2,2000:4000], xynp[3,2000:4000]))\n",
        "xynp13 = np.concatenate((xynp[2,4000:6000], xynp[3,4000:6000]))\n",
        "xynp14 = np.concatenate((xynp[2,6000:8000], xynp[3,6000:8000]))\n",
        "xynp15 = np.concatenate((xynp[2,8000:10000], xynp[3,8000:10000]))\n",
        "xynp16 = np.concatenate((xynp[2,10000:12000], xynp[3,10000:12000]))\n",
        "xynp17 = np.concatenate((xynp[2,12000:14000], xynp[3,12000:14000]))\n",
        "xynp18 = np.concatenate((xynp[2,14000:16000], xynp[3,14000:16000]))\n",
        "xynp19 = np.concatenate((xynp[2,16000:18000], xynp[3,16000:18000]))\n",
        "xynp20 = np.concatenate((xynp[2,18000:20000], xynp[3,18000:20000]))\n",
        "\n",
        "xynp21 = np.concatenate((xynp[4,:2000], xynp[5,:2000]))\n",
        "xynp22 = np.concatenate((xynp[4,2000:4000], xynp[5,2000:4000]))\n",
        "xynp23 = np.concatenate((xynp[4,4000:6000], xynp[5,4000:6000]))\n",
        "xynp24 = np.concatenate((xynp[4,6000:8000], xynp[5,6000:8000]))\n",
        "xynp25 = np.concatenate((xynp[4,8000:10000], xynp[5,8000:10000]))\n",
        "xynp26 = np.concatenate((xynp[4,10000:12000], xynp[5,10000:12000]))\n",
        "xynp27 = np.concatenate((xynp[4,12000:14000], xynp[5,12000:14000]))\n",
        "xynp28 = np.concatenate((xynp[4,14000:16000], xynp[5,14000:16000]))\n",
        "xynp29 = np.concatenate((xynp[4,16000:18000], xynp[5,16000:18000]))\n",
        "xynp30 = np.concatenate((xynp[4,18000:20000], xynp[5,18000:20000]))\n",
        "\n",
        "x = np.vstack((xynp1,xynp2,xynp3,xynp4,xynp5,xynp6,xynp7,xynp11,xynp12,xynp13,xynp14,xynp15,xynp16,xynp17,xynp21,xynp22,xynp23,xynp24,xynp25,xynp26,xynp27,xynp8,xynp9,xynp10,xynp18,xynp19,xynp20,xynp28,xynp29,xynp30))\n",
        "# Тип данных  в нейросетях - float32. Можно и float64, но тогда модель нужно делать с таким типом данных.\n",
        "x = x.astype('float32')\n",
        "x.shape"
      ]
    },
    {
      "cell_type": "code",
      "execution_count": null,
      "metadata": {
        "colab": {
          "base_uri": "https://localhost:8080/"
        },
        "id": "6aNtztWVfdVz",
        "outputId": "75ead876-b272-46cb-a72a-08a46a468650"
      },
      "outputs": [
        {
          "data": {
            "text/plain": [
              "array([-182.15427 , -182.81377 , -183.42418 , ...,  -46.86475 ,\n",
              "        -44.582413,  -42.28893 ], dtype=float32)"
            ]
          },
          "execution_count": 5,
          "metadata": {},
          "output_type": "execute_result"
        }
      ],
      "source": [
        "x[0,:]"
      ]
    },
    {
      "cell_type": "code",
      "execution_count": null,
      "metadata": {
        "colab": {
          "base_uri": "https://localhost:8080/"
        },
        "id": "wS05TpUwkmdp",
        "outputId": "23722069-d02e-4925-d35b-beffbf05228c"
      },
      "outputs": [
        {
          "data": {
            "text/plain": [
              "(30,)"
            ]
          },
          "execution_count": 6,
          "metadata": {},
          "output_type": "execute_result"
        }
      ],
      "source": [
        "# Индексация классов начиается с нуля. То есть первый класс - 0, второй класс - 1. Тип данных разметки - int64.\n",
        "# Размерность у разметки должна быть одна\n",
        "y1 = np.zeros((20), dtype=np.int64)\n",
        "y2 = np.ones((10), dtype=np.int64)\n",
        "y = np.concatenate((y1,y2))\n",
        "y.shape"
      ]
    },
    {
      "cell_type": "code",
      "execution_count": null,
      "metadata": {
        "id": "qIf8H86voLRL"
      },
      "outputs": [],
      "source": [
        "# Нельзя все объединять в один массив, из-за разных типов данных.\n",
        "\n",
        "# yx = np.concatenate((y,x), axis=1)\n",
        "# yx.shape"
      ]
    },
    {
      "cell_type": "code",
      "execution_count": null,
      "metadata": {
        "id": "XURkjZuT6yyi"
      },
      "outputs": [],
      "source": [
        "# Тут и далее уже очень много ошибок, покажу просто как правильно с комментариями.\n",
        "\n",
        "class ShaftDataset(Dataset):\n",
        "    def __init__(self, x, y, mode):\n",
        "        # Проверка выборки\n",
        "        if mode == 'train':\n",
        "            self.x = x[:21]\n",
        "            self.y = y[:21]\n",
        "        elif mode == 'val':\n",
        "            self.x = x[21:]\n",
        "            self.y = y[21:]\n",
        "            \n",
        "        # Разбиение сделано по вашему примеру, но обращаю внимание,\n",
        "        # что так в тренировочной выборке всего один пример со 2 классом. А в тестовой - только 2 класс/\n",
        "        # Поэтому нужно как то примеры скомпоновать по-другому\n",
        "\n",
        "    def __getitem__(self, index):\n",
        "        return self.x[index], self.y[index]\n",
        "  \n",
        "    def __len__(self):\n",
        "        return len(self.y)"
      ]
    },
    {
      "cell_type": "code",
      "execution_count": null,
      "metadata": {
        "id": "ITBdf8iT7D8x"
      },
      "outputs": [],
      "source": [
        "# Создаем два отдельных датасета и их будем подавать в Loader.\n",
        "# Изначально вы пытались сделать два среза по одному датасету и подавили в Loader. Так работать не будет\n",
        "\n",
        "train_dataset = ShaftDataset(x, y, 'train')\n",
        "test_dataset = ShaftDataset(x, y, 'val')\n"
      ]
    },
    {
      "cell_type": "code",
      "execution_count": null,
      "metadata": {
        "id": "dgohZFvDgJmR",
        "outputId": "6fcac9bc-e6c4-4346-d8e6-42262aeaa56a"
      },
      "outputs": [
        {
          "data": {
            "text/plain": [
              "(array([-182.15427 , -182.81377 , -183.42418 , ...,  -46.86475 ,\n",
              "         -44.582413,  -42.28893 ], dtype=float32),\n",
              " 0)"
            ]
          },
          "execution_count": 10,
          "metadata": {},
          "output_type": "execute_result"
        }
      ],
      "source": [
        "train_dataset[0]"
      ]
    },
    {
      "cell_type": "markdown",
      "metadata": {
        "id": "QG0rieAzwscd"
      },
      "source": [
        "Hyper parameters"
      ]
    },
    {
      "cell_type": "code",
      "execution_count": null,
      "metadata": {
        "id": "Ow5VwGMIwrym"
      },
      "outputs": [],
      "source": [
        "# input_size = x.shape[0]*x.shape[1] - неправильно. Входной размер равен кол-ву признаков, то есть 4000\n",
        "input_size = x.shape[1]\n",
        "hidden_size = 32 # Попробуйте для начала поменьше\n",
        "num_classes = 2\n",
        "num_epochs = 10\n",
        "batch_size = 6 # Bath size не может быть больше размера датасета (у вас 30 примеров)\n",
        "batch_size = 2\n",
        "lr = 0.001 # learning rate"
      ]
    },
    {
      "cell_type": "code",
      "execution_count": null,
      "metadata": {
        "id": "KxDbXIaVquNd"
      },
      "outputs": [],
      "source": [
        "# Loader генерирует тензоры следующего размера -\n",
        "# (batch_size (размер батча - кол-во примеров в батче), m (кол-во признаков))\n",
        "# Таким образом, размерностей 2, а не 4\n",
        "\n",
        "train_loader = torch.utils.data.DataLoader(dataset=train_dataset, \n",
        "                                           batch_size=batch_size, \n",
        "                                           shuffle=True)\n",
        "\n",
        "test_loader = torch.utils.data.DataLoader(dataset=test_dataset, \n",
        "                                          batch_size=batch_size, \n",
        "                                          shuffle=False)"
      ]
    },
    {
      "cell_type": "code",
      "execution_count": null,
      "metadata": {
        "colab": {
          "base_uri": "https://localhost:8080/"
        },
        "id": "zCYSzuDxtJx1",
        "outputId": "557b3399-00f9-4105-b358-7881a559eb30"
      },
      "outputs": [
        {
          "name": "stdout",
          "output_type": "stream",
          "text": [
            "(21, 4000) (21,)\n",
            "(9, 4000) (9,)\n"
          ]
        }
      ],
      "source": [
        "# Размеры данных в датасетах\n",
        "\n",
        "features, labels = train_dataset.x, train_dataset.y\n",
        "print(features.shape, labels.shape)\n",
        "#samples = torch.from_numpy(samples)\n",
        "#labels = torch.from_numpy(labels)\n",
        "\n",
        "features, labels = test_dataset.x, test_dataset.y\n",
        "print(features.shape, labels.shape)\n",
        "#samples = torch.from_numpy(samples)\n",
        "#labels = torch.from_numpy(labels)"
      ]
    },
    {
      "cell_type": "markdown",
      "metadata": {
        "id": "OsQ4OoSKxrmR"
      },
      "source": [
        "#Создание нейронной сети"
      ]
    },
    {
      "cell_type": "code",
      "execution_count": null,
      "metadata": {
        "id": "psneQ6gguTQO"
      },
      "outputs": [],
      "source": [
        "class NeuralNet(nn.Module):\n",
        "  def __init__(self, input_size, hidden_size, num_classes):\n",
        "    super(NeuralNet, self).__init__()\n",
        "    self.l1 = nn.Linear(input_size, hidden_size)\n",
        "    self.relu = nn.ReLU()\n",
        "    self.l2 = nn.Linear(hidden_size, num_classes)\n",
        "\n",
        "  def forward(self, x):\n",
        "    out = self.l1(x)\n",
        "    out = self.relu(out)\n",
        "    out = self.l2(out)\n",
        "    return out\n"
      ]
    },
    {
      "cell_type": "code",
      "execution_count": null,
      "metadata": {
        "id": "fEOw9LrLxqhg"
      },
      "outputs": [],
      "source": [
        "model = NeuralNet(input_size, hidden_size, num_classes)\n",
        "\n",
        "# Модель также перемещаем в нужное место\n",
        "model = model.to(device)"
      ]
    },
    {
      "cell_type": "markdown",
      "metadata": {
        "id": "Lhe6kfOPx3YG"
      },
      "source": [
        "Loss and optimizer"
      ]
    },
    {
      "cell_type": "code",
      "execution_count": null,
      "metadata": {
        "id": "ezEMbjGAx5ZN"
      },
      "outputs": [],
      "source": [
        "L = nn.CrossEntropyLoss()\n",
        "optimizer = torch.optim.Adam(model.parameters(), lr=lr)"
      ]
    },
    {
      "cell_type": "markdown",
      "metadata": {
        "id": "m-JRvLNRyRIl"
      },
      "source": [
        "#Training loop"
      ]
    },
    {
      "cell_type": "code",
      "execution_count": null,
      "metadata": {
        "colab": {
          "base_uri": "https://localhost:8080/",
          "height": 397
        },
        "id": "JcrFEtk1yS3N",
        "outputId": "e5d1b6e3-321a-47ce-f8cf-93736ea9f297"
      },
      "outputs": [
        {
          "name": "stdout",
          "output_type": "stream",
          "text": [
            "epoch 1 / 10, step 5/11, loss = 0.0000\n",
            "epoch 1 / 10, step 10/11, loss = 21.2478\n",
            "epoch 2 / 10, step 5/11, loss = 0.0000\n",
            "epoch 2 / 10, step 10/11, loss = 317.8329\n",
            "epoch 3 / 10, step 5/11, loss = 203.0966\n",
            "epoch 3 / 10, step 10/11, loss = 0.0000\n",
            "epoch 4 / 10, step 5/11, loss = 0.0001\n",
            "epoch 4 / 10, step 10/11, loss = 0.3226\n",
            "epoch 5 / 10, step 5/11, loss = 0.3221\n",
            "epoch 5 / 10, step 10/11, loss = 0.3215\n",
            "epoch 6 / 10, step 5/11, loss = 0.3207\n",
            "epoch 6 / 10, step 10/11, loss = 0.0000\n",
            "epoch 7 / 10, step 5/11, loss = 0.4721\n",
            "epoch 7 / 10, step 10/11, loss = 0.0000\n",
            "epoch 8 / 10, step 5/11, loss = 0.0000\n",
            "epoch 8 / 10, step 10/11, loss = 0.0256\n",
            "epoch 9 / 10, step 5/11, loss = 0.6954\n",
            "epoch 9 / 10, step 10/11, loss = 0.3135\n",
            "epoch 10 / 10, step 5/11, loss = 0.0000\n",
            "epoch 10 / 10, step 10/11, loss = 0.0000\n"
          ]
        }
      ],
      "source": [
        "n_total_steps = len(train_loader)\n",
        "for epoch in range(num_epochs):\n",
        "  for i, (features, labels) in enumerate(train_loader):\n",
        "#     images = images.reshape(-1, 1*4000).to(device) - Видимо из другого кода,\n",
        "                                                    # здесь не подходит, так как изображений тут нет\n",
        "    features = features.to(device)\n",
        "    labels = labels.to(device)\n",
        "\n",
        "    #forward path\n",
        "    outputs = model(features) # Подаем признаки на вход нейросети\n",
        "    loss = L(outputs, labels)\n",
        "\n",
        "    #backward path\n",
        "    optimizer.zero_grad()\n",
        "    loss.backward()\n",
        "    optimizer.step()\n",
        "\n",
        "    if (i+1) % 5 == 0:\n",
        "       print(f'epoch {epoch+1} / {num_epochs}, step {i+1}/{n_total_steps}, loss = {loss.item():.4f}')\n"
      ]
    },
    {
      "cell_type": "code",
      "execution_count": null,
      "metadata": {
        "id": "JBpHSfuK3GWL",
        "outputId": "3015b86f-da95-4345-bb75-7318c7964ad8"
      },
      "outputs": [
        {
          "data": {
            "text/plain": [
              "(tensor([[ 0.1117, -0.0369]], device='cuda:0', grad_fn=<AddmmBackward0>),\n",
              " tensor([1], device='cuda:0'))"
            ]
          },
          "execution_count": 18,
          "metadata": {},
          "output_type": "execute_result"
        }
      ],
      "source": [
        "outputs, labels"
      ]
    },
    {
      "cell_type": "markdown",
      "metadata": {
        "id": "ga6qUKpY04F1"
      },
      "source": [
        "#Test"
      ]
    },
    {
      "cell_type": "code",
      "execution_count": null,
      "metadata": {
        "colab": {
          "base_uri": "https://localhost:8080/",
          "height": 397
        },
        "id": "Ff5AdQL005sM",
        "outputId": "705f14a5-b2ba-45a7-97b5-16dbe9219f41"
      },
      "outputs": [
        {
          "name": "stdout",
          "output_type": "stream",
          "text": [
            "tensor([[ 0.1118, -0.0370],\n",
            "        [ 0.1118, -0.0370]], device='cuda:0')\n",
            "tensor([[ 0.1118, -0.0370],\n",
            "        [ 1.2472,  0.3064]], device='cuda:0')\n",
            "tensor([[-0.3167,  0.8038],\n",
            "        [-1.4375,  1.3688]], device='cuda:0')\n",
            "tensor([[0.6448, 0.1242],\n",
            "        [2.0859, 1.7976]], device='cuda:0')\n",
            "tensor([[-4.7792,  2.8541]], device='cuda:0')\n",
            "accuracy = 33.333333333333336\n"
          ]
        }
      ],
      "source": [
        "with torch.no_grad():\n",
        "  n_correct = 0\n",
        "  n_samples = 0\n",
        "  for features, labels in test_loader:\n",
        "#     images = images.reshape(-1, x.shape[0]*x.shape[1]).to(device) - опять таки - изображений нет\n",
        "\n",
        "    features = features.to(device)\n",
        "    labels = labels.to(device)\n",
        "    outputs = model(features)\n",
        "    print(outputs)\n",
        "    #value, index\n",
        "    _, predictions = torch.max(outputs, 1)\n",
        "    n_samples += labels.shape[0]\n",
        "    n_correct += (predictions == labels).sum().item()\n",
        "  acc = 100.0 * n_correct / n_samples\n",
        "  print(f'accuracy = {acc}')"
      ]
    }
  ],
  "metadata": {
    "colab": {
      "collapsed_sections": [],
      "provenance": [],
      "include_colab_link": true
    },
    "kernelspec": {
      "display_name": "Python 3 (ipykernel)",
      "language": "python",
      "name": "python3"
    },
    "language_info": {
      "codemirror_mode": {
        "name": "ipython",
        "version": 3
      },
      "file_extension": ".py",
      "mimetype": "text/x-python",
      "name": "python",
      "nbconvert_exporter": "python",
      "pygments_lexer": "ipython3",
      "version": "3.9.12"
    },
    "varInspector": {
      "cols": {
        "lenName": 16,
        "lenType": 16,
        "lenVar": 40
      },
      "kernels_config": {
        "python": {
          "delete_cmd_postfix": "",
          "delete_cmd_prefix": "del ",
          "library": "var_list.py",
          "varRefreshCmd": "print(var_dic_list())"
        },
        "r": {
          "delete_cmd_postfix": ") ",
          "delete_cmd_prefix": "rm(",
          "library": "var_list.r",
          "varRefreshCmd": "cat(var_dic_list()) "
        }
      },
      "types_to_exclude": [
        "module",
        "function",
        "builtin_function_or_method",
        "instance",
        "_Feature"
      ],
      "window_display": false
    }
  },
  "nbformat": 4,
  "nbformat_minor": 0
}