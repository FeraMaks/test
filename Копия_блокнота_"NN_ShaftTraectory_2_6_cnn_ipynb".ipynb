{
  "cells": [
    {
      "cell_type": "markdown",
      "metadata": {
        "id": "view-in-github",
        "colab_type": "text"
      },
      "source": [
        "<a href=\"https://colab.research.google.com/github/FeraMaks/test/blob/main/%D0%9A%D0%BE%D0%BF%D0%B8%D1%8F_%D0%B1%D0%BB%D0%BE%D0%BA%D0%BD%D0%BE%D1%82%D0%B0_%22NN_ShaftTraectory_2_6_cnn_ipynb%22.ipynb\" target=\"_parent\"><img src=\"https://colab.research.google.com/assets/colab-badge.svg\" alt=\"Open In Colab\"/></a>"
      ]
    },
    {
      "cell_type": "code",
      "execution_count": 1,
      "metadata": {
        "id": "UGwCWPzQ4PLb"
      },
      "outputs": [],
      "source": [
        "import torch\n",
        "import torch.nn as nn\n",
        "import torchvision\n",
        "import torchvision.transforms as transforms\n",
        "from torch.utils.data import Dataset, DataLoader\n",
        "import numpy as np\n",
        "import matplotlib.pyplot as plt\n",
        "import math\n",
        "import random\n",
        "import pandas as pd\n",
        "from numpy.core.memmap import uint8\n",
        "\n",
        "from google.colab import drive"
      ]
    },
    {
      "cell_type": "code",
      "execution_count": 2,
      "metadata": {
        "id": "lY4YjbjkzSO1"
      },
      "outputs": [],
      "source": [
        "#device config\n",
        "device = torch.device('cuda' if torch.cuda.is_available() else 'cpu')"
      ]
    },
    {
      "cell_type": "code",
      "execution_count": 3,
      "metadata": {
        "colab": {
          "base_uri": "https://localhost:8080/"
        },
        "id": "0y-xHoV-4gUq",
        "outputId": "4a304c74-4c48-4dab-8169-01506524326c"
      },
      "outputs": [
        {
          "output_type": "stream",
          "name": "stdout",
          "text": [
            "Drive already mounted at /content/drive/; to attempt to forcibly remount, call drive.mount(\"/content/drive/\", force_remount=True).\n"
          ]
        }
      ],
      "source": [
        "drive.mount('/content/drive/')"
      ]
    },
    {
      "cell_type": "markdown",
      "metadata": {
        "id": "MwSUjvtElsBR"
      },
      "source": [
        "##Загрузка данных"
      ]
    },
    {
      "cell_type": "markdown",
      "source": [
        "Эллиптические графики"
      ],
      "metadata": {
        "id": "aAjFXQpKhmGO"
      }
    },
    {
      "cell_type": "code",
      "execution_count": 4,
      "metadata": {
        "colab": {
          "base_uri": "https://localhost:8080/"
        },
        "id": "aF6Vtt8afTY1",
        "outputId": "08c28901-9777-4272-bc7a-ee261b07bfd0"
      },
      "outputs": [
        {
          "output_type": "execute_result",
          "data": {
            "text/plain": [
              "(6, 20000)"
            ]
          },
          "metadata": {},
          "execution_count": 4
        }
      ],
      "source": [
        "# Советую воспользоваться циклом for, чтобы не писать множество однотипных строк кода\n",
        "\n",
        "data1 = pd.read_excel(open('/content/drive/MyDrive/work/0/001_19-12-03_1728_009-50_000.xlsx', 'rb'))\n",
        "data1 = pd.DataFrame(data1)\n",
        "data1 = pd.DataFrame.to_numpy(data1)\n",
        "data1 = np.rot90(data1)\n",
        "data1.shape"
      ]
    },
    {
      "cell_type": "code",
      "source": [
        "data2 = pd.read_excel(open('/content/drive/MyDrive/work/0/001_19-12-05_1704_020_000.xlsx', 'rb'))\n",
        "data2 = pd.DataFrame(data2)\n",
        "data2 = pd.DataFrame.to_numpy(data2)\n",
        "data2 = np.rot90(data2)\n",
        "data2.shape"
      ],
      "metadata": {
        "colab": {
          "base_uri": "https://localhost:8080/"
        },
        "id": "1L52sW0YSfRF",
        "outputId": "bc36ec5e-47fb-46f0-acea-141eac16ac8a"
      },
      "execution_count": 5,
      "outputs": [
        {
          "output_type": "execute_result",
          "data": {
            "text/plain": [
              "(6, 20000)"
            ]
          },
          "metadata": {},
          "execution_count": 5
        }
      ]
    },
    {
      "cell_type": "code",
      "source": [
        "data3 = pd.read_excel(open('/content/drive/MyDrive/work/0/001_19-12-05_1704_021_000.xlsx', 'rb'))\n",
        "data3 = pd.DataFrame(data3)\n",
        "data3 = pd.DataFrame.to_numpy(data3)\n",
        "data3 = np.rot90(data3)\n",
        "data3.shape"
      ],
      "metadata": {
        "colab": {
          "base_uri": "https://localhost:8080/"
        },
        "id": "c_yRhrbSS6E1",
        "outputId": "58b5b512-78e2-46c1-c042-9f8c426831d3"
      },
      "execution_count": 6,
      "outputs": [
        {
          "output_type": "execute_result",
          "data": {
            "text/plain": [
              "(6, 20000)"
            ]
          },
          "metadata": {},
          "execution_count": 6
        }
      ]
    },
    {
      "cell_type": "code",
      "source": [
        "data4 = pd.read_excel(open('/content/drive/MyDrive/work/0/001_19-12-05_1744_017-330_000.xlsx', 'rb'))\n",
        "data4 = pd.DataFrame(data4)\n",
        "data4 = pd.DataFrame.to_numpy(data4)\n",
        "data4 = np.rot90(data4)\n",
        "data4.shape"
      ],
      "metadata": {
        "colab": {
          "base_uri": "https://localhost:8080/"
        },
        "id": "-q-ams-_S6nc",
        "outputId": "03d338e7-505f-428c-b365-3e20e8f3b7c0"
      },
      "execution_count": 7,
      "outputs": [
        {
          "output_type": "execute_result",
          "data": {
            "text/plain": [
              "(6, 20000)"
            ]
          },
          "metadata": {},
          "execution_count": 7
        }
      ]
    },
    {
      "cell_type": "code",
      "source": [
        "data5 = pd.read_excel(open('/content/drive/MyDrive/work/0/001_19-12-05_1746_021_000.xlsx', 'rb'))\n",
        "data5 = pd.DataFrame(data5)\n",
        "data5 = pd.DataFrame.to_numpy(data5)\n",
        "data5 = np.rot90(data5)\n",
        "data5.shape"
      ],
      "metadata": {
        "colab": {
          "base_uri": "https://localhost:8080/"
        },
        "id": "qWGTp6oqh4Qu",
        "outputId": "6b18a9df-d572-42b6-ced6-6f8151a48068"
      },
      "execution_count": 8,
      "outputs": [
        {
          "output_type": "execute_result",
          "data": {
            "text/plain": [
              "(6, 20000)"
            ]
          },
          "metadata": {},
          "execution_count": 8
        }
      ]
    },
    {
      "cell_type": "code",
      "source": [
        "data6 = pd.read_excel(open('/content/drive/MyDrive/work/0/001_19-12-05_1748_027-360_000.xlsx', 'rb'))\n",
        "data6 = pd.DataFrame(data6)\n",
        "data6 = pd.DataFrame.to_numpy(data6)\n",
        "data6 = np.rot90(data6)\n",
        "data6.shape"
      ],
      "metadata": {
        "colab": {
          "base_uri": "https://localhost:8080/"
        },
        "id": "0H5FHn6T6j7M",
        "outputId": "cf3aced4-bf62-4d85-cc4a-cc8c9677fa79"
      },
      "execution_count": 9,
      "outputs": [
        {
          "output_type": "execute_result",
          "data": {
            "text/plain": [
              "(6, 20000)"
            ]
          },
          "metadata": {},
          "execution_count": 9
        }
      ]
    },
    {
      "cell_type": "code",
      "source": [
        "data7 = pd.read_excel(open('/content/drive/MyDrive/work/0/001_19-12-05_1801_062-480_000.xlsx', 'rb'))\n",
        "data7 = pd.DataFrame(data7)\n",
        "data7 = pd.DataFrame.to_numpy(data7)\n",
        "data7 = np.rot90(data7)\n",
        "data7.shape"
      ],
      "metadata": {
        "colab": {
          "base_uri": "https://localhost:8080/"
        },
        "id": "6IjuHB2l6riE",
        "outputId": "de1f1e0a-89ff-46bb-87b6-a0a8da44afe6"
      },
      "execution_count": 10,
      "outputs": [
        {
          "output_type": "execute_result",
          "data": {
            "text/plain": [
              "(6, 20000)"
            ]
          },
          "metadata": {},
          "execution_count": 10
        }
      ]
    },
    {
      "cell_type": "code",
      "source": [
        "data8 = pd.read_excel(open('/content/drive/MyDrive/work/0/100_000.xlsx', 'rb'))\n",
        "data8 = pd.DataFrame(data8)\n",
        "data8 = pd.DataFrame.to_numpy(data8)\n",
        "data8 = np.rot90(data8)\n",
        "data8.shape"
      ],
      "metadata": {
        "colab": {
          "base_uri": "https://localhost:8080/"
        },
        "id": "noFCqRg_6r_G",
        "outputId": "e4172f8d-7644-45f6-a3ae-9b2ca6889608"
      },
      "execution_count": 11,
      "outputs": [
        {
          "output_type": "execute_result",
          "data": {
            "text/plain": [
              "(6, 20000)"
            ]
          },
          "metadata": {},
          "execution_count": 11
        }
      ]
    },
    {
      "cell_type": "code",
      "source": [
        "data9 = pd.read_excel(open('/content/drive/MyDrive/work/0/110_000.xlsx', 'rb'))\n",
        "data9 = pd.DataFrame(data9)\n",
        "data9 = pd.DataFrame.to_numpy(data9)\n",
        "data9 = np.rot90(data9)\n",
        "data9.shape"
      ],
      "metadata": {
        "id": "ok2gYcpTR2Kw",
        "outputId": "c728a5b5-3b5d-4a20-adea-fdc26bc5d81e",
        "colab": {
          "base_uri": "https://localhost:8080/"
        }
      },
      "execution_count": 12,
      "outputs": [
        {
          "output_type": "execute_result",
          "data": {
            "text/plain": [
              "(6, 20000)"
            ]
          },
          "metadata": {},
          "execution_count": 12
        }
      ]
    },
    {
      "cell_type": "code",
      "source": [
        "data10 = pd.read_excel(open('/content/drive/MyDrive/work/0/120_000.xlsx', 'rb'))\n",
        "data10 = pd.DataFrame(data10)\n",
        "data10 = pd.DataFrame.to_numpy(data10)\n",
        "data10 = np.rot90(data10)\n",
        "data10.shape"
      ],
      "metadata": {
        "id": "ZPMqcRGXR13w",
        "outputId": "9160486a-b9cc-425e-935b-fef5b9fb4553",
        "colab": {
          "base_uri": "https://localhost:8080/"
        }
      },
      "execution_count": 13,
      "outputs": [
        {
          "output_type": "execute_result",
          "data": {
            "text/plain": [
              "(6, 20000)"
            ]
          },
          "metadata": {},
          "execution_count": 13
        }
      ]
    },
    {
      "cell_type": "markdown",
      "source": [
        "Метастабильные графики"
      ],
      "metadata": {
        "id": "Lbx4WrcjiCah"
      }
    },
    {
      "cell_type": "code",
      "source": [
        "data11 = pd.read_excel(open('/content/drive/MyDrive/work/2/001_19-12-05_1625_001_222.xlsx', 'rb'))\n",
        "data11 = pd.DataFrame(data11)\n",
        "data11 = pd.DataFrame.to_numpy(data11)\n",
        "data11 = np.rot90(data11)\n",
        "data11.shape"
      ],
      "metadata": {
        "colab": {
          "base_uri": "https://localhost:8080/"
        },
        "id": "mClCPuEIiFif",
        "outputId": "70d69462-f4c4-42e3-e206-c7ba1fc751e2"
      },
      "execution_count": 14,
      "outputs": [
        {
          "output_type": "execute_result",
          "data": {
            "text/plain": [
              "(6, 20000)"
            ]
          },
          "metadata": {},
          "execution_count": 14
        }
      ]
    },
    {
      "cell_type": "code",
      "source": [
        "data12 = pd.read_excel(open('/content/drive/MyDrive/work/2/001_19-12-05_1625_002-10_222.xlsx', 'rb'))\n",
        "data12 = pd.DataFrame(data12)\n",
        "data12 = pd.DataFrame.to_numpy(data12)\n",
        "data12 = np.rot90(data12)\n",
        "data12.shape"
      ],
      "metadata": {
        "colab": {
          "base_uri": "https://localhost:8080/"
        },
        "id": "AAAJt6GkixD1",
        "outputId": "22e3fc80-0a4e-47a6-ce8c-0ceaa5272ceb"
      },
      "execution_count": 15,
      "outputs": [
        {
          "output_type": "execute_result",
          "data": {
            "text/plain": [
              "(6, 20000)"
            ]
          },
          "metadata": {},
          "execution_count": 15
        }
      ]
    },
    {
      "cell_type": "code",
      "source": [
        "data13 = pd.read_excel(open('/content/drive/MyDrive/work/2/001_19-12-05_1625_003_222.xlsx', 'rb'))\n",
        "data13 = pd.DataFrame(data13)\n",
        "data13 = pd.DataFrame.to_numpy(data13)\n",
        "data13 = np.rot90(data13)\n",
        "data13.shape"
      ],
      "metadata": {
        "colab": {
          "base_uri": "https://localhost:8080/"
        },
        "id": "G20rPhrNiw92",
        "outputId": "9d4e0e4e-7944-4de5-ad0d-0dea39e7c8db"
      },
      "execution_count": 16,
      "outputs": [
        {
          "output_type": "execute_result",
          "data": {
            "text/plain": [
              "(6, 20000)"
            ]
          },
          "metadata": {},
          "execution_count": 16
        }
      ]
    },
    {
      "cell_type": "code",
      "source": [
        "data14 = pd.read_excel(open('/content/drive/MyDrive/work/2/001_19-12-05_1737_016_222.xlsx', 'rb'))\n",
        "data14 = pd.DataFrame(data14)\n",
        "data14 = pd.DataFrame.to_numpy(data14)\n",
        "data14 = np.rot90(data14)\n",
        "data14.shape"
      ],
      "metadata": {
        "colab": {
          "base_uri": "https://localhost:8080/"
        },
        "id": "ydrgHeI0iw1e",
        "outputId": "1bee9324-a54d-45ea-bd35-3b050609a716"
      },
      "execution_count": 17,
      "outputs": [
        {
          "output_type": "execute_result",
          "data": {
            "text/plain": [
              "(6, 20000)"
            ]
          },
          "metadata": {},
          "execution_count": 17
        }
      ]
    },
    {
      "cell_type": "code",
      "source": [
        "data15 = pd.read_excel(open('/content/drive/MyDrive/work/2/001_19-12-05_1739_005-290_222.xlsx', 'rb'))\n",
        "data15 = pd.DataFrame(data15)\n",
        "data15 = pd.DataFrame.to_numpy(data15)\n",
        "data15 = np.rot90(data15)\n",
        "data15.shape"
      ],
      "metadata": {
        "colab": {
          "base_uri": "https://localhost:8080/"
        },
        "id": "gy0M0CEqiwVG",
        "outputId": "97238f15-b4e6-4de2-b6a3-b9df4e833f00"
      },
      "execution_count": 18,
      "outputs": [
        {
          "output_type": "execute_result",
          "data": {
            "text/plain": [
              "(6, 20000)"
            ]
          },
          "metadata": {},
          "execution_count": 18
        }
      ]
    },
    {
      "cell_type": "code",
      "source": [
        "data16 = pd.read_excel(open('/content/drive/MyDrive/work/2/001_19-12-05_1739_006_222.xlsx', 'rb'))\n",
        "data16 = pd.DataFrame(data16)\n",
        "data16 = pd.DataFrame.to_numpy(data16)\n",
        "data16 = np.rot90(data16)\n",
        "data16.shape"
      ],
      "metadata": {
        "colab": {
          "base_uri": "https://localhost:8080/"
        },
        "id": "0vGXDVlf77Cr",
        "outputId": "fcad1886-7a69-434f-913b-db8b8f76bd7f"
      },
      "execution_count": 19,
      "outputs": [
        {
          "output_type": "execute_result",
          "data": {
            "text/plain": [
              "(6, 20000)"
            ]
          },
          "metadata": {},
          "execution_count": 19
        }
      ]
    },
    {
      "cell_type": "code",
      "source": [
        "data17 = pd.read_excel(open('/content/drive/MyDrive/work/2/21_222.xlsx', 'rb'))\n",
        "data17 = pd.DataFrame(data17)\n",
        "data17 = pd.DataFrame.to_numpy(data17)\n",
        "data17 = np.rot90(data17)\n",
        "data17.shape"
      ],
      "metadata": {
        "colab": {
          "base_uri": "https://localhost:8080/"
        },
        "id": "0C1BldYj767b",
        "outputId": "436c81da-50af-4420-b910-11954493eaac"
      },
      "execution_count": 20,
      "outputs": [
        {
          "output_type": "execute_result",
          "data": {
            "text/plain": [
              "(6, 20000)"
            ]
          },
          "metadata": {},
          "execution_count": 20
        }
      ]
    },
    {
      "cell_type": "code",
      "source": [
        "data18 = pd.read_excel(open('/content/drive/MyDrive/work/2/22_222.xlsx', 'rb'))\n",
        "data18 = pd.DataFrame(data18)\n",
        "data18 = pd.DataFrame.to_numpy(data18)\n",
        "data18 = np.rot90(data18)\n",
        "data18.shape"
      ],
      "metadata": {
        "colab": {
          "base_uri": "https://localhost:8080/"
        },
        "id": "XsamCy_H760b",
        "outputId": "ac3752b1-b1d3-470e-e02d-b623f3a494fa"
      },
      "execution_count": 21,
      "outputs": [
        {
          "output_type": "execute_result",
          "data": {
            "text/plain": [
              "(6, 20000)"
            ]
          },
          "metadata": {},
          "execution_count": 21
        }
      ]
    },
    {
      "cell_type": "code",
      "source": [
        "data19 = pd.read_excel(open('/content/drive/MyDrive/work/2/23_222.xlsx', 'rb'))\n",
        "data19 = pd.DataFrame(data19)\n",
        "data19 = pd.DataFrame.to_numpy(data19)\n",
        "data19 = np.rot90(data19)\n",
        "data19.shape"
      ],
      "metadata": {
        "id": "aF1Ked0dSGV5",
        "outputId": "63f747a5-c19e-4bd4-cf00-9e257442a3ba",
        "colab": {
          "base_uri": "https://localhost:8080/"
        }
      },
      "execution_count": 22,
      "outputs": [
        {
          "output_type": "execute_result",
          "data": {
            "text/plain": [
              "(6, 20000)"
            ]
          },
          "metadata": {},
          "execution_count": 22
        }
      ]
    },
    {
      "cell_type": "code",
      "source": [
        "data20 = pd.read_excel(open('/content/drive/MyDrive/work/2/260_222.xlsx', 'rb'))\n",
        "data20 = pd.DataFrame(data20)\n",
        "data20 = pd.DataFrame.to_numpy(data20)\n",
        "data20 = np.rot90(data20)\n",
        "data20.shape"
      ],
      "metadata": {
        "id": "qL7pjf0pSHyp",
        "outputId": "10f0f80f-b0d6-41aa-e356-5ae2c607fc91",
        "colab": {
          "base_uri": "https://localhost:8080/"
        }
      },
      "execution_count": 23,
      "outputs": [
        {
          "output_type": "execute_result",
          "data": {
            "text/plain": [
              "(6, 20000)"
            ]
          },
          "metadata": {},
          "execution_count": 23
        }
      ]
    },
    {
      "cell_type": "markdown",
      "source": [
        "Графики на валидацию"
      ],
      "metadata": {
        "id": "M7K7nOb0_UaO"
      }
    },
    {
      "cell_type": "code",
      "source": [
        "data21 = pd.read_excel(open('/content/drive/MyDrive/work/0/0330.xlsx', 'rb'))\n",
        "data21 = pd.DataFrame(data21)\n",
        "data21 = pd.DataFrame.to_numpy(data21)\n",
        "data21 = np.rot90(data21)\n",
        "data21.shape"
      ],
      "metadata": {
        "colab": {
          "base_uri": "https://localhost:8080/"
        },
        "id": "sG9A-kDN_Xix",
        "outputId": "9fe985d6-bbab-4c7a-c78a-3f3e8596fd1d"
      },
      "execution_count": 24,
      "outputs": [
        {
          "output_type": "execute_result",
          "data": {
            "text/plain": [
              "(6, 20000)"
            ]
          },
          "metadata": {},
          "execution_count": 24
        }
      ]
    },
    {
      "cell_type": "code",
      "source": [
        "data22 = pd.read_excel(open('/content/drive/MyDrive/work/0/0350.xlsx', 'rb'))\n",
        "data22 = pd.DataFrame(data22)\n",
        "data22 = pd.DataFrame.to_numpy(data22)\n",
        "data22 = np.rot90(data22)\n",
        "data22.shape"
      ],
      "metadata": {
        "colab": {
          "base_uri": "https://localhost:8080/"
        },
        "id": "geDAwyCA_fZm",
        "outputId": "8e3a6467-480b-4ef2-8c2e-c1126c552413"
      },
      "execution_count": 25,
      "outputs": [
        {
          "output_type": "execute_result",
          "data": {
            "text/plain": [
              "(6, 20000)"
            ]
          },
          "metadata": {},
          "execution_count": 25
        }
      ]
    },
    {
      "cell_type": "code",
      "source": [
        "data23 = pd.read_excel(open('/content/drive/MyDrive/work/2/330.xlsx', 'rb'))\n",
        "data23 = pd.DataFrame(data23)\n",
        "data23 = pd.DataFrame.to_numpy(data23)\n",
        "data23 = np.rot90(data23)\n",
        "data23.shape"
      ],
      "metadata": {
        "colab": {
          "base_uri": "https://localhost:8080/"
        },
        "id": "DybOwpd6_fUW",
        "outputId": "1b9be553-df41-4367-c128-9d1054eaff63"
      },
      "execution_count": 26,
      "outputs": [
        {
          "output_type": "execute_result",
          "data": {
            "text/plain": [
              "(6, 20000)"
            ]
          },
          "metadata": {},
          "execution_count": 26
        }
      ]
    },
    {
      "cell_type": "code",
      "source": [
        "data24 = pd.read_excel(open('/content/drive/MyDrive/work/2/350.xlsx', 'rb'))\n",
        "data24 = pd.DataFrame(data24)\n",
        "data24 = pd.DataFrame.to_numpy(data24)\n",
        "data24 = np.rot90(data24)\n",
        "data24.shape"
      ],
      "metadata": {
        "colab": {
          "base_uri": "https://localhost:8080/"
        },
        "id": "UFBzsr_G_fOw",
        "outputId": "c6c7e4c1-d74f-44b6-cd42-6caa8c1aa9e7"
      },
      "execution_count": 27,
      "outputs": [
        {
          "output_type": "execute_result",
          "data": {
            "text/plain": [
              "(6, 20000)"
            ]
          },
          "metadata": {},
          "execution_count": 27
        }
      ]
    },
    {
      "cell_type": "markdown",
      "source": [
        "##Подготовка датасета"
      ],
      "metadata": {
        "id": "P4vWtCezUnKu"
      }
    },
    {
      "cell_type": "code",
      "source": [
        "#parameters\n",
        "data_train_number = 20 # количество файлов с графиками на обучение\n",
        "data_test_number = 4 # количество файлов с графиками на валидацию\n",
        "num_samples = 10 # количество сэмплов в одном графике\n",
        "point_number = 2000 # количество точек в одном графике\n",
        "num_graphycs = 3 # количество графиков\n",
        "num_grahp0 = 3 # кол-во эллиптических графиков\n",
        "num_grahp2 = 3 # кол-во метастабильных графиков\n",
        "inputs = []\n",
        "inputs_test = []"
      ],
      "metadata": {
        "id": "EsmFXtlaHS4W"
      },
      "execution_count": 56,
      "outputs": []
    },
    {
      "cell_type": "markdown",
      "source": [
        "Data for training"
      ],
      "metadata": {
        "id": "6KVeDoDjCZdN"
      }
    },
    {
      "cell_type": "code",
      "source": [
        "y0_train = np.zeros((num_grahp0*num_samples*10,1))\n",
        "y2_train = np.ones((num_grahp2*num_samples*10,1))\n",
        "y_train = np.concatenate((y0_train, y2_train))\n",
        "#for i in range (5):\n",
        "#  y = np.concatenate((y, y))\n",
        "y_train, y_train.shape"
      ],
      "metadata": {
        "colab": {
          "base_uri": "https://localhost:8080/"
        },
        "id": "reImqeAHTlb1",
        "outputId": "6154f8d2-2ca5-4691-fe39-b3a28cf80b01"
      },
      "execution_count": 57,
      "outputs": [
        {
          "output_type": "execute_result",
          "data": {
            "text/plain": [
              "(array([[0.],\n",
              "        [0.],\n",
              "        [0.],\n",
              "        [0.],\n",
              "        [0.],\n",
              "        [0.],\n",
              "        [0.],\n",
              "        [0.],\n",
              "        [0.],\n",
              "        [0.],\n",
              "        [0.],\n",
              "        [0.],\n",
              "        [0.],\n",
              "        [0.],\n",
              "        [0.],\n",
              "        [0.],\n",
              "        [0.],\n",
              "        [0.],\n",
              "        [0.],\n",
              "        [0.],\n",
              "        [0.],\n",
              "        [0.],\n",
              "        [0.],\n",
              "        [0.],\n",
              "        [0.],\n",
              "        [0.],\n",
              "        [0.],\n",
              "        [0.],\n",
              "        [0.],\n",
              "        [0.],\n",
              "        [0.],\n",
              "        [0.],\n",
              "        [0.],\n",
              "        [0.],\n",
              "        [0.],\n",
              "        [0.],\n",
              "        [0.],\n",
              "        [0.],\n",
              "        [0.],\n",
              "        [0.],\n",
              "        [0.],\n",
              "        [0.],\n",
              "        [0.],\n",
              "        [0.],\n",
              "        [0.],\n",
              "        [0.],\n",
              "        [0.],\n",
              "        [0.],\n",
              "        [0.],\n",
              "        [0.],\n",
              "        [0.],\n",
              "        [0.],\n",
              "        [0.],\n",
              "        [0.],\n",
              "        [0.],\n",
              "        [0.],\n",
              "        [0.],\n",
              "        [0.],\n",
              "        [0.],\n",
              "        [0.],\n",
              "        [0.],\n",
              "        [0.],\n",
              "        [0.],\n",
              "        [0.],\n",
              "        [0.],\n",
              "        [0.],\n",
              "        [0.],\n",
              "        [0.],\n",
              "        [0.],\n",
              "        [0.],\n",
              "        [0.],\n",
              "        [0.],\n",
              "        [0.],\n",
              "        [0.],\n",
              "        [0.],\n",
              "        [0.],\n",
              "        [0.],\n",
              "        [0.],\n",
              "        [0.],\n",
              "        [0.],\n",
              "        [0.],\n",
              "        [0.],\n",
              "        [0.],\n",
              "        [0.],\n",
              "        [0.],\n",
              "        [0.],\n",
              "        [0.],\n",
              "        [0.],\n",
              "        [0.],\n",
              "        [0.],\n",
              "        [0.],\n",
              "        [0.],\n",
              "        [0.],\n",
              "        [0.],\n",
              "        [0.],\n",
              "        [0.],\n",
              "        [0.],\n",
              "        [0.],\n",
              "        [0.],\n",
              "        [0.],\n",
              "        [0.],\n",
              "        [0.],\n",
              "        [0.],\n",
              "        [0.],\n",
              "        [0.],\n",
              "        [0.],\n",
              "        [0.],\n",
              "        [0.],\n",
              "        [0.],\n",
              "        [0.],\n",
              "        [0.],\n",
              "        [0.],\n",
              "        [0.],\n",
              "        [0.],\n",
              "        [0.],\n",
              "        [0.],\n",
              "        [0.],\n",
              "        [0.],\n",
              "        [0.],\n",
              "        [0.],\n",
              "        [0.],\n",
              "        [0.],\n",
              "        [0.],\n",
              "        [0.],\n",
              "        [0.],\n",
              "        [0.],\n",
              "        [0.],\n",
              "        [0.],\n",
              "        [0.],\n",
              "        [0.],\n",
              "        [0.],\n",
              "        [0.],\n",
              "        [0.],\n",
              "        [0.],\n",
              "        [0.],\n",
              "        [0.],\n",
              "        [0.],\n",
              "        [0.],\n",
              "        [0.],\n",
              "        [0.],\n",
              "        [0.],\n",
              "        [0.],\n",
              "        [0.],\n",
              "        [0.],\n",
              "        [0.],\n",
              "        [0.],\n",
              "        [0.],\n",
              "        [0.],\n",
              "        [0.],\n",
              "        [0.],\n",
              "        [0.],\n",
              "        [0.],\n",
              "        [0.],\n",
              "        [0.],\n",
              "        [0.],\n",
              "        [0.],\n",
              "        [0.],\n",
              "        [0.],\n",
              "        [0.],\n",
              "        [0.],\n",
              "        [0.],\n",
              "        [0.],\n",
              "        [0.],\n",
              "        [0.],\n",
              "        [0.],\n",
              "        [0.],\n",
              "        [0.],\n",
              "        [0.],\n",
              "        [0.],\n",
              "        [0.],\n",
              "        [0.],\n",
              "        [0.],\n",
              "        [0.],\n",
              "        [0.],\n",
              "        [0.],\n",
              "        [0.],\n",
              "        [0.],\n",
              "        [0.],\n",
              "        [0.],\n",
              "        [0.],\n",
              "        [0.],\n",
              "        [0.],\n",
              "        [0.],\n",
              "        [0.],\n",
              "        [0.],\n",
              "        [0.],\n",
              "        [0.],\n",
              "        [0.],\n",
              "        [0.],\n",
              "        [0.],\n",
              "        [0.],\n",
              "        [0.],\n",
              "        [0.],\n",
              "        [0.],\n",
              "        [0.],\n",
              "        [0.],\n",
              "        [0.],\n",
              "        [0.],\n",
              "        [0.],\n",
              "        [0.],\n",
              "        [0.],\n",
              "        [0.],\n",
              "        [0.],\n",
              "        [0.],\n",
              "        [0.],\n",
              "        [0.],\n",
              "        [0.],\n",
              "        [0.],\n",
              "        [0.],\n",
              "        [0.],\n",
              "        [0.],\n",
              "        [0.],\n",
              "        [0.],\n",
              "        [0.],\n",
              "        [0.],\n",
              "        [0.],\n",
              "        [0.],\n",
              "        [0.],\n",
              "        [0.],\n",
              "        [0.],\n",
              "        [0.],\n",
              "        [0.],\n",
              "        [0.],\n",
              "        [0.],\n",
              "        [0.],\n",
              "        [0.],\n",
              "        [0.],\n",
              "        [0.],\n",
              "        [0.],\n",
              "        [0.],\n",
              "        [0.],\n",
              "        [0.],\n",
              "        [0.],\n",
              "        [0.],\n",
              "        [0.],\n",
              "        [0.],\n",
              "        [0.],\n",
              "        [0.],\n",
              "        [0.],\n",
              "        [0.],\n",
              "        [0.],\n",
              "        [0.],\n",
              "        [0.],\n",
              "        [0.],\n",
              "        [0.],\n",
              "        [0.],\n",
              "        [0.],\n",
              "        [0.],\n",
              "        [0.],\n",
              "        [0.],\n",
              "        [0.],\n",
              "        [0.],\n",
              "        [0.],\n",
              "        [0.],\n",
              "        [0.],\n",
              "        [0.],\n",
              "        [0.],\n",
              "        [0.],\n",
              "        [0.],\n",
              "        [0.],\n",
              "        [0.],\n",
              "        [0.],\n",
              "        [0.],\n",
              "        [0.],\n",
              "        [0.],\n",
              "        [0.],\n",
              "        [0.],\n",
              "        [0.],\n",
              "        [0.],\n",
              "        [0.],\n",
              "        [0.],\n",
              "        [0.],\n",
              "        [0.],\n",
              "        [0.],\n",
              "        [0.],\n",
              "        [0.],\n",
              "        [0.],\n",
              "        [0.],\n",
              "        [0.],\n",
              "        [0.],\n",
              "        [0.],\n",
              "        [0.],\n",
              "        [0.],\n",
              "        [0.],\n",
              "        [0.],\n",
              "        [0.],\n",
              "        [0.],\n",
              "        [0.],\n",
              "        [0.],\n",
              "        [0.],\n",
              "        [0.],\n",
              "        [0.],\n",
              "        [0.],\n",
              "        [0.],\n",
              "        [0.],\n",
              "        [0.],\n",
              "        [0.],\n",
              "        [0.],\n",
              "        [0.],\n",
              "        [0.],\n",
              "        [1.],\n",
              "        [1.],\n",
              "        [1.],\n",
              "        [1.],\n",
              "        [1.],\n",
              "        [1.],\n",
              "        [1.],\n",
              "        [1.],\n",
              "        [1.],\n",
              "        [1.],\n",
              "        [1.],\n",
              "        [1.],\n",
              "        [1.],\n",
              "        [1.],\n",
              "        [1.],\n",
              "        [1.],\n",
              "        [1.],\n",
              "        [1.],\n",
              "        [1.],\n",
              "        [1.],\n",
              "        [1.],\n",
              "        [1.],\n",
              "        [1.],\n",
              "        [1.],\n",
              "        [1.],\n",
              "        [1.],\n",
              "        [1.],\n",
              "        [1.],\n",
              "        [1.],\n",
              "        [1.],\n",
              "        [1.],\n",
              "        [1.],\n",
              "        [1.],\n",
              "        [1.],\n",
              "        [1.],\n",
              "        [1.],\n",
              "        [1.],\n",
              "        [1.],\n",
              "        [1.],\n",
              "        [1.],\n",
              "        [1.],\n",
              "        [1.],\n",
              "        [1.],\n",
              "        [1.],\n",
              "        [1.],\n",
              "        [1.],\n",
              "        [1.],\n",
              "        [1.],\n",
              "        [1.],\n",
              "        [1.],\n",
              "        [1.],\n",
              "        [1.],\n",
              "        [1.],\n",
              "        [1.],\n",
              "        [1.],\n",
              "        [1.],\n",
              "        [1.],\n",
              "        [1.],\n",
              "        [1.],\n",
              "        [1.],\n",
              "        [1.],\n",
              "        [1.],\n",
              "        [1.],\n",
              "        [1.],\n",
              "        [1.],\n",
              "        [1.],\n",
              "        [1.],\n",
              "        [1.],\n",
              "        [1.],\n",
              "        [1.],\n",
              "        [1.],\n",
              "        [1.],\n",
              "        [1.],\n",
              "        [1.],\n",
              "        [1.],\n",
              "        [1.],\n",
              "        [1.],\n",
              "        [1.],\n",
              "        [1.],\n",
              "        [1.],\n",
              "        [1.],\n",
              "        [1.],\n",
              "        [1.],\n",
              "        [1.],\n",
              "        [1.],\n",
              "        [1.],\n",
              "        [1.],\n",
              "        [1.],\n",
              "        [1.],\n",
              "        [1.],\n",
              "        [1.],\n",
              "        [1.],\n",
              "        [1.],\n",
              "        [1.],\n",
              "        [1.],\n",
              "        [1.],\n",
              "        [1.],\n",
              "        [1.],\n",
              "        [1.],\n",
              "        [1.],\n",
              "        [1.],\n",
              "        [1.],\n",
              "        [1.],\n",
              "        [1.],\n",
              "        [1.],\n",
              "        [1.],\n",
              "        [1.],\n",
              "        [1.],\n",
              "        [1.],\n",
              "        [1.],\n",
              "        [1.],\n",
              "        [1.],\n",
              "        [1.],\n",
              "        [1.],\n",
              "        [1.],\n",
              "        [1.],\n",
              "        [1.],\n",
              "        [1.],\n",
              "        [1.],\n",
              "        [1.],\n",
              "        [1.],\n",
              "        [1.],\n",
              "        [1.],\n",
              "        [1.],\n",
              "        [1.],\n",
              "        [1.],\n",
              "        [1.],\n",
              "        [1.],\n",
              "        [1.],\n",
              "        [1.],\n",
              "        [1.],\n",
              "        [1.],\n",
              "        [1.],\n",
              "        [1.],\n",
              "        [1.],\n",
              "        [1.],\n",
              "        [1.],\n",
              "        [1.],\n",
              "        [1.],\n",
              "        [1.],\n",
              "        [1.],\n",
              "        [1.],\n",
              "        [1.],\n",
              "        [1.],\n",
              "        [1.],\n",
              "        [1.],\n",
              "        [1.],\n",
              "        [1.],\n",
              "        [1.],\n",
              "        [1.],\n",
              "        [1.],\n",
              "        [1.],\n",
              "        [1.],\n",
              "        [1.],\n",
              "        [1.],\n",
              "        [1.],\n",
              "        [1.],\n",
              "        [1.],\n",
              "        [1.],\n",
              "        [1.],\n",
              "        [1.],\n",
              "        [1.],\n",
              "        [1.],\n",
              "        [1.],\n",
              "        [1.],\n",
              "        [1.],\n",
              "        [1.],\n",
              "        [1.],\n",
              "        [1.],\n",
              "        [1.],\n",
              "        [1.],\n",
              "        [1.],\n",
              "        [1.],\n",
              "        [1.],\n",
              "        [1.],\n",
              "        [1.],\n",
              "        [1.],\n",
              "        [1.],\n",
              "        [1.],\n",
              "        [1.],\n",
              "        [1.],\n",
              "        [1.],\n",
              "        [1.],\n",
              "        [1.],\n",
              "        [1.],\n",
              "        [1.],\n",
              "        [1.],\n",
              "        [1.],\n",
              "        [1.],\n",
              "        [1.],\n",
              "        [1.],\n",
              "        [1.],\n",
              "        [1.],\n",
              "        [1.],\n",
              "        [1.],\n",
              "        [1.],\n",
              "        [1.],\n",
              "        [1.],\n",
              "        [1.],\n",
              "        [1.],\n",
              "        [1.],\n",
              "        [1.],\n",
              "        [1.],\n",
              "        [1.],\n",
              "        [1.],\n",
              "        [1.],\n",
              "        [1.],\n",
              "        [1.],\n",
              "        [1.],\n",
              "        [1.],\n",
              "        [1.],\n",
              "        [1.],\n",
              "        [1.],\n",
              "        [1.],\n",
              "        [1.],\n",
              "        [1.],\n",
              "        [1.],\n",
              "        [1.],\n",
              "        [1.],\n",
              "        [1.],\n",
              "        [1.],\n",
              "        [1.],\n",
              "        [1.],\n",
              "        [1.],\n",
              "        [1.],\n",
              "        [1.],\n",
              "        [1.],\n",
              "        [1.],\n",
              "        [1.],\n",
              "        [1.],\n",
              "        [1.],\n",
              "        [1.],\n",
              "        [1.],\n",
              "        [1.],\n",
              "        [1.],\n",
              "        [1.],\n",
              "        [1.],\n",
              "        [1.],\n",
              "        [1.],\n",
              "        [1.],\n",
              "        [1.],\n",
              "        [1.],\n",
              "        [1.],\n",
              "        [1.],\n",
              "        [1.],\n",
              "        [1.],\n",
              "        [1.],\n",
              "        [1.],\n",
              "        [1.],\n",
              "        [1.],\n",
              "        [1.],\n",
              "        [1.],\n",
              "        [1.],\n",
              "        [1.],\n",
              "        [1.],\n",
              "        [1.],\n",
              "        [1.],\n",
              "        [1.],\n",
              "        [1.],\n",
              "        [1.],\n",
              "        [1.],\n",
              "        [1.],\n",
              "        [1.],\n",
              "        [1.],\n",
              "        [1.],\n",
              "        [1.],\n",
              "        [1.],\n",
              "        [1.],\n",
              "        [1.],\n",
              "        [1.],\n",
              "        [1.],\n",
              "        [1.],\n",
              "        [1.],\n",
              "        [1.],\n",
              "        [1.],\n",
              "        [1.],\n",
              "        [1.],\n",
              "        [1.],\n",
              "        [1.],\n",
              "        [1.],\n",
              "        [1.],\n",
              "        [1.],\n",
              "        [1.],\n",
              "        [1.],\n",
              "        [1.],\n",
              "        [1.],\n",
              "        [1.],\n",
              "        [1.],\n",
              "        [1.],\n",
              "        [1.],\n",
              "        [1.],\n",
              "        [1.],\n",
              "        [1.],\n",
              "        [1.],\n",
              "        [1.],\n",
              "        [1.],\n",
              "        [1.],\n",
              "        [1.],\n",
              "        [1.],\n",
              "        [1.]]), (600, 1))"
            ]
          },
          "metadata": {},
          "execution_count": 57
        }
      ]
    },
    {
      "cell_type": "code",
      "source": [
        "data_x_train = np.concatenate((data1,data2,data3,data4,data5,data6,data7,data8,data9,data10,data11,data12,data13,data14,data15,data16,data17,data18,data19,data20))\n",
        "data_x_train.shape"
      ],
      "metadata": {
        "colab": {
          "base_uri": "https://localhost:8080/"
        },
        "id": "AftsfVRiWjIm",
        "outputId": "a1c7e74e-1a1a-4c76-81c5-c9061ce3be86"
      },
      "execution_count": 58,
      "outputs": [
        {
          "output_type": "execute_result",
          "data": {
            "text/plain": [
              "(120, 20000)"
            ]
          },
          "metadata": {},
          "execution_count": 58
        }
      ]
    },
    {
      "cell_type": "code",
      "source": [
        "for j in range (data_train_number*num_graphycs):\n",
        "  for i in range (num_samples):\n",
        "    inputs.append(np.concatenate((data_x_train[j*2,i*point_number:i*point_number+point_number], data_x_train[j*2+1,i*point_number:i*point_number+point_number])))\n",
        "inputs = np.concatenate(inputs, axis=0)\n",
        "x_train = np.reshape(inputs, (data_train_number*num_graphycs*num_samples,point_number*2))\n",
        "# Тип данных  в нейросетях - float32. Можно и float64, но тогда модель нужно делать с таким типом данных.\n",
        "#x = x.astype('float32')\n",
        "x_train.shape"
      ],
      "metadata": {
        "colab": {
          "base_uri": "https://localhost:8080/"
        },
        "id": "fB7L1axkHaLO",
        "outputId": "65692f70-0ccb-4817-ce31-80cb98b2442d"
      },
      "execution_count": 59,
      "outputs": [
        {
          "output_type": "execute_result",
          "data": {
            "text/plain": [
              "(600, 4000)"
            ]
          },
          "metadata": {},
          "execution_count": 59
        }
      ]
    },
    {
      "cell_type": "code",
      "source": [
        "data_train = np.concatenate((y_train,x_train), axis=1)\n",
        "data_train[0,:]"
      ],
      "metadata": {
        "colab": {
          "base_uri": "https://localhost:8080/"
        },
        "id": "DLdTD4KqXvnO",
        "outputId": "6b7a454d-cc36-4a21-c669-689cba369a0e"
      },
      "execution_count": 60,
      "outputs": [
        {
          "output_type": "execute_result",
          "data": {
            "text/plain": [
              "array([  0.      ,  10.799518,  11.305789, ..., -60.359012, -60.45461 ,\n",
              "       -60.557257])"
            ]
          },
          "metadata": {},
          "execution_count": 60
        }
      ]
    },
    {
      "cell_type": "code",
      "source": [
        "data_train = sorted(data_train, key=lambda x: random.random())"
      ],
      "metadata": {
        "id": "-7Ih4dhZXseF"
      },
      "execution_count": 61,
      "outputs": []
    },
    {
      "cell_type": "code",
      "source": [
        "data_train = np.asarray(data_train)\n",
        "data_train.shape"
      ],
      "metadata": {
        "colab": {
          "base_uri": "https://localhost:8080/"
        },
        "id": "Vci-eSMravRP",
        "outputId": "00d317ae-d745-46c1-f75e-a23ac63f61d1"
      },
      "execution_count": 62,
      "outputs": [
        {
          "output_type": "execute_result",
          "data": {
            "text/plain": [
              "(600, 4001)"
            ]
          },
          "metadata": {},
          "execution_count": 62
        }
      ]
    },
    {
      "cell_type": "code",
      "source": [
        "x_train, y_train = data_train[:,1:], data_train[:,0]\n",
        "x_train = (x_train - x_train.mean()) / x_train.std()\n",
        "x_train = x_train.astype('float32')\n",
        "y_train = y_train.astype('int64')\n",
        "x_train.shape, y_train.shape"
      ],
      "metadata": {
        "colab": {
          "base_uri": "https://localhost:8080/"
        },
        "id": "MnlOpWLcYhdF",
        "outputId": "4e070eb3-024d-42c0-bba4-3f0c45748d0d"
      },
      "execution_count": 63,
      "outputs": [
        {
          "output_type": "execute_result",
          "data": {
            "text/plain": [
              "((600, 4000), (600,))"
            ]
          },
          "metadata": {},
          "execution_count": 63
        }
      ]
    },
    {
      "cell_type": "markdown",
      "source": [
        "Data for validation"
      ],
      "metadata": {
        "id": "jqFr9ZjLDSJu"
      }
    },
    {
      "cell_type": "code",
      "source": [
        "y0_test = np.zeros((num_grahp0*num_samples*2,1))\n",
        "y2_test = np.ones((num_grahp2*num_samples*2,1))\n",
        "y_test = np.concatenate((y0_test, y2_test))\n",
        "#for i in range (5):\n",
        "#  y = np.concatenate((y, y))\n",
        "y_test, y_test.shape"
      ],
      "metadata": {
        "colab": {
          "base_uri": "https://localhost:8080/"
        },
        "id": "l6q-ep4YDkxO",
        "outputId": "a3587854-074e-4df6-b5c6-2d15e46a8f48"
      },
      "execution_count": 64,
      "outputs": [
        {
          "output_type": "execute_result",
          "data": {
            "text/plain": [
              "(array([[0.],\n",
              "        [0.],\n",
              "        [0.],\n",
              "        [0.],\n",
              "        [0.],\n",
              "        [0.],\n",
              "        [0.],\n",
              "        [0.],\n",
              "        [0.],\n",
              "        [0.],\n",
              "        [0.],\n",
              "        [0.],\n",
              "        [0.],\n",
              "        [0.],\n",
              "        [0.],\n",
              "        [0.],\n",
              "        [0.],\n",
              "        [0.],\n",
              "        [0.],\n",
              "        [0.],\n",
              "        [0.],\n",
              "        [0.],\n",
              "        [0.],\n",
              "        [0.],\n",
              "        [0.],\n",
              "        [0.],\n",
              "        [0.],\n",
              "        [0.],\n",
              "        [0.],\n",
              "        [0.],\n",
              "        [0.],\n",
              "        [0.],\n",
              "        [0.],\n",
              "        [0.],\n",
              "        [0.],\n",
              "        [0.],\n",
              "        [0.],\n",
              "        [0.],\n",
              "        [0.],\n",
              "        [0.],\n",
              "        [0.],\n",
              "        [0.],\n",
              "        [0.],\n",
              "        [0.],\n",
              "        [0.],\n",
              "        [0.],\n",
              "        [0.],\n",
              "        [0.],\n",
              "        [0.],\n",
              "        [0.],\n",
              "        [0.],\n",
              "        [0.],\n",
              "        [0.],\n",
              "        [0.],\n",
              "        [0.],\n",
              "        [0.],\n",
              "        [0.],\n",
              "        [0.],\n",
              "        [0.],\n",
              "        [0.],\n",
              "        [1.],\n",
              "        [1.],\n",
              "        [1.],\n",
              "        [1.],\n",
              "        [1.],\n",
              "        [1.],\n",
              "        [1.],\n",
              "        [1.],\n",
              "        [1.],\n",
              "        [1.],\n",
              "        [1.],\n",
              "        [1.],\n",
              "        [1.],\n",
              "        [1.],\n",
              "        [1.],\n",
              "        [1.],\n",
              "        [1.],\n",
              "        [1.],\n",
              "        [1.],\n",
              "        [1.],\n",
              "        [1.],\n",
              "        [1.],\n",
              "        [1.],\n",
              "        [1.],\n",
              "        [1.],\n",
              "        [1.],\n",
              "        [1.],\n",
              "        [1.],\n",
              "        [1.],\n",
              "        [1.],\n",
              "        [1.],\n",
              "        [1.],\n",
              "        [1.],\n",
              "        [1.],\n",
              "        [1.],\n",
              "        [1.],\n",
              "        [1.],\n",
              "        [1.],\n",
              "        [1.],\n",
              "        [1.],\n",
              "        [1.],\n",
              "        [1.],\n",
              "        [1.],\n",
              "        [1.],\n",
              "        [1.],\n",
              "        [1.],\n",
              "        [1.],\n",
              "        [1.],\n",
              "        [1.],\n",
              "        [1.],\n",
              "        [1.],\n",
              "        [1.],\n",
              "        [1.],\n",
              "        [1.],\n",
              "        [1.],\n",
              "        [1.],\n",
              "        [1.],\n",
              "        [1.],\n",
              "        [1.],\n",
              "        [1.]]), (120, 1))"
            ]
          },
          "metadata": {},
          "execution_count": 64
        }
      ]
    },
    {
      "cell_type": "code",
      "source": [
        "data_x_test = np.concatenate((data21,data22,data23,data24))\n",
        "data_x_test.shape"
      ],
      "metadata": {
        "colab": {
          "base_uri": "https://localhost:8080/"
        },
        "id": "76Y6UryJDUAf",
        "outputId": "4b8952e4-9369-4a5f-ca1e-4ea25af1109f"
      },
      "execution_count": 65,
      "outputs": [
        {
          "output_type": "execute_result",
          "data": {
            "text/plain": [
              "(24, 20000)"
            ]
          },
          "metadata": {},
          "execution_count": 65
        }
      ]
    },
    {
      "cell_type": "code",
      "source": [
        "for j in range (data_test_number*num_graphycs):\n",
        "  for i in range (num_samples):\n",
        "    inputs_test.append(np.concatenate((data_x_test[j*2,i*point_number:i*point_number+point_number], data_x_test[j*2+1,i*point_number:i*point_number+point_number])))\n",
        "inputs_test = np.concatenate(inputs_test, axis=0)\n",
        "x_test = np.reshape(inputs_test, (data_test_number*num_graphycs*num_samples,point_number*2))\n",
        "# Тип данных  в нейросетях - float32. Можно и float64, но тогда модель нужно делать с таким типом данных.\n",
        "#x = x.astype('float32')\n",
        "x_test.shape"
      ],
      "metadata": {
        "colab": {
          "base_uri": "https://localhost:8080/"
        },
        "id": "i0JcUSuvDfgN",
        "outputId": "c97b98d0-ccc8-4454-f9ae-10a064f416aa"
      },
      "execution_count": 66,
      "outputs": [
        {
          "output_type": "execute_result",
          "data": {
            "text/plain": [
              "(120, 4000)"
            ]
          },
          "metadata": {},
          "execution_count": 66
        }
      ]
    },
    {
      "cell_type": "code",
      "source": [
        "data_test = np.concatenate((y_test,x_test), axis=1)\n",
        "data_test[0,:]"
      ],
      "metadata": {
        "colab": {
          "base_uri": "https://localhost:8080/"
        },
        "id": "24682Z_YESjF",
        "outputId": "b935b791-193a-48a1-b03d-c9608c056c26"
      },
      "execution_count": 67,
      "outputs": [
        {
          "output_type": "execute_result",
          "data": {
            "text/plain": [
              "array([   0.        , -696.13182   , -688.57759125, ..., -321.882075  ,\n",
              "       -329.0082075 , -336.07596375])"
            ]
          },
          "metadata": {},
          "execution_count": 67
        }
      ]
    },
    {
      "cell_type": "code",
      "source": [
        "data_test = sorted(data_test, key=lambda x: random.random())"
      ],
      "metadata": {
        "id": "1UPeWIt0Eamt"
      },
      "execution_count": 68,
      "outputs": []
    },
    {
      "cell_type": "code",
      "source": [
        "data_test = np.asarray(data_test)\n",
        "data_test.shape"
      ],
      "metadata": {
        "colab": {
          "base_uri": "https://localhost:8080/"
        },
        "id": "Q_O3KrWUEdDg",
        "outputId": "717c8a24-dc39-4748-ad30-cf5b428ce036"
      },
      "execution_count": 69,
      "outputs": [
        {
          "output_type": "execute_result",
          "data": {
            "text/plain": [
              "(120, 4001)"
            ]
          },
          "metadata": {},
          "execution_count": 69
        }
      ]
    },
    {
      "cell_type": "code",
      "source": [
        "x_test, y_test = data_test[:,1:], data_test[:,0]\n",
        "x_test = (x_test - x_test.mean()) / x_test.std()\n",
        "x_test = x_test.astype('float32')\n",
        "y_test = y_test.astype('int64')\n",
        "x_test.shape, y_test.shape"
      ],
      "metadata": {
        "colab": {
          "base_uri": "https://localhost:8080/"
        },
        "id": "R1ihuS2pEjIV",
        "outputId": "c5623fb8-f7b0-43df-8da1-f82b8614c6fe"
      },
      "execution_count": 70,
      "outputs": [
        {
          "output_type": "execute_result",
          "data": {
            "text/plain": [
              "((120, 4000), (120,))"
            ]
          },
          "metadata": {},
          "execution_count": 70
        }
      ]
    },
    {
      "cell_type": "code",
      "execution_count": 71,
      "metadata": {
        "id": "wS05TpUwkmdp"
      },
      "outputs": [],
      "source": [
        "# Индексация классов начиается с нуля. То есть первый класс - 0, второй класс - 1. Тип данных разметки - int64.\n",
        "# Размерность у разметки должна быть одна"
      ]
    },
    {
      "cell_type": "code",
      "source": [
        "for i in range (6):\n",
        "  plt.subplot(2, 3, i+1)\n",
        "  plt.title(y_train[i])\n",
        "  plt.plot(x_train[i,:1999], x_train[i,2001:4000], color='tab:blue')\n",
        "plt.show()"
      ],
      "metadata": {
        "colab": {
          "base_uri": "https://localhost:8080/",
          "height": 0
        },
        "id": "HitKnVqI2YkK",
        "outputId": "824fa087-92b0-462e-a636-d29f328d4a3d"
      },
      "execution_count": 72,
      "outputs": [
        {
          "output_type": "display_data",
          "data": {
            "text/plain": [
              "<Figure size 432x288 with 6 Axes>"
            ],
            "image/png": "[encoded data removed]"
          },
          "metadata": {
            "needs_background": "light"
          }
        }
      ]
    },
    {
      "cell_type": "code",
      "execution_count": 73,
      "metadata": {
        "id": "XURkjZuT6yyi"
      },
      "outputs": [],
      "source": [
        "# Тут и далее уже очень много ошибок, покажу просто как правильно с комментариями.\n",
        "\n",
        "class ShaftDataset(Dataset):\n",
        "    def __init__(self, x, y, mode):\n",
        "        # Проверка выборки\n",
        "        if mode == 'train':\n",
        "            self.x = x_train\n",
        "            self.y = y_train\n",
        "        elif mode == 'val':\n",
        "            self.x = x_test\n",
        "            self.y = y_test\n",
        "            \n",
        "        # Разбиение сделано по вашему примеру, но обращаю внимание,\n",
        "        # что так в тренировочной выборке всего один пример со 2 классом. А в тестовой - только 2 класс/\n",
        "        # Поэтому нужно как то примеры скомпоновать по-другому\n",
        "\n",
        "    def __getitem__(self, index):\n",
        "        return self.x[index], self.y[index]\n",
        "  \n",
        "    def __len__(self):\n",
        "        return len(self.y)"
      ]
    },
    {
      "cell_type": "code",
      "execution_count": 74,
      "metadata": {
        "id": "ITBdf8iT7D8x"
      },
      "outputs": [],
      "source": [
        "# Создаем два отдельных датасета и их будем подавать в Loader.\n",
        "# Изначально вы пытались сделать два среза по одному датасету и подавили в Loader. Так работать не будет\n",
        "\n",
        "train_dataset = ShaftDataset(x_train, y_train, 'train')\n",
        "test_dataset = ShaftDataset(x_test, y_test, 'val')\n"
      ]
    },
    {
      "cell_type": "code",
      "execution_count": 75,
      "metadata": {
        "id": "dgohZFvDgJmR",
        "colab": {
          "base_uri": "https://localhost:8080/"
        },
        "outputId": "cc254bb5-e49f-41d9-831f-e5dd1337780f"
      },
      "outputs": [
        {
          "output_type": "execute_result",
          "data": {
            "text/plain": [
              "(array([-0.03266057, -0.02488982, -0.0174656 , ...,  0.1163806 ,\n",
              "         0.10084978,  0.08564201], dtype=float32), 1)"
            ]
          },
          "metadata": {},
          "execution_count": 75
        }
      ],
      "source": [
        "train_dataset[0]"
      ]
    },
    {
      "cell_type": "markdown",
      "metadata": {
        "id": "QG0rieAzwscd"
      },
      "source": [
        "##*Hyper* parameters"
      ]
    },
    {
      "cell_type": "code",
      "execution_count": 76,
      "metadata": {
        "id": "Ow5VwGMIwrym"
      },
      "outputs": [],
      "source": [
        "input_size = x_train.shape[1]\n",
        "hidden_size = 40 # Попробуйте для начала поменьше\n",
        "num_classes = 2\n",
        "num_epochs = 1000\n",
        "batch_size = 20 # Bath size не может быть больше размера датасета (у вас 30 примеров)\n",
        "lr = 0.0001 # learning rate"
      ]
    },
    {
      "cell_type": "code",
      "execution_count": 77,
      "metadata": {
        "id": "KxDbXIaVquNd"
      },
      "outputs": [],
      "source": [
        "# Loader генерирует тензоры следующего размера -\n",
        "# (batch_size (размер батча - кол-во примеров в батче), m (кол-во признаков))\n",
        "# Таким образом, размерностей 2, а не 4\n",
        "\n",
        "train_loader = torch.utils.data.DataLoader(dataset=train_dataset, \n",
        "                                           batch_size=batch_size, \n",
        "                                           shuffle=True)\n",
        "\n",
        "test_loader = torch.utils.data.DataLoader(dataset=test_dataset, \n",
        "                                          batch_size=batch_size, \n",
        "                                          shuffle=False)"
      ]
    },
    {
      "cell_type": "code",
      "execution_count": 78,
      "metadata": {
        "colab": {
          "base_uri": "https://localhost:8080/"
        },
        "id": "zCYSzuDxtJx1",
        "outputId": "4b555161-a3dd-4963-fb36-ec3fd983d479"
      },
      "outputs": [
        {
          "output_type": "stream",
          "name": "stdout",
          "text": [
            "(600, 4000) (600,)\n",
            "(120, 4000) (120,)\n"
          ]
        }
      ],
      "source": [
        "# Размеры данных в датасетах\n",
        "\n",
        "features, labels = train_dataset.x, train_dataset.y\n",
        "print(features.shape, labels.shape)\n",
        "features, labels = test_dataset.x, test_dataset.y\n",
        "print(features.shape, labels.shape)\n",
        "#samples = torch.from_numpy(samples)\n",
        "#labels = torch.from_numpy(labels)"
      ]
    },
    {
      "cell_type": "markdown",
      "metadata": {
        "id": "OsQ4OoSKxrmR"
      },
      "source": [
        "#Создание нейронной сети"
      ]
    },
    {
      "cell_type": "code",
      "execution_count": 79,
      "metadata": {
        "id": "psneQ6gguTQO"
      },
      "outputs": [],
      "source": [
        "class NeuralNet(nn.Module):\n",
        "  def __init__(self, input_size, hidden_size, num_classes):\n",
        "    super(NeuralNet, self).__init__()\n",
        "    #4000*1\n",
        "    self.conv = nn.Conv1d(20, 40, 3, bias=False)\n",
        "    self.batchnorm = nn.BatchNorm1d(3998)\n",
        "    self.relu = nn.ReLU(True)\n",
        "    #2000*2\n",
        "    self.conv1 = nn.Conv1d(40, 40, 3, bias=False)\n",
        "    self.batchnorm1 = nn.BatchNorm1d(3996)\n",
        "    self.relu1 = nn.ReLU(True)\n",
        "    self.conv2 = nn.Conv1d(40, 40, 3, stride=2, bias=False)\n",
        "    self.batchnorm2 = nn.BatchNorm1d(1997)\n",
        "    self.relu2 = nn.ReLU(True)\n",
        "\n",
        "\n",
        "    self.conv3 = nn.Conv1d(20, 40, 3, bias=False)\n",
        "    self.batchnorm3 = nn.BatchNorm1d(3998)\n",
        "    self.relu3 = nn.ReLU(True)\n",
        "    self.conv4 = nn.Conv1d(40, 40, 3, bias=False)\n",
        "    self.batchnorm4 = nn.BatchNorm1d(3996)\n",
        "    self.relu4 = nn.ReLU(True)\n",
        "    self.conv5 = nn.Conv1d(40, 20, 3, stride=2, bias=False)\n",
        "    self.batchnorm5 = nn.BatchNorm1d(1997)\n",
        "    self.relu5 = nn.ReLU(True)\n",
        "\n",
        "\n",
        "    self.flatten = nn.Flatten()\n",
        "\n",
        "    #self.l1 = nn.Linear(1000, hidden_size) \n",
        "    self.l2 = nn.Linear(1997, num_classes)\n",
        "\n",
        "  def forward(self, x):\n",
        "    out = self.conv(x)\n",
        "    out = self.batchnorm(out)\n",
        "    out = self.relu(out)\n",
        "    out = self.conv1(out)\n",
        "    out = self.batchnorm1(out)\n",
        "    out = self.relu1(out)\n",
        "    out = self.conv2(out)\n",
        "    out = self.batchnorm2(out)\n",
        "    out = self.relu2(out)\n",
        "\n",
        "    out = self.conv3(x)\n",
        "    out = self.batchnorm3(out)\n",
        "    out = self.relu3(out)\n",
        "    out = self.conv4(out)\n",
        "    out = self.batchnorm4(out)\n",
        "    out = self.relu4(out)\n",
        "    out = self.conv5(out)\n",
        "    out = self.batchnorm5(out)\n",
        "    out = self.relu5(out)\n",
        "\n",
        "    out = self.flatten(out)\n",
        "    #out = self.l1(out)\n",
        "    out = self.l2(out)\n",
        "    return out\n",
        "model = NeuralNet(input_size, hidden_size, num_classes)\n",
        "\n",
        "# Модель также перемещаем в нужное место\n",
        "model = model.to(device)\n",
        "# loss and optimizer\n",
        "L = nn.CrossEntropyLoss()\n",
        "optimizer = torch.optim.Adam(model.parameters(), lr=lr)"
      ]
    },
    {
      "cell_type": "markdown",
      "metadata": {
        "id": "Lhe6kfOPx3YG"
      },
      "source": [
        "Loss and optimizer"
      ]
    },
    {
      "cell_type": "markdown",
      "metadata": {
        "id": "m-JRvLNRyRIl"
      },
      "source": [
        "#Training loop"
      ]
    },
    {
      "cell_type": "code",
      "execution_count": 80,
      "metadata": {
        "id": "JcrFEtk1yS3N",
        "colab": {
          "base_uri": "https://localhost:8080/"
        },
        "outputId": "02153a30-6c4e-4af8-e025-1d65c9741972"
      },
      "outputs": [
        {
          "output_type": "stream",
          "name": "stdout",
          "text": [
            "epoch 1 / 1000, step 16/30, loss = 0.7082\n",
            "epoch 2 / 1000, step 16/30, loss = 0.7251\n",
            "epoch 3 / 1000, step 16/30, loss = 0.6831\n",
            "epoch 4 / 1000, step 16/30, loss = 0.7041\n",
            "epoch 5 / 1000, step 16/30, loss = 0.7052\n",
            "epoch 6 / 1000, step 16/30, loss = 0.6983\n",
            "epoch 7 / 1000, step 16/30, loss = 0.6754\n",
            "epoch 8 / 1000, step 16/30, loss = 0.7288\n",
            "epoch 9 / 1000, step 16/30, loss = 0.6944\n",
            "epoch 10 / 1000, step 16/30, loss = 0.7008\n",
            "epoch 11 / 1000, step 16/30, loss = 0.7170\n",
            "epoch 12 / 1000, step 16/30, loss = 0.6692\n",
            "epoch 13 / 1000, step 16/30, loss = 0.6845\n",
            "epoch 14 / 1000, step 16/30, loss = 0.7280\n",
            "epoch 15 / 1000, step 16/30, loss = 0.6921\n",
            "epoch 16 / 1000, step 16/30, loss = 0.6855\n",
            "epoch 17 / 1000, step 16/30, loss = 0.7229\n",
            "epoch 18 / 1000, step 16/30, loss = 0.7171\n",
            "epoch 19 / 1000, step 16/30, loss = 0.7125\n",
            "epoch 20 / 1000, step 16/30, loss = 0.6954\n",
            "epoch 21 / 1000, step 16/30, loss = 0.6883\n",
            "epoch 22 / 1000, step 16/30, loss = 0.7193\n",
            "epoch 23 / 1000, step 16/30, loss = 0.7051\n",
            "epoch 24 / 1000, step 16/30, loss = 0.6788\n",
            "epoch 25 / 1000, step 16/30, loss = 0.7110\n",
            "epoch 26 / 1000, step 16/30, loss = 0.6533\n",
            "epoch 27 / 1000, step 16/30, loss = 0.7005\n",
            "epoch 28 / 1000, step 16/30, loss = 0.7199\n",
            "epoch 29 / 1000, step 16/30, loss = 0.7526\n",
            "epoch 30 / 1000, step 16/30, loss = 0.7076\n",
            "epoch 31 / 1000, step 16/30, loss = 0.7277\n",
            "epoch 32 / 1000, step 16/30, loss = 0.7038\n",
            "epoch 33 / 1000, step 16/30, loss = 0.6651\n",
            "epoch 34 / 1000, step 16/30, loss = 0.6925\n",
            "epoch 35 / 1000, step 16/30, loss = 0.7132\n",
            "epoch 36 / 1000, step 16/30, loss = 0.7121\n",
            "epoch 37 / 1000, step 16/30, loss = 0.6926\n",
            "epoch 38 / 1000, step 16/30, loss = 0.7135\n",
            "epoch 39 / 1000, step 16/30, loss = 0.7049\n",
            "epoch 40 / 1000, step 16/30, loss = 0.7169\n",
            "epoch 41 / 1000, step 16/30, loss = 0.6929\n",
            "epoch 42 / 1000, step 16/30, loss = 0.6567\n",
            "epoch 43 / 1000, step 16/30, loss = 0.6566\n",
            "epoch 44 / 1000, step 16/30, loss = 0.7066\n",
            "epoch 45 / 1000, step 16/30, loss = 0.6707\n",
            "epoch 46 / 1000, step 16/30, loss = 0.6890\n",
            "epoch 47 / 1000, step 16/30, loss = 0.7160\n",
            "epoch 48 / 1000, step 16/30, loss = 0.6870\n",
            "epoch 49 / 1000, step 16/30, loss = 0.7226\n",
            "epoch 50 / 1000, step 16/30, loss = 0.6629\n",
            "epoch 51 / 1000, step 16/30, loss = 0.7024\n",
            "epoch 52 / 1000, step 16/30, loss = 0.6914\n",
            "epoch 53 / 1000, step 16/30, loss = 0.7043\n",
            "epoch 54 / 1000, step 16/30, loss = 0.7372\n",
            "epoch 55 / 1000, step 16/30, loss = 0.6639\n",
            "epoch 56 / 1000, step 16/30, loss = 0.6830\n",
            "epoch 57 / 1000, step 16/30, loss = 0.6744\n",
            "epoch 58 / 1000, step 16/30, loss = 0.7231\n",
            "epoch 59 / 1000, step 16/30, loss = 0.6934\n",
            "epoch 60 / 1000, step 16/30, loss = 0.7805\n",
            "epoch 61 / 1000, step 16/30, loss = 0.7105\n",
            "epoch 62 / 1000, step 16/30, loss = 0.6707\n",
            "epoch 63 / 1000, step 16/30, loss = 0.6575\n",
            "epoch 64 / 1000, step 16/30, loss = 0.7019\n",
            "epoch 65 / 1000, step 16/30, loss = 0.6920\n",
            "epoch 66 / 1000, step 16/30, loss = 0.7227\n",
            "epoch 67 / 1000, step 16/30, loss = 0.6743\n",
            "epoch 68 / 1000, step 16/30, loss = 0.6485\n",
            "epoch 69 / 1000, step 16/30, loss = 0.6097\n",
            "epoch 70 / 1000, step 16/30, loss = 0.6734\n",
            "epoch 71 / 1000, step 16/30, loss = 0.6338\n",
            "epoch 72 / 1000, step 16/30, loss = 0.7454\n",
            "epoch 73 / 1000, step 16/30, loss = 0.7288\n",
            "epoch 74 / 1000, step 16/30, loss = 0.6505\n",
            "epoch 75 / 1000, step 16/30, loss = 0.6458\n",
            "epoch 76 / 1000, step 16/30, loss = 0.7105\n",
            "epoch 77 / 1000, step 16/30, loss = 0.6762\n",
            "epoch 78 / 1000, step 16/30, loss = 0.6754\n",
            "epoch 79 / 1000, step 16/30, loss = 0.6555\n",
            "epoch 80 / 1000, step 16/30, loss = 0.6337\n",
            "epoch 81 / 1000, step 16/30, loss = 0.6629\n",
            "epoch 82 / 1000, step 16/30, loss = 0.6531\n",
            "epoch 83 / 1000, step 16/30, loss = 0.6600\n",
            "epoch 84 / 1000, step 16/30, loss = 0.6260\n",
            "epoch 85 / 1000, step 16/30, loss = 0.6602\n",
            "epoch 86 / 1000, step 16/30, loss = 0.7002\n",
            "epoch 87 / 1000, step 16/30, loss = 0.6330\n",
            "epoch 88 / 1000, step 16/30, loss = 0.6554\n",
            "epoch 89 / 1000, step 16/30, loss = 0.6201\n",
            "epoch 90 / 1000, step 16/30, loss = 0.6584\n",
            "epoch 91 / 1000, step 16/30, loss = 0.6692\n",
            "epoch 92 / 1000, step 16/30, loss = 0.6357\n",
            "epoch 93 / 1000, step 16/30, loss = 0.6932\n",
            "epoch 94 / 1000, step 16/30, loss = 0.7085\n",
            "epoch 95 / 1000, step 16/30, loss = 0.6745\n",
            "epoch 96 / 1000, step 16/30, loss = 0.5800\n",
            "epoch 97 / 1000, step 16/30, loss = 0.6658\n",
            "epoch 98 / 1000, step 16/30, loss = 0.6131\n",
            "epoch 99 / 1000, step 16/30, loss = 0.6618\n",
            "epoch 100 / 1000, step 16/30, loss = 0.5582\n",
            "epoch 101 / 1000, step 16/30, loss = 0.6188\n",
            "epoch 102 / 1000, step 16/30, loss = 0.5742\n",
            "epoch 103 / 1000, step 16/30, loss = 0.6228\n",
            "epoch 104 / 1000, step 16/30, loss = 0.6288\n",
            "epoch 105 / 1000, step 16/30, loss = 0.7253\n",
            "epoch 106 / 1000, step 16/30, loss = 0.6497\n",
            "epoch 107 / 1000, step 16/30, loss = 0.6279\n",
            "epoch 108 / 1000, step 16/30, loss = 0.6690\n",
            "epoch 109 / 1000, step 16/30, loss = 0.6881\n",
            "epoch 110 / 1000, step 16/30, loss = 0.6999\n",
            "epoch 111 / 1000, step 16/30, loss = 0.5847\n",
            "epoch 112 / 1000, step 16/30, loss = 0.6613\n",
            "epoch 113 / 1000, step 16/30, loss = 0.6006\n",
            "epoch 114 / 1000, step 16/30, loss = 0.4865\n",
            "epoch 115 / 1000, step 16/30, loss = 0.5492\n",
            "epoch 116 / 1000, step 16/30, loss = 0.5929\n",
            "epoch 117 / 1000, step 16/30, loss = 0.6427\n",
            "epoch 118 / 1000, step 16/30, loss = 0.7042\n",
            "epoch 119 / 1000, step 16/30, loss = 0.6130\n",
            "epoch 120 / 1000, step 16/30, loss = 0.5225\n",
            "epoch 121 / 1000, step 16/30, loss = 0.5728\n",
            "epoch 122 / 1000, step 16/30, loss = 0.7030\n",
            "epoch 123 / 1000, step 16/30, loss = 0.6321\n",
            "epoch 124 / 1000, step 16/30, loss = 0.5711\n",
            "epoch 125 / 1000, step 16/30, loss = 0.5623\n",
            "epoch 126 / 1000, step 16/30, loss = 0.7361\n",
            "epoch 127 / 1000, step 16/30, loss = 0.6098\n",
            "epoch 128 / 1000, step 16/30, loss = 0.5796\n",
            "epoch 129 / 1000, step 16/30, loss = 0.6695\n",
            "epoch 130 / 1000, step 16/30, loss = 0.6183\n",
            "epoch 131 / 1000, step 16/30, loss = 0.4925\n",
            "epoch 132 / 1000, step 16/30, loss = 0.4871\n",
            "epoch 133 / 1000, step 16/30, loss = 0.6702\n",
            "epoch 134 / 1000, step 16/30, loss = 0.6475\n",
            "epoch 135 / 1000, step 16/30, loss = 0.6508\n",
            "epoch 136 / 1000, step 16/30, loss = 0.7067\n",
            "epoch 137 / 1000, step 16/30, loss = 0.7551\n",
            "epoch 138 / 1000, step 16/30, loss = 0.6602\n",
            "epoch 139 / 1000, step 16/30, loss = 0.6577\n",
            "epoch 140 / 1000, step 16/30, loss = 0.5139\n",
            "epoch 141 / 1000, step 16/30, loss = 0.5541\n",
            "epoch 142 / 1000, step 16/30, loss = 0.5145\n",
            "epoch 143 / 1000, step 16/30, loss = 0.6103\n",
            "epoch 144 / 1000, step 16/30, loss = 0.7331\n",
            "epoch 145 / 1000, step 16/30, loss = 0.5821\n",
            "epoch 146 / 1000, step 16/30, loss = 0.5482\n",
            "epoch 147 / 1000, step 16/30, loss = 0.5687\n",
            "epoch 148 / 1000, step 16/30, loss = 0.5715\n",
            "epoch 149 / 1000, step 16/30, loss = 0.7031\n",
            "epoch 150 / 1000, step 16/30, loss = 0.6409\n",
            "epoch 151 / 1000, step 16/30, loss = 0.4641\n",
            "epoch 152 / 1000, step 16/30, loss = 0.6186\n",
            "epoch 153 / 1000, step 16/30, loss = 0.4372\n",
            "epoch 154 / 1000, step 16/30, loss = 0.5495\n",
            "epoch 155 / 1000, step 16/30, loss = 0.5813\n",
            "epoch 156 / 1000, step 16/30, loss = 0.6534\n",
            "epoch 157 / 1000, step 16/30, loss = 0.7590\n",
            "epoch 158 / 1000, step 16/30, loss = 0.5526\n",
            "epoch 159 / 1000, step 16/30, loss = 0.6396\n",
            "epoch 160 / 1000, step 16/30, loss = 0.5726\n",
            "epoch 161 / 1000, step 16/30, loss = 0.6575\n",
            "epoch 162 / 1000, step 16/30, loss = 0.5382\n",
            "epoch 163 / 1000, step 16/30, loss = 0.5338\n",
            "epoch 164 / 1000, step 16/30, loss = 0.5768\n",
            "epoch 165 / 1000, step 16/30, loss = 0.5627\n",
            "epoch 166 / 1000, step 16/30, loss = 0.5034\n",
            "epoch 167 / 1000, step 16/30, loss = 0.5415\n",
            "epoch 168 / 1000, step 16/30, loss = 0.7794\n",
            "epoch 169 / 1000, step 16/30, loss = 0.5162\n",
            "epoch 170 / 1000, step 16/30, loss = 0.6708\n",
            "epoch 171 / 1000, step 16/30, loss = 0.6374\n",
            "epoch 172 / 1000, step 16/30, loss = 0.6349\n",
            "epoch 173 / 1000, step 16/30, loss = 0.4131\n",
            "epoch 174 / 1000, step 16/30, loss = 0.7333\n",
            "epoch 175 / 1000, step 16/30, loss = 0.5730\n",
            "epoch 176 / 1000, step 16/30, loss = 0.5055\n",
            "epoch 177 / 1000, step 16/30, loss = 0.8054\n",
            "epoch 178 / 1000, step 16/30, loss = 0.4468\n",
            "epoch 179 / 1000, step 16/30, loss = 0.5095\n",
            "epoch 180 / 1000, step 16/30, loss = 0.6276\n",
            "epoch 181 / 1000, step 16/30, loss = 0.7393\n",
            "epoch 182 / 1000, step 16/30, loss = 0.4921\n",
            "epoch 183 / 1000, step 16/30, loss = 0.6519\n",
            "epoch 184 / 1000, step 16/30, loss = 0.5144\n",
            "epoch 185 / 1000, step 16/30, loss = 0.4187\n",
            "epoch 186 / 1000, step 16/30, loss = 0.6137\n",
            "epoch 187 / 1000, step 16/30, loss = 0.6781\n",
            "epoch 188 / 1000, step 16/30, loss = 0.6732\n",
            "epoch 189 / 1000, step 16/30, loss = 0.5985\n",
            "epoch 190 / 1000, step 16/30, loss = 0.6992\n",
            "epoch 191 / 1000, step 16/30, loss = 0.5349\n",
            "epoch 192 / 1000, step 16/30, loss = 0.5436\n",
            "epoch 193 / 1000, step 16/30, loss = 0.6489\n",
            "epoch 194 / 1000, step 16/30, loss = 0.6035\n",
            "epoch 195 / 1000, step 16/30, loss = 0.4526\n",
            "epoch 196 / 1000, step 16/30, loss = 0.6050\n",
            "epoch 197 / 1000, step 16/30, loss = 0.6241\n",
            "epoch 198 / 1000, step 16/30, loss = 0.7790\n",
            "epoch 199 / 1000, step 16/30, loss = 0.7306\n",
            "epoch 200 / 1000, step 16/30, loss = 0.5749\n",
            "epoch 201 / 1000, step 16/30, loss = 0.4629\n",
            "epoch 202 / 1000, step 16/30, loss = 0.5922\n",
            "epoch 203 / 1000, step 16/30, loss = 0.5748\n",
            "epoch 204 / 1000, step 16/30, loss = 0.5793\n",
            "epoch 205 / 1000, step 16/30, loss = 0.6594\n",
            "epoch 206 / 1000, step 16/30, loss = 0.5379\n",
            "epoch 207 / 1000, step 16/30, loss = 0.5190\n",
            "epoch 208 / 1000, step 16/30, loss = 0.4919\n",
            "epoch 209 / 1000, step 16/30, loss = 0.6737\n",
            "epoch 210 / 1000, step 16/30, loss = 0.5855\n",
            "epoch 211 / 1000, step 16/30, loss = 0.8414\n",
            "epoch 212 / 1000, step 16/30, loss = 0.4976\n",
            "epoch 213 / 1000, step 16/30, loss = 0.5575\n",
            "epoch 214 / 1000, step 16/30, loss = 0.5098\n",
            "epoch 215 / 1000, step 16/30, loss = 0.5481\n",
            "epoch 216 / 1000, step 16/30, loss = 0.5964\n",
            "epoch 217 / 1000, step 16/30, loss = 0.5195\n",
            "epoch 218 / 1000, step 16/30, loss = 0.5750\n",
            "epoch 219 / 1000, step 16/30, loss = 0.5121\n",
            "epoch 220 / 1000, step 16/30, loss = 0.6119\n",
            "epoch 221 / 1000, step 16/30, loss = 0.6052\n",
            "epoch 222 / 1000, step 16/30, loss = 0.4331\n",
            "epoch 223 / 1000, step 16/30, loss = 0.3443\n",
            "epoch 224 / 1000, step 16/30, loss = 0.4775\n",
            "epoch 225 / 1000, step 16/30, loss = 0.6244\n",
            "epoch 226 / 1000, step 16/30, loss = 0.6471\n",
            "epoch 227 / 1000, step 16/30, loss = 0.6755\n",
            "epoch 228 / 1000, step 16/30, loss = 0.4697\n",
            "epoch 229 / 1000, step 16/30, loss = 0.6876\n",
            "epoch 230 / 1000, step 16/30, loss = 0.6531\n",
            "epoch 231 / 1000, step 16/30, loss = 0.5332\n",
            "epoch 232 / 1000, step 16/30, loss = 0.6057\n",
            "epoch 233 / 1000, step 16/30, loss = 0.5414\n",
            "epoch 234 / 1000, step 16/30, loss = 0.4576\n",
            "epoch 235 / 1000, step 16/30, loss = 0.6225\n",
            "epoch 236 / 1000, step 16/30, loss = 0.5374\n",
            "epoch 237 / 1000, step 16/30, loss = 0.4900\n",
            "epoch 238 / 1000, step 16/30, loss = 0.6016\n",
            "epoch 239 / 1000, step 16/30, loss = 0.4756\n",
            "epoch 240 / 1000, step 16/30, loss = 0.4095\n",
            "epoch 241 / 1000, step 16/30, loss = 0.6308\n",
            "epoch 242 / 1000, step 16/30, loss = 0.6811\n",
            "epoch 243 / 1000, step 16/30, loss = 0.6673\n",
            "epoch 244 / 1000, step 16/30, loss = 0.5467\n",
            "epoch 245 / 1000, step 16/30, loss = 0.6645\n",
            "epoch 246 / 1000, step 16/30, loss = 0.4456\n",
            "epoch 247 / 1000, step 16/30, loss = 0.5063\n",
            "epoch 248 / 1000, step 16/30, loss = 0.6298\n",
            "epoch 249 / 1000, step 16/30, loss = 0.4784\n",
            "epoch 250 / 1000, step 16/30, loss = 0.4820\n",
            "epoch 251 / 1000, step 16/30, loss = 0.6800\n",
            "epoch 252 / 1000, step 16/30, loss = 0.6000\n",
            "epoch 253 / 1000, step 16/30, loss = 0.6212\n",
            "epoch 254 / 1000, step 16/30, loss = 0.5435\n",
            "epoch 255 / 1000, step 16/30, loss = 0.7331\n",
            "epoch 256 / 1000, step 16/30, loss = 0.5803\n",
            "epoch 257 / 1000, step 16/30, loss = 0.5089\n",
            "epoch 258 / 1000, step 16/30, loss = 0.5439\n",
            "epoch 259 / 1000, step 16/30, loss = 0.4652\n",
            "epoch 260 / 1000, step 16/30, loss = 0.4374\n",
            "epoch 261 / 1000, step 16/30, loss = 0.7353\n",
            "epoch 262 / 1000, step 16/30, loss = 0.5038\n",
            "epoch 263 / 1000, step 16/30, loss = 0.4339\n",
            "epoch 264 / 1000, step 16/30, loss = 0.4821\n",
            "epoch 265 / 1000, step 16/30, loss = 0.4836\n",
            "epoch 266 / 1000, step 16/30, loss = 0.7954\n",
            "epoch 267 / 1000, step 16/30, loss = 0.4702\n",
            "epoch 268 / 1000, step 16/30, loss = 0.7266\n",
            "epoch 269 / 1000, step 16/30, loss = 0.5169\n",
            "epoch 270 / 1000, step 16/30, loss = 0.5708\n",
            "epoch 271 / 1000, step 16/30, loss = 0.5121\n",
            "epoch 272 / 1000, step 16/30, loss = 0.4535\n",
            "epoch 273 / 1000, step 16/30, loss = 0.5632\n",
            "epoch 274 / 1000, step 16/30, loss = 0.6844\n",
            "epoch 275 / 1000, step 16/30, loss = 0.6915\n",
            "epoch 276 / 1000, step 16/30, loss = 0.5565\n",
            "epoch 277 / 1000, step 16/30, loss = 0.6457\n",
            "epoch 278 / 1000, step 16/30, loss = 0.6115\n",
            "epoch 279 / 1000, step 16/30, loss = 0.4755\n",
            "epoch 280 / 1000, step 16/30, loss = 0.5909\n",
            "epoch 281 / 1000, step 16/30, loss = 0.6263\n",
            "epoch 282 / 1000, step 16/30, loss = 0.5343\n",
            "epoch 283 / 1000, step 16/30, loss = 0.4750\n",
            "epoch 284 / 1000, step 16/30, loss = 0.4817\n",
            "epoch 285 / 1000, step 16/30, loss = 0.5223\n",
            "epoch 286 / 1000, step 16/30, loss = 0.5727\n",
            "epoch 287 / 1000, step 16/30, loss = 0.5277\n",
            "epoch 288 / 1000, step 16/30, loss = 0.4841\n",
            "epoch 289 / 1000, step 16/30, loss = 0.6824\n",
            "epoch 290 / 1000, step 16/30, loss = 0.4277\n",
            "epoch 291 / 1000, step 16/30, loss = 0.6253\n",
            "epoch 292 / 1000, step 16/30, loss = 0.5181\n",
            "epoch 293 / 1000, step 16/30, loss = 0.4382\n",
            "epoch 294 / 1000, step 16/30, loss = 0.5107\n",
            "epoch 295 / 1000, step 16/30, loss = 0.4327\n",
            "epoch 296 / 1000, step 16/30, loss = 0.4380\n",
            "epoch 297 / 1000, step 16/30, loss = 0.3979\n",
            "epoch 298 / 1000, step 16/30, loss = 0.6579\n",
            "epoch 299 / 1000, step 16/30, loss = 0.3622\n",
            "epoch 300 / 1000, step 16/30, loss = 0.6095\n",
            "epoch 301 / 1000, step 16/30, loss = 0.6365\n",
            "epoch 302 / 1000, step 16/30, loss = 0.5077\n",
            "epoch 303 / 1000, step 16/30, loss = 0.5507\n",
            "epoch 304 / 1000, step 16/30, loss = 0.4757\n",
            "epoch 305 / 1000, step 16/30, loss = 0.4884\n",
            "epoch 306 / 1000, step 16/30, loss = 0.5128\n",
            "epoch 307 / 1000, step 16/30, loss = 0.6212\n",
            "epoch 308 / 1000, step 16/30, loss = 0.6748\n",
            "epoch 309 / 1000, step 16/30, loss = 0.5202\n",
            "epoch 310 / 1000, step 16/30, loss = 0.4237\n",
            "epoch 311 / 1000, step 16/30, loss = 0.5419\n",
            "epoch 312 / 1000, step 16/30, loss = 0.3827\n",
            "epoch 313 / 1000, step 16/30, loss = 0.6159\n",
            "epoch 314 / 1000, step 16/30, loss = 0.7054\n",
            "epoch 315 / 1000, step 16/30, loss = 0.5706\n",
            "epoch 316 / 1000, step 16/30, loss = 0.4661\n",
            "epoch 317 / 1000, step 16/30, loss = 0.4720\n",
            "epoch 318 / 1000, step 16/30, loss = 0.5950\n",
            "epoch 319 / 1000, step 16/30, loss = 0.5211\n",
            "epoch 320 / 1000, step 16/30, loss = 0.7140\n",
            "epoch 321 / 1000, step 16/30, loss = 0.6252\n",
            "epoch 322 / 1000, step 16/30, loss = 0.4833\n",
            "epoch 323 / 1000, step 16/30, loss = 0.5628\n",
            "epoch 324 / 1000, step 16/30, loss = 0.3941\n",
            "epoch 325 / 1000, step 16/30, loss = 0.5149\n",
            "epoch 326 / 1000, step 16/30, loss = 0.5296\n",
            "epoch 327 / 1000, step 16/30, loss = 0.5479\n",
            "epoch 328 / 1000, step 16/30, loss = 0.5045\n",
            "epoch 329 / 1000, step 16/30, loss = 0.5136\n",
            "epoch 330 / 1000, step 16/30, loss = 0.4206\n",
            "epoch 331 / 1000, step 16/30, loss = 0.5020\n",
            "epoch 332 / 1000, step 16/30, loss = 0.4605\n",
            "epoch 333 / 1000, step 16/30, loss = 0.6255\n",
            "epoch 334 / 1000, step 16/30, loss = 0.4390\n",
            "epoch 335 / 1000, step 16/30, loss = 0.6074\n",
            "epoch 336 / 1000, step 16/30, loss = 0.4364\n",
            "epoch 337 / 1000, step 16/30, loss = 0.4443\n",
            "epoch 338 / 1000, step 16/30, loss = 0.4060\n",
            "epoch 339 / 1000, step 16/30, loss = 0.5435\n",
            "epoch 340 / 1000, step 16/30, loss = 0.6311\n",
            "epoch 341 / 1000, step 16/30, loss = 0.5871\n",
            "epoch 342 / 1000, step 16/30, loss = 0.4316\n",
            "epoch 343 / 1000, step 16/30, loss = 0.5504\n",
            "epoch 344 / 1000, step 16/30, loss = 0.4259\n",
            "epoch 345 / 1000, step 16/30, loss = 0.6021\n",
            "epoch 346 / 1000, step 16/30, loss = 0.5686\n",
            "epoch 347 / 1000, step 16/30, loss = 0.4287\n",
            "epoch 348 / 1000, step 16/30, loss = 0.6303\n",
            "epoch 349 / 1000, step 16/30, loss = 0.5617\n",
            "epoch 350 / 1000, step 16/30, loss = 0.5053\n",
            "epoch 351 / 1000, step 16/30, loss = 0.8084\n",
            "epoch 352 / 1000, step 16/30, loss = 0.3826\n",
            "epoch 353 / 1000, step 16/30, loss = 0.5296\n",
            "epoch 354 / 1000, step 16/30, loss = 0.4733\n",
            "epoch 355 / 1000, step 16/30, loss = 0.5410\n",
            "epoch 356 / 1000, step 16/30, loss = 0.5917\n",
            "epoch 357 / 1000, step 16/30, loss = 0.4261\n",
            "epoch 358 / 1000, step 16/30, loss = 0.5257\n",
            "epoch 359 / 1000, step 16/30, loss = 0.6217\n",
            "epoch 360 / 1000, step 16/30, loss = 0.4712\n",
            "epoch 361 / 1000, step 16/30, loss = 0.5830\n",
            "epoch 362 / 1000, step 16/30, loss = 0.5352\n",
            "epoch 363 / 1000, step 16/30, loss = 0.4251\n",
            "epoch 364 / 1000, step 16/30, loss = 0.4567\n",
            "epoch 365 / 1000, step 16/30, loss = 0.4246\n",
            "epoch 366 / 1000, step 16/30, loss = 0.4757\n",
            "epoch 367 / 1000, step 16/30, loss = 0.5226\n",
            "epoch 368 / 1000, step 16/30, loss = 0.5864\n",
            "epoch 369 / 1000, step 16/30, loss = 0.7996\n",
            "epoch 370 / 1000, step 16/30, loss = 0.6140\n",
            "epoch 371 / 1000, step 16/30, loss = 0.3621\n",
            "epoch 372 / 1000, step 16/30, loss = 0.5673\n",
            "epoch 373 / 1000, step 16/30, loss = 0.5192\n",
            "epoch 374 / 1000, step 16/30, loss = 0.8438\n",
            "epoch 375 / 1000, step 16/30, loss = 0.6470\n",
            "epoch 376 / 1000, step 16/30, loss = 0.3380\n",
            "epoch 377 / 1000, step 16/30, loss = 0.6179\n",
            "epoch 378 / 1000, step 16/30, loss = 0.5752\n",
            "epoch 379 / 1000, step 16/30, loss = 0.4142\n",
            "epoch 380 / 1000, step 16/30, loss = 0.3749\n",
            "epoch 381 / 1000, step 16/30, loss = 0.4740\n",
            "epoch 382 / 1000, step 16/30, loss = 0.5365\n",
            "epoch 383 / 1000, step 16/30, loss = 0.4865\n",
            "epoch 384 / 1000, step 16/30, loss = 0.4464\n",
            "epoch 385 / 1000, step 16/30, loss = 0.6129\n",
            "epoch 386 / 1000, step 16/30, loss = 0.4685\n",
            "epoch 387 / 1000, step 16/30, loss = 0.4937\n",
            "epoch 388 / 1000, step 16/30, loss = 0.4674\n",
            "epoch 389 / 1000, step 16/30, loss = 0.5563\n",
            "epoch 390 / 1000, step 16/30, loss = 0.4476\n",
            "epoch 391 / 1000, step 16/30, loss = 0.4671\n",
            "epoch 392 / 1000, step 16/30, loss = 0.3531\n",
            "epoch 393 / 1000, step 16/30, loss = 0.5222\n",
            "epoch 394 / 1000, step 16/30, loss = 0.3381\n",
            "epoch 395 / 1000, step 16/30, loss = 0.4959\n",
            "epoch 396 / 1000, step 16/30, loss = 0.4058\n",
            "epoch 397 / 1000, step 16/30, loss = 0.4239\n",
            "epoch 398 / 1000, step 16/30, loss = 0.4559\n",
            "epoch 399 / 1000, step 16/30, loss = 0.4624\n",
            "epoch 400 / 1000, step 16/30, loss = 0.5754\n",
            "epoch 401 / 1000, step 16/30, loss = 0.4368\n",
            "epoch 402 / 1000, step 16/30, loss = 0.6887\n",
            "epoch 403 / 1000, step 16/30, loss = 0.5424\n",
            "epoch 404 / 1000, step 16/30, loss = 0.5668\n",
            "epoch 405 / 1000, step 16/30, loss = 0.6428\n",
            "epoch 406 / 1000, step 16/30, loss = 0.5186\n",
            "epoch 407 / 1000, step 16/30, loss = 0.4678\n",
            "epoch 408 / 1000, step 16/30, loss = 0.6412\n",
            "epoch 409 / 1000, step 16/30, loss = 0.4205\n",
            "epoch 410 / 1000, step 16/30, loss = 0.3992\n",
            "epoch 411 / 1000, step 16/30, loss = 0.4506\n",
            "epoch 412 / 1000, step 16/30, loss = 0.4949\n",
            "epoch 413 / 1000, step 16/30, loss = 0.7060\n",
            "epoch 414 / 1000, step 16/30, loss = 0.4554\n",
            "epoch 415 / 1000, step 16/30, loss = 0.4710\n",
            "epoch 416 / 1000, step 16/30, loss = 0.6174\n",
            "epoch 417 / 1000, step 16/30, loss = 0.5264\n",
            "epoch 418 / 1000, step 16/30, loss = 0.3836\n",
            "epoch 419 / 1000, step 16/30, loss = 0.4583\n",
            "epoch 420 / 1000, step 16/30, loss = 0.6160\n",
            "epoch 421 / 1000, step 16/30, loss = 0.5971\n",
            "epoch 422 / 1000, step 16/30, loss = 0.4288\n",
            "epoch 423 / 1000, step 16/30, loss = 0.5483\n",
            "epoch 424 / 1000, step 16/30, loss = 0.4858\n",
            "epoch 425 / 1000, step 16/30, loss = 0.6220\n",
            "epoch 426 / 1000, step 16/30, loss = 0.6335\n",
            "epoch 427 / 1000, step 16/30, loss = 0.5457\n",
            "epoch 428 / 1000, step 16/30, loss = 0.4395\n",
            "epoch 429 / 1000, step 16/30, loss = 0.6175\n",
            "epoch 430 / 1000, step 16/30, loss = 0.5307\n",
            "epoch 431 / 1000, step 16/30, loss = 0.5677\n",
            "epoch 432 / 1000, step 16/30, loss = 0.4551\n",
            "epoch 433 / 1000, step 16/30, loss = 0.7012\n",
            "epoch 434 / 1000, step 16/30, loss = 0.5853\n",
            "epoch 435 / 1000, step 16/30, loss = 0.4883\n",
            "epoch 436 / 1000, step 16/30, loss = 0.4346\n",
            "epoch 437 / 1000, step 16/30, loss = 0.3797\n",
            "epoch 438 / 1000, step 16/30, loss = 0.4395\n",
            "epoch 439 / 1000, step 16/30, loss = 0.4987\n",
            "epoch 440 / 1000, step 16/30, loss = 0.3974\n",
            "epoch 441 / 1000, step 16/30, loss = 0.5158\n",
            "epoch 442 / 1000, step 16/30, loss = 0.5183\n",
            "epoch 443 / 1000, step 16/30, loss = 0.4980\n",
            "epoch 444 / 1000, step 16/30, loss = 0.6283\n",
            "epoch 445 / 1000, step 16/30, loss = 0.8483\n",
            "epoch 446 / 1000, step 16/30, loss = 0.6136\n",
            "epoch 447 / 1000, step 16/30, loss = 0.5528\n",
            "epoch 448 / 1000, step 16/30, loss = 0.5173\n",
            "epoch 449 / 1000, step 16/30, loss = 0.6039\n",
            "epoch 450 / 1000, step 16/30, loss = 0.3904\n",
            "epoch 451 / 1000, step 16/30, loss = 0.2737\n",
            "epoch 452 / 1000, step 16/30, loss = 0.4751\n",
            "epoch 453 / 1000, step 16/30, loss = 0.5663\n",
            "epoch 454 / 1000, step 16/30, loss = 0.5005\n",
            "epoch 455 / 1000, step 16/30, loss = 0.5051\n",
            "epoch 456 / 1000, step 16/30, loss = 0.4560\n",
            "epoch 457 / 1000, step 16/30, loss = 0.4168\n",
            "epoch 458 / 1000, step 16/30, loss = 0.4577\n",
            "epoch 459 / 1000, step 16/30, loss = 0.4230\n",
            "epoch 460 / 1000, step 16/30, loss = 0.5714\n",
            "epoch 461 / 1000, step 16/30, loss = 0.5705\n",
            "epoch 462 / 1000, step 16/30, loss = 0.4806\n",
            "epoch 463 / 1000, step 16/30, loss = 0.4036\n",
            "epoch 464 / 1000, step 16/30, loss = 0.5635\n",
            "epoch 465 / 1000, step 16/30, loss = 0.5268\n",
            "epoch 466 / 1000, step 16/30, loss = 0.5297\n",
            "epoch 467 / 1000, step 16/30, loss = 0.4598\n",
            "epoch 468 / 1000, step 16/30, loss = 0.5522\n",
            "epoch 469 / 1000, step 16/30, loss = 0.4833\n",
            "epoch 470 / 1000, step 16/30, loss = 0.4225\n",
            "epoch 471 / 1000, step 16/30, loss = 0.5901\n",
            "epoch 472 / 1000, step 16/30, loss = 0.4770\n",
            "epoch 473 / 1000, step 16/30, loss = 0.6027\n",
            "epoch 474 / 1000, step 16/30, loss = 0.7100\n",
            "epoch 475 / 1000, step 16/30, loss = 0.5426\n",
            "epoch 476 / 1000, step 16/30, loss = 0.5536\n",
            "epoch 477 / 1000, step 16/30, loss = 0.4009\n",
            "epoch 478 / 1000, step 16/30, loss = 0.4786\n",
            "epoch 479 / 1000, step 16/30, loss = 0.5212\n",
            "epoch 480 / 1000, step 16/30, loss = 0.4538\n",
            "epoch 481 / 1000, step 16/30, loss = 0.6123\n",
            "epoch 482 / 1000, step 16/30, loss = 0.5841\n",
            "epoch 483 / 1000, step 16/30, loss = 0.5072\n",
            "epoch 484 / 1000, step 16/30, loss = 0.5420\n",
            "epoch 485 / 1000, step 16/30, loss = 0.3996\n",
            "epoch 486 / 1000, step 16/30, loss = 0.4732\n",
            "epoch 487 / 1000, step 16/30, loss = 0.4189\n",
            "epoch 488 / 1000, step 16/30, loss = 0.4849\n",
            "epoch 489 / 1000, step 16/30, loss = 0.5343\n",
            "epoch 490 / 1000, step 16/30, loss = 0.5665\n",
            "epoch 491 / 1000, step 16/30, loss = 0.5130\n",
            "epoch 492 / 1000, step 16/30, loss = 0.8067\n",
            "epoch 493 / 1000, step 16/30, loss = 0.4486\n",
            "epoch 494 / 1000, step 16/30, loss = 0.4607\n",
            "epoch 495 / 1000, step 16/30, loss = 0.5836\n",
            "epoch 496 / 1000, step 16/30, loss = 0.4204\n",
            "epoch 497 / 1000, step 16/30, loss = 0.5311\n",
            "epoch 498 / 1000, step 16/30, loss = 0.4209\n",
            "epoch 499 / 1000, step 16/30, loss = 0.3956\n",
            "epoch 500 / 1000, step 16/30, loss = 0.5008\n",
            "epoch 501 / 1000, step 16/30, loss = 0.6335\n",
            "epoch 502 / 1000, step 16/30, loss = 0.4513\n",
            "epoch 503 / 1000, step 16/30, loss = 0.4214\n",
            "epoch 504 / 1000, step 16/30, loss = 0.6465\n",
            "epoch 505 / 1000, step 16/30, loss = 0.3474\n",
            "epoch 506 / 1000, step 16/30, loss = 0.3584\n",
            "epoch 507 / 1000, step 16/30, loss = 0.5349\n",
            "epoch 508 / 1000, step 16/30, loss = 0.3959\n",
            "epoch 509 / 1000, step 16/30, loss = 0.4785\n",
            "epoch 510 / 1000, step 16/30, loss = 0.4659\n",
            "epoch 511 / 1000, step 16/30, loss = 0.5958\n",
            "epoch 512 / 1000, step 16/30, loss = 0.4460\n",
            "epoch 513 / 1000, step 16/30, loss = 0.6071\n",
            "epoch 514 / 1000, step 16/30, loss = 0.5845\n",
            "epoch 515 / 1000, step 16/30, loss = 0.5595\n",
            "epoch 516 / 1000, step 16/30, loss = 0.3806\n",
            "epoch 517 / 1000, step 16/30, loss = 0.6586\n",
            "epoch 518 / 1000, step 16/30, loss = 0.4361\n",
            "epoch 519 / 1000, step 16/30, loss = 0.4891\n",
            "epoch 520 / 1000, step 16/30, loss = 0.5370\n",
            "epoch 521 / 1000, step 16/30, loss = 0.5597\n",
            "epoch 522 / 1000, step 16/30, loss = 0.4095\n",
            "epoch 523 / 1000, step 16/30, loss = 0.5313\n",
            "epoch 524 / 1000, step 16/30, loss = 0.5287\n",
            "epoch 525 / 1000, step 16/30, loss = 0.6397\n",
            "epoch 526 / 1000, step 16/30, loss = 0.3616\n",
            "epoch 527 / 1000, step 16/30, loss = 0.6046\n",
            "epoch 528 / 1000, step 16/30, loss = 0.4792\n",
            "epoch 529 / 1000, step 16/30, loss = 0.4638\n",
            "epoch 530 / 1000, step 16/30, loss = 0.4735\n",
            "epoch 531 / 1000, step 16/30, loss = 0.6861\n",
            "epoch 532 / 1000, step 16/30, loss = 0.6175\n",
            "epoch 533 / 1000, step 16/30, loss = 0.4903\n",
            "epoch 534 / 1000, step 16/30, loss = 0.4621\n",
            "epoch 535 / 1000, step 16/30, loss = 0.5206\n",
            "epoch 536 / 1000, step 16/30, loss = 0.5735\n",
            "epoch 537 / 1000, step 16/30, loss = 0.5391\n",
            "epoch 538 / 1000, step 16/30, loss = 0.5569\n",
            "epoch 539 / 1000, step 16/30, loss = 0.5403\n",
            "epoch 540 / 1000, step 16/30, loss = 0.5721\n",
            "epoch 541 / 1000, step 16/30, loss = 0.4801\n",
            "epoch 542 / 1000, step 16/30, loss = 0.4171\n",
            "epoch 543 / 1000, step 16/30, loss = 0.4169\n",
            "epoch 544 / 1000, step 16/30, loss = 0.5746\n",
            "epoch 545 / 1000, step 16/30, loss = 0.5831\n",
            "epoch 546 / 1000, step 16/30, loss = 0.5815\n",
            "epoch 547 / 1000, step 16/30, loss = 0.5109\n",
            "epoch 548 / 1000, step 16/30, loss = 0.5354\n",
            "epoch 549 / 1000, step 16/30, loss = 0.4147\n",
            "epoch 550 / 1000, step 16/30, loss = 0.5613\n",
            "epoch 551 / 1000, step 16/30, loss = 0.4780\n",
            "epoch 552 / 1000, step 16/30, loss = 0.4532\n",
            "epoch 553 / 1000, step 16/30, loss = 0.4798\n",
            "epoch 554 / 1000, step 16/30, loss = 0.5466\n",
            "epoch 555 / 1000, step 16/30, loss = 0.5893\n",
            "epoch 556 / 1000, step 16/30, loss = 0.3970\n",
            "epoch 557 / 1000, step 16/30, loss = 0.3282\n",
            "epoch 558 / 1000, step 16/30, loss = 0.4691\n",
            "epoch 559 / 1000, step 16/30, loss = 0.5102\n",
            "epoch 560 / 1000, step 16/30, loss = 0.3877\n",
            "epoch 561 / 1000, step 16/30, loss = 0.4256\n",
            "epoch 562 / 1000, step 16/30, loss = 0.5668\n",
            "epoch 563 / 1000, step 16/30, loss = 0.4643\n",
            "epoch 564 / 1000, step 16/30, loss = 0.4862\n",
            "epoch 565 / 1000, step 16/30, loss = 0.3997\n",
            "epoch 566 / 1000, step 16/30, loss = 0.4740\n",
            "epoch 567 / 1000, step 16/30, loss = 0.6296\n",
            "epoch 568 / 1000, step 16/30, loss = 0.4478\n",
            "epoch 569 / 1000, step 16/30, loss = 0.5571\n",
            "epoch 570 / 1000, step 16/30, loss = 0.5464\n",
            "epoch 571 / 1000, step 16/30, loss = 0.4974\n",
            "epoch 572 / 1000, step 16/30, loss = 0.3802\n",
            "epoch 573 / 1000, step 16/30, loss = 0.5275\n",
            "epoch 574 / 1000, step 16/30, loss = 0.3317\n",
            "epoch 575 / 1000, step 16/30, loss = 0.5791\n",
            "epoch 576 / 1000, step 16/30, loss = 0.5514\n",
            "epoch 577 / 1000, step 16/30, loss = 0.5061\n",
            "epoch 578 / 1000, step 16/30, loss = 0.4652\n",
            "epoch 579 / 1000, step 16/30, loss = 0.4682\n",
            "epoch 580 / 1000, step 16/30, loss = 0.4616\n",
            "epoch 581 / 1000, step 16/30, loss = 0.5771\n",
            "epoch 582 / 1000, step 16/30, loss = 0.4719\n",
            "epoch 583 / 1000, step 16/30, loss = 0.3618\n",
            "epoch 584 / 1000, step 16/30, loss = 0.5893\n",
            "epoch 585 / 1000, step 16/30, loss = 0.6968\n",
            "epoch 586 / 1000, step 16/30, loss = 0.4627\n",
            "epoch 587 / 1000, step 16/30, loss = 0.4238\n",
            "epoch 588 / 1000, step 16/30, loss = 0.4447\n",
            "epoch 589 / 1000, step 16/30, loss = 0.5521\n",
            "epoch 590 / 1000, step 16/30, loss = 0.6378\n",
            "epoch 591 / 1000, step 16/30, loss = 0.3694\n",
            "epoch 592 / 1000, step 16/30, loss = 0.5041\n",
            "epoch 593 / 1000, step 16/30, loss = 0.6279\n",
            "epoch 594 / 1000, step 16/30, loss = 0.3103\n",
            "epoch 595 / 1000, step 16/30, loss = 0.6845\n",
            "epoch 596 / 1000, step 16/30, loss = 0.3128\n",
            "epoch 597 / 1000, step 16/30, loss = 0.5462\n",
            "epoch 598 / 1000, step 16/30, loss = 1.1914\n",
            "epoch 599 / 1000, step 16/30, loss = 0.4008\n",
            "epoch 600 / 1000, step 16/30, loss = 0.3519\n",
            "epoch 601 / 1000, step 16/30, loss = 0.3847\n",
            "epoch 602 / 1000, step 16/30, loss = 0.5871\n",
            "epoch 603 / 1000, step 16/30, loss = 0.6900\n",
            "epoch 604 / 1000, step 16/30, loss = 0.3974\n",
            "epoch 605 / 1000, step 16/30, loss = 0.5307\n",
            "epoch 606 / 1000, step 16/30, loss = 0.4283\n",
            "epoch 607 / 1000, step 16/30, loss = 0.6330\n",
            "epoch 608 / 1000, step 16/30, loss = 0.5737\n",
            "epoch 609 / 1000, step 16/30, loss = 0.6977\n",
            "epoch 610 / 1000, step 16/30, loss = 0.3738\n",
            "epoch 611 / 1000, step 16/30, loss = 0.5393\n",
            "epoch 612 / 1000, step 16/30, loss = 0.5586\n",
            "epoch 613 / 1000, step 16/30, loss = 0.4320\n",
            "epoch 614 / 1000, step 16/30, loss = 0.4573\n",
            "epoch 615 / 1000, step 16/30, loss = 0.6282\n",
            "epoch 616 / 1000, step 16/30, loss = 0.5040\n",
            "epoch 617 / 1000, step 16/30, loss = 0.4700\n",
            "epoch 618 / 1000, step 16/30, loss = 0.4923\n",
            "epoch 619 / 1000, step 16/30, loss = 0.5612\n",
            "epoch 620 / 1000, step 16/30, loss = 0.4623\n",
            "epoch 621 / 1000, step 16/30, loss = 0.4651\n",
            "epoch 622 / 1000, step 16/30, loss = 0.6071\n",
            "epoch 623 / 1000, step 16/30, loss = 0.4559\n",
            "epoch 624 / 1000, step 16/30, loss = 0.6182\n",
            "epoch 625 / 1000, step 16/30, loss = 0.6213\n",
            "epoch 626 / 1000, step 16/30, loss = 0.4711\n",
            "epoch 627 / 1000, step 16/30, loss = 0.5180\n",
            "epoch 628 / 1000, step 16/30, loss = 0.3850\n",
            "epoch 629 / 1000, step 16/30, loss = 0.5058\n",
            "epoch 630 / 1000, step 16/30, loss = 0.3671\n",
            "epoch 631 / 1000, step 16/30, loss = 0.5095\n",
            "epoch 632 / 1000, step 16/30, loss = 0.4315\n",
            "epoch 633 / 1000, step 16/30, loss = 0.4537\n",
            "epoch 634 / 1000, step 16/30, loss = 0.3769\n",
            "epoch 635 / 1000, step 16/30, loss = 0.5659\n",
            "epoch 636 / 1000, step 16/30, loss = 0.5168\n",
            "epoch 637 / 1000, step 16/30, loss = 0.4610\n",
            "epoch 638 / 1000, step 16/30, loss = 0.4585\n",
            "epoch 639 / 1000, step 16/30, loss = 0.5604\n",
            "epoch 640 / 1000, step 16/30, loss = 0.3480\n",
            "epoch 641 / 1000, step 16/30, loss = 0.7169\n",
            "epoch 642 / 1000, step 16/30, loss = 0.6446\n",
            "epoch 643 / 1000, step 16/30, loss = 0.4982\n",
            "epoch 644 / 1000, step 16/30, loss = 0.5497\n",
            "epoch 645 / 1000, step 16/30, loss = 0.4151\n",
            "epoch 646 / 1000, step 16/30, loss = 0.3577\n",
            "epoch 647 / 1000, step 16/30, loss = 0.4571\n",
            "epoch 648 / 1000, step 16/30, loss = 0.4095\n",
            "epoch 649 / 1000, step 16/30, loss = 0.4358\n",
            "epoch 650 / 1000, step 16/30, loss = 0.5772\n",
            "epoch 651 / 1000, step 16/30, loss = 0.4626\n",
            "epoch 652 / 1000, step 16/30, loss = 0.5041\n",
            "epoch 653 / 1000, step 16/30, loss = 0.5516\n",
            "epoch 654 / 1000, step 16/30, loss = 0.4829\n",
            "epoch 655 / 1000, step 16/30, loss = 0.3855\n",
            "epoch 656 / 1000, step 16/30, loss = 0.4989\n",
            "epoch 657 / 1000, step 16/30, loss = 0.5333\n",
            "epoch 658 / 1000, step 16/30, loss = 0.5302\n",
            "epoch 659 / 1000, step 16/30, loss = 0.4967\n",
            "epoch 660 / 1000, step 16/30, loss = 0.4490\n",
            "epoch 661 / 1000, step 16/30, loss = 0.3987\n",
            "epoch 662 / 1000, step 16/30, loss = 0.5755\n",
            "epoch 663 / 1000, step 16/30, loss = 0.5996\n",
            "epoch 664 / 1000, step 16/30, loss = 0.4889\n",
            "epoch 665 / 1000, step 16/30, loss = 0.3527\n",
            "epoch 666 / 1000, step 16/30, loss = 0.7649\n",
            "epoch 667 / 1000, step 16/30, loss = 0.4129\n",
            "epoch 668 / 1000, step 16/30, loss = 0.4216\n",
            "epoch 669 / 1000, step 16/30, loss = 0.3580\n",
            "epoch 670 / 1000, step 16/30, loss = 0.3747\n",
            "epoch 671 / 1000, step 16/30, loss = 0.4107\n",
            "epoch 672 / 1000, step 16/30, loss = 0.3018\n",
            "epoch 673 / 1000, step 16/30, loss = 0.5799\n",
            "epoch 674 / 1000, step 16/30, loss = 0.4758\n",
            "epoch 675 / 1000, step 16/30, loss = 0.4683\n",
            "epoch 676 / 1000, step 16/30, loss = 0.4176\n",
            "epoch 677 / 1000, step 16/30, loss = 0.5217\n",
            "epoch 678 / 1000, step 16/30, loss = 0.6322\n",
            "epoch 679 / 1000, step 16/30, loss = 0.6084\n",
            "epoch 680 / 1000, step 16/30, loss = 0.4075\n",
            "epoch 681 / 1000, step 16/30, loss = 0.5092\n",
            "epoch 682 / 1000, step 16/30, loss = 0.6146\n",
            "epoch 683 / 1000, step 16/30, loss = 0.3585\n",
            "epoch 684 / 1000, step 16/30, loss = 0.5715\n",
            "epoch 685 / 1000, step 16/30, loss = 0.4386\n",
            "epoch 686 / 1000, step 16/30, loss = 0.4983\n",
            "epoch 687 / 1000, step 16/30, loss = 0.5920\n",
            "epoch 688 / 1000, step 16/30, loss = 0.4520\n",
            "epoch 689 / 1000, step 16/30, loss = 0.4863\n",
            "epoch 690 / 1000, step 16/30, loss = 0.5869\n",
            "epoch 691 / 1000, step 16/30, loss = 0.5143\n",
            "epoch 692 / 1000, step 16/30, loss = 0.5047\n",
            "epoch 693 / 1000, step 16/30, loss = 0.4798\n",
            "epoch 694 / 1000, step 16/30, loss = 0.5540\n",
            "epoch 695 / 1000, step 16/30, loss = 0.5192\n",
            "epoch 696 / 1000, step 16/30, loss = 0.5943\n",
            "epoch 697 / 1000, step 16/30, loss = 0.5818\n",
            "epoch 698 / 1000, step 16/30, loss = 0.2813\n",
            "epoch 699 / 1000, step 16/30, loss = 0.4328\n",
            "epoch 700 / 1000, step 16/30, loss = 0.3528\n",
            "epoch 701 / 1000, step 16/30, loss = 0.5406\n",
            "epoch 702 / 1000, step 16/30, loss = 0.5939\n",
            "epoch 703 / 1000, step 16/30, loss = 0.3846\n",
            "epoch 704 / 1000, step 16/30, loss = 0.3722\n",
            "epoch 705 / 1000, step 16/30, loss = 0.4594\n",
            "epoch 706 / 1000, step 16/30, loss = 0.5820\n",
            "epoch 707 / 1000, step 16/30, loss = 0.4054\n",
            "epoch 708 / 1000, step 16/30, loss = 0.6200\n",
            "epoch 709 / 1000, step 16/30, loss = 0.4554\n",
            "epoch 710 / 1000, step 16/30, loss = 0.4044\n",
            "epoch 711 / 1000, step 16/30, loss = 0.3305\n",
            "epoch 712 / 1000, step 16/30, loss = 0.4793\n",
            "epoch 713 / 1000, step 16/30, loss = 0.3793\n",
            "epoch 714 / 1000, step 16/30, loss = 0.5272\n",
            "epoch 715 / 1000, step 16/30, loss = 0.5377\n",
            "epoch 716 / 1000, step 16/30, loss = 0.4988\n",
            "epoch 717 / 1000, step 16/30, loss = 0.4008\n",
            "epoch 718 / 1000, step 16/30, loss = 0.4964\n",
            "epoch 719 / 1000, step 16/30, loss = 0.3751\n",
            "epoch 720 / 1000, step 16/30, loss = 0.4995\n",
            "epoch 721 / 1000, step 16/30, loss = 0.3809\n",
            "epoch 722 / 1000, step 16/30, loss = 0.3794\n",
            "epoch 723 / 1000, step 16/30, loss = 0.4641\n",
            "epoch 724 / 1000, step 16/30, loss = 0.5844\n",
            "epoch 725 / 1000, step 16/30, loss = 0.3130\n",
            "epoch 726 / 1000, step 16/30, loss = 0.5365\n",
            "epoch 727 / 1000, step 16/30, loss = 0.5082\n",
            "epoch 728 / 1000, step 16/30, loss = 0.6890\n",
            "epoch 729 / 1000, step 16/30, loss = 0.4927\n",
            "epoch 730 / 1000, step 16/30, loss = 0.5496\n",
            "epoch 731 / 1000, step 16/30, loss = 0.3905\n",
            "epoch 732 / 1000, step 16/30, loss = 0.3282\n",
            "epoch 733 / 1000, step 16/30, loss = 0.4304\n",
            "epoch 734 / 1000, step 16/30, loss = 0.4136\n",
            "epoch 735 / 1000, step 16/30, loss = 0.4645\n",
            "epoch 736 / 1000, step 16/30, loss = 0.4918\n",
            "epoch 737 / 1000, step 16/30, loss = 0.4789\n",
            "epoch 738 / 1000, step 16/30, loss = 0.4731\n",
            "epoch 739 / 1000, step 16/30, loss = 0.4869\n",
            "epoch 740 / 1000, step 16/30, loss = 0.5244\n",
            "epoch 741 / 1000, step 16/30, loss = 0.3854\n",
            "epoch 742 / 1000, step 16/30, loss = 0.3044\n",
            "epoch 743 / 1000, step 16/30, loss = 0.4290\n",
            "epoch 744 / 1000, step 16/30, loss = 0.4460\n",
            "epoch 745 / 1000, step 16/30, loss = 0.4544\n",
            "epoch 746 / 1000, step 16/30, loss = 0.3116\n",
            "epoch 747 / 1000, step 16/30, loss = 0.5309\n",
            "epoch 748 / 1000, step 16/30, loss = 0.3729\n",
            "epoch 749 / 1000, step 16/30, loss = 0.3806\n",
            "epoch 750 / 1000, step 16/30, loss = 0.3551\n",
            "epoch 751 / 1000, step 16/30, loss = 0.4502\n",
            "epoch 752 / 1000, step 16/30, loss = 0.5384\n",
            "epoch 753 / 1000, step 16/30, loss = 0.3803\n",
            "epoch 754 / 1000, step 16/30, loss = 0.5280\n",
            "epoch 755 / 1000, step 16/30, loss = 0.4875\n",
            "epoch 756 / 1000, step 16/30, loss = 0.3611\n",
            "epoch 757 / 1000, step 16/30, loss = 0.4372\n",
            "epoch 758 / 1000, step 16/30, loss = 0.4487\n",
            "epoch 759 / 1000, step 16/30, loss = 0.7560\n",
            "epoch 760 / 1000, step 16/30, loss = 0.3046\n",
            "epoch 761 / 1000, step 16/30, loss = 0.4776\n",
            "epoch 762 / 1000, step 16/30, loss = 0.4190\n",
            "epoch 763 / 1000, step 16/30, loss = 0.4113\n",
            "epoch 764 / 1000, step 16/30, loss = 0.3894\n",
            "epoch 765 / 1000, step 16/30, loss = 0.2682\n",
            "epoch 766 / 1000, step 16/30, loss = 0.5134\n",
            "epoch 767 / 1000, step 16/30, loss = 0.6261\n",
            "epoch 768 / 1000, step 16/30, loss = 0.3915\n",
            "epoch 769 / 1000, step 16/30, loss = 0.6018\n",
            "epoch 770 / 1000, step 16/30, loss = 0.3640\n",
            "epoch 771 / 1000, step 16/30, loss = 0.4365\n",
            "epoch 772 / 1000, step 16/30, loss = 0.3306\n",
            "epoch 773 / 1000, step 16/30, loss = 0.5744\n",
            "epoch 774 / 1000, step 16/30, loss = 0.4353\n",
            "epoch 775 / 1000, step 16/30, loss = 0.3814\n",
            "epoch 776 / 1000, step 16/30, loss = 0.4909\n",
            "epoch 777 / 1000, step 16/30, loss = 0.5425\n",
            "epoch 778 / 1000, step 16/30, loss = 0.5615\n",
            "epoch 779 / 1000, step 16/30, loss = 0.4066\n",
            "epoch 780 / 1000, step 16/30, loss = 0.3236\n",
            "epoch 781 / 1000, step 16/30, loss = 0.5373\n",
            "epoch 782 / 1000, step 16/30, loss = 0.4891\n",
            "epoch 783 / 1000, step 16/30, loss = 0.5211\n",
            "epoch 784 / 1000, step 16/30, loss = 0.5522\n",
            "epoch 785 / 1000, step 16/30, loss = 0.5764\n",
            "epoch 786 / 1000, step 16/30, loss = 0.5859\n",
            "epoch 787 / 1000, step 16/30, loss = 0.5522\n",
            "epoch 788 / 1000, step 16/30, loss = 0.5400\n",
            "epoch 789 / 1000, step 16/30, loss = 0.5471\n",
            "epoch 790 / 1000, step 16/30, loss = 0.3912\n",
            "epoch 791 / 1000, step 16/30, loss = 0.4386\n",
            "epoch 792 / 1000, step 16/30, loss = 0.4790\n",
            "epoch 793 / 1000, step 16/30, loss = 0.7074\n",
            "epoch 794 / 1000, step 16/30, loss = 0.5056\n",
            "epoch 795 / 1000, step 16/30, loss = 0.4283\n",
            "epoch 796 / 1000, step 16/30, loss = 0.2309\n",
            "epoch 797 / 1000, step 16/30, loss = 0.4604\n",
            "epoch 798 / 1000, step 16/30, loss = 0.4393\n",
            "epoch 799 / 1000, step 16/30, loss = 0.4684\n",
            "epoch 800 / 1000, step 16/30, loss = 0.4855\n",
            "epoch 801 / 1000, step 16/30, loss = 0.4399\n",
            "epoch 802 / 1000, step 16/30, loss = 0.7463\n",
            "epoch 803 / 1000, step 16/30, loss = 0.3310\n",
            "epoch 804 / 1000, step 16/30, loss = 0.4982\n",
            "epoch 805 / 1000, step 16/30, loss = 0.4615\n",
            "epoch 806 / 1000, step 16/30, loss = 0.4986\n",
            "epoch 807 / 1000, step 16/30, loss = 0.3244\n",
            "epoch 808 / 1000, step 16/30, loss = 0.4396\n",
            "epoch 809 / 1000, step 16/30, loss = 0.5686\n",
            "epoch 810 / 1000, step 16/30, loss = 0.4899\n",
            "epoch 811 / 1000, step 16/30, loss = 0.5730\n",
            "epoch 812 / 1000, step 16/30, loss = 0.5194\n",
            "epoch 813 / 1000, step 16/30, loss = 0.3622\n",
            "epoch 814 / 1000, step 16/30, loss = 0.3867\n",
            "epoch 815 / 1000, step 16/30, loss = 0.4300\n",
            "epoch 816 / 1000, step 16/30, loss = 0.5176\n",
            "epoch 817 / 1000, step 16/30, loss = 0.4361\n",
            "epoch 818 / 1000, step 16/30, loss = 0.5401\n",
            "epoch 819 / 1000, step 16/30, loss = 0.5497\n",
            "epoch 820 / 1000, step 16/30, loss = 0.6412\n",
            "epoch 821 / 1000, step 16/30, loss = 0.3332\n",
            "epoch 822 / 1000, step 16/30, loss = 0.5704\n",
            "epoch 823 / 1000, step 16/30, loss = 0.4345\n",
            "epoch 824 / 1000, step 16/30, loss = 0.3257\n",
            "epoch 825 / 1000, step 16/30, loss = 0.4693\n",
            "epoch 826 / 1000, step 16/30, loss = 0.4191\n",
            "epoch 827 / 1000, step 16/30, loss = 0.6603\n",
            "epoch 828 / 1000, step 16/30, loss = 0.5449\n",
            "epoch 829 / 1000, step 16/30, loss = 0.4273\n",
            "epoch 830 / 1000, step 16/30, loss = 0.4617\n",
            "epoch 831 / 1000, step 16/30, loss = 0.5508\n",
            "epoch 832 / 1000, step 16/30, loss = 0.7941\n",
            "epoch 833 / 1000, step 16/30, loss = 0.3821\n",
            "epoch 834 / 1000, step 16/30, loss = 0.4920\n",
            "epoch 835 / 1000, step 16/30, loss = 0.4948\n",
            "epoch 836 / 1000, step 16/30, loss = 0.3855\n",
            "epoch 837 / 1000, step 16/30, loss = 0.4596\n",
            "epoch 838 / 1000, step 16/30, loss = 0.6019\n",
            "epoch 839 / 1000, step 16/30, loss = 0.5997\n",
            "epoch 840 / 1000, step 16/30, loss = 0.4402\n",
            "epoch 841 / 1000, step 16/30, loss = 0.5959\n",
            "epoch 842 / 1000, step 16/30, loss = 0.5901\n",
            "epoch 843 / 1000, step 16/30, loss = 0.4776\n",
            "epoch 844 / 1000, step 16/30, loss = 0.6147\n",
            "epoch 845 / 1000, step 16/30, loss = 0.4957\n",
            "epoch 846 / 1000, step 16/30, loss = 0.5247\n",
            "epoch 847 / 1000, step 16/30, loss = 0.4630\n",
            "epoch 848 / 1000, step 16/30, loss = 0.3766\n",
            "epoch 849 / 1000, step 16/30, loss = 0.4747\n",
            "epoch 850 / 1000, step 16/30, loss = 0.4656\n",
            "epoch 851 / 1000, step 16/30, loss = 0.4577\n",
            "epoch 852 / 1000, step 16/30, loss = 0.4251\n",
            "epoch 853 / 1000, step 16/30, loss = 0.5452\n",
            "epoch 854 / 1000, step 16/30, loss = 0.4114\n",
            "epoch 855 / 1000, step 16/30, loss = 0.7793\n",
            "epoch 856 / 1000, step 16/30, loss = 0.4494\n",
            "epoch 857 / 1000, step 16/30, loss = 0.5368\n",
            "epoch 858 / 1000, step 16/30, loss = 0.5803\n",
            "epoch 859 / 1000, step 16/30, loss = 0.4573\n",
            "epoch 860 / 1000, step 16/30, loss = 0.6189\n",
            "epoch 861 / 1000, step 16/30, loss = 0.4233\n",
            "epoch 862 / 1000, step 16/30, loss = 0.3343\n",
            "epoch 863 / 1000, step 16/30, loss = 0.6788\n",
            "epoch 864 / 1000, step 16/30, loss = 0.4124\n",
            "epoch 865 / 1000, step 16/30, loss = 0.3622\n",
            "epoch 866 / 1000, step 16/30, loss = 0.4998\n",
            "epoch 867 / 1000, step 16/30, loss = 0.4220\n",
            "epoch 868 / 1000, step 16/30, loss = 0.6347\n",
            "epoch 869 / 1000, step 16/30, loss = 0.3853\n",
            "epoch 870 / 1000, step 16/30, loss = 0.6337\n",
            "epoch 871 / 1000, step 16/30, loss = 0.3483\n",
            "epoch 872 / 1000, step 16/30, loss = 0.6666\n",
            "epoch 873 / 1000, step 16/30, loss = 0.2865\n",
            "epoch 874 / 1000, step 16/30, loss = 0.3842\n",
            "epoch 875 / 1000, step 16/30, loss = 0.5748\n",
            "epoch 876 / 1000, step 16/30, loss = 0.4530\n",
            "epoch 877 / 1000, step 16/30, loss = 0.4426\n",
            "epoch 878 / 1000, step 16/30, loss = 0.3178\n",
            "epoch 879 / 1000, step 16/30, loss = 0.4856\n",
            "epoch 880 / 1000, step 16/30, loss = 0.3628\n",
            "epoch 881 / 1000, step 16/30, loss = 0.4722\n",
            "epoch 882 / 1000, step 16/30, loss = 0.5110\n",
            "epoch 883 / 1000, step 16/30, loss = 0.3850\n",
            "epoch 884 / 1000, step 16/30, loss = 0.4039\n",
            "epoch 885 / 1000, step 16/30, loss = 0.3707\n",
            "epoch 886 / 1000, step 16/30, loss = 0.3750\n",
            "epoch 887 / 1000, step 16/30, loss = 0.4473\n",
            "epoch 888 / 1000, step 16/30, loss = 0.4256\n",
            "epoch 889 / 1000, step 16/30, loss = 0.3471\n",
            "epoch 890 / 1000, step 16/30, loss = 0.3374\n",
            "epoch 891 / 1000, step 16/30, loss = 0.4876\n",
            "epoch 892 / 1000, step 16/30, loss = 0.4701\n",
            "epoch 893 / 1000, step 16/30, loss = 0.4381\n",
            "epoch 894 / 1000, step 16/30, loss = 0.4138\n",
            "epoch 895 / 1000, step 16/30, loss = 0.5180\n",
            "epoch 896 / 1000, step 16/30, loss = 0.4945\n",
            "epoch 897 / 1000, step 16/30, loss = 0.3478\n",
            "epoch 898 / 1000, step 16/30, loss = 0.3978\n",
            "epoch 899 / 1000, step 16/30, loss = 0.4229\n",
            "epoch 900 / 1000, step 16/30, loss = 0.3146\n",
            "epoch 901 / 1000, step 16/30, loss = 0.4899\n",
            "epoch 902 / 1000, step 16/30, loss = 0.3448\n",
            "epoch 903 / 1000, step 16/30, loss = 0.4698\n",
            "epoch 904 / 1000, step 16/30, loss = 0.3355\n",
            "epoch 905 / 1000, step 16/30, loss = 0.3302\n",
            "epoch 906 / 1000, step 16/30, loss = 0.4892\n",
            "epoch 907 / 1000, step 16/30, loss = 0.4767\n",
            "epoch 908 / 1000, step 16/30, loss = 0.6152\n",
            "epoch 909 / 1000, step 16/30, loss = 0.6098\n",
            "epoch 910 / 1000, step 16/30, loss = 0.5223\n",
            "epoch 911 / 1000, step 16/30, loss = 0.4622\n",
            "epoch 912 / 1000, step 16/30, loss = 0.4049\n",
            "epoch 913 / 1000, step 16/30, loss = 0.4460\n",
            "epoch 914 / 1000, step 16/30, loss = 0.2762\n",
            "epoch 915 / 1000, step 16/30, loss = 0.5913\n",
            "epoch 916 / 1000, step 16/30, loss = 0.3084\n",
            "epoch 917 / 1000, step 16/30, loss = 0.3706\n",
            "epoch 918 / 1000, step 16/30, loss = 0.5784\n",
            "epoch 919 / 1000, step 16/30, loss = 0.2966\n",
            "epoch 920 / 1000, step 16/30, loss = 0.4462\n",
            "epoch 921 / 1000, step 16/30, loss = 0.3233\n",
            "epoch 922 / 1000, step 16/30, loss = 0.5710\n",
            "epoch 923 / 1000, step 16/30, loss = 0.3465\n",
            "epoch 924 / 1000, step 16/30, loss = 0.3113\n",
            "epoch 925 / 1000, step 16/30, loss = 0.3658\n",
            "epoch 926 / 1000, step 16/30, loss = 0.7809\n",
            "epoch 927 / 1000, step 16/30, loss = 0.5453\n",
            "epoch 928 / 1000, step 16/30, loss = 0.7144\n",
            "epoch 929 / 1000, step 16/30, loss = 0.4096\n",
            "epoch 930 / 1000, step 16/30, loss = 0.3800\n",
            "epoch 931 / 1000, step 16/30, loss = 0.4685\n",
            "epoch 932 / 1000, step 16/30, loss = 0.8019\n",
            "epoch 933 / 1000, step 16/30, loss = 0.5250\n",
            "epoch 934 / 1000, step 16/30, loss = 0.5834\n",
            "epoch 935 / 1000, step 16/30, loss = 0.6797\n",
            "epoch 936 / 1000, step 16/30, loss = 0.9124\n",
            "epoch 937 / 1000, step 16/30, loss = 0.4835\n",
            "epoch 938 / 1000, step 16/30, loss = 0.5255\n",
            "epoch 939 / 1000, step 16/30, loss = 0.4676\n",
            "epoch 940 / 1000, step 16/30, loss = 0.4492\n",
            "epoch 941 / 1000, step 16/30, loss = 0.4916\n",
            "epoch 942 / 1000, step 16/30, loss = 0.4737\n",
            "epoch 943 / 1000, step 16/30, loss = 0.6149\n",
            "epoch 944 / 1000, step 16/30, loss = 0.3453\n",
            "epoch 945 / 1000, step 16/30, loss = 0.4024\n",
            "epoch 946 / 1000, step 16/30, loss = 0.5785\n",
            "epoch 947 / 1000, step 16/30, loss = 0.4371\n",
            "epoch 948 / 1000, step 16/30, loss = 0.4813\n",
            "epoch 949 / 1000, step 16/30, loss = 0.3472\n",
            "epoch 950 / 1000, step 16/30, loss = 0.4210\n",
            "epoch 951 / 1000, step 16/30, loss = 0.5399\n",
            "epoch 952 / 1000, step 16/30, loss = 0.4657\n",
            "epoch 953 / 1000, step 16/30, loss = 0.4695\n",
            "epoch 954 / 1000, step 16/30, loss = 0.5313\n",
            "epoch 955 / 1000, step 16/30, loss = 0.4952\n",
            "epoch 956 / 1000, step 16/30, loss = 0.4380\n",
            "epoch 957 / 1000, step 16/30, loss = 0.4388\n",
            "epoch 958 / 1000, step 16/30, loss = 0.4665\n",
            "epoch 959 / 1000, step 16/30, loss = 0.2934\n",
            "epoch 960 / 1000, step 16/30, loss = 0.4670\n",
            "epoch 961 / 1000, step 16/30, loss = 0.4831\n",
            "epoch 962 / 1000, step 16/30, loss = 0.4842\n",
            "epoch 963 / 1000, step 16/30, loss = 0.6125\n",
            "epoch 964 / 1000, step 16/30, loss = 0.3299\n",
            "epoch 965 / 1000, step 16/30, loss = 0.3759\n",
            "epoch 966 / 1000, step 16/30, loss = 0.4919\n",
            "epoch 967 / 1000, step 16/30, loss = 0.3179\n",
            "epoch 968 / 1000, step 16/30, loss = 0.5087\n",
            "epoch 969 / 1000, step 16/30, loss = 0.4467\n",
            "epoch 970 / 1000, step 16/30, loss = 0.4602\n",
            "epoch 971 / 1000, step 16/30, loss = 0.6360\n",
            "epoch 972 / 1000, step 16/30, loss = 0.4132\n",
            "epoch 973 / 1000, step 16/30, loss = 0.3073\n",
            "epoch 974 / 1000, step 16/30, loss = 0.3177\n",
            "epoch 975 / 1000, step 16/30, loss = 0.5220\n",
            "epoch 976 / 1000, step 16/30, loss = 0.3783\n",
            "epoch 977 / 1000, step 16/30, loss = 0.5145\n",
            "epoch 978 / 1000, step 16/30, loss = 0.5252\n",
            "epoch 979 / 1000, step 16/30, loss = 0.2975\n",
            "epoch 980 / 1000, step 16/30, loss = 0.4838\n",
            "epoch 981 / 1000, step 16/30, loss = 0.4657\n",
            "epoch 982 / 1000, step 16/30, loss = 0.5751\n",
            "epoch 983 / 1000, step 16/30, loss = 0.3659\n",
            "epoch 984 / 1000, step 16/30, loss = 0.5321\n",
            "epoch 985 / 1000, step 16/30, loss = 0.3451\n",
            "epoch 986 / 1000, step 16/30, loss = 0.4551\n",
            "epoch 987 / 1000, step 16/30, loss = 0.5043\n",
            "epoch 988 / 1000, step 16/30, loss = 0.4285\n",
            "epoch 989 / 1000, step 16/30, loss = 0.4488\n",
            "epoch 990 / 1000, step 16/30, loss = 0.5328\n",
            "epoch 991 / 1000, step 16/30, loss = 0.4993\n",
            "epoch 992 / 1000, step 16/30, loss = 0.3680\n",
            "epoch 993 / 1000, step 16/30, loss = 0.4904\n",
            "epoch 994 / 1000, step 16/30, loss = 0.3437\n",
            "epoch 995 / 1000, step 16/30, loss = 0.4697\n",
            "epoch 996 / 1000, step 16/30, loss = 0.3939\n",
            "epoch 997 / 1000, step 16/30, loss = 0.3861\n",
            "epoch 998 / 1000, step 16/30, loss = 0.6751\n",
            "epoch 999 / 1000, step 16/30, loss = 0.3697\n",
            "epoch 1000 / 1000, step 16/30, loss = 0.5929\n"
          ]
        }
      ],
      "source": [
        "n_total_steps = len(train_loader)\n",
        "for epoch in range(num_epochs):\n",
        "  for i, (features, labels) in enumerate(train_loader):\n",
        "    features = features.to(device)\n",
        "    labels = labels.to(device)\n",
        "\n",
        "    #forward path\n",
        "    outputs = model(features) # Подаем признаки на вход нейросети\n",
        "    loss = L(outputs, labels)\n",
        "\n",
        "    #backward path\n",
        "    optimizer.zero_grad()\n",
        "    loss.backward()\n",
        "    optimizer.step()\n",
        "\n",
        "    if (i+1) % 16 == 0:\n",
        "       print(f'epoch {epoch+1} / {num_epochs}, step {i+1}/{n_total_steps}, loss = {loss.item():.4f}')\n"
      ]
    },
    {
      "cell_type": "code",
      "execution_count": 82,
      "metadata": {
        "id": "JBpHSfuK3GWL",
        "colab": {
          "base_uri": "https://localhost:8080/"
        },
        "outputId": "043648d3-9a65-4699-a4b7-5281670b0ec6"
      },
      "outputs": [
        {
          "output_type": "execute_result",
          "data": {
            "text/plain": [
              "(tensor([[ 0.3159, -0.4715],\n",
              "         [-0.0966, -1.2325],\n",
              "         [-0.4500,  0.2108],\n",
              "         [-0.2335,  0.0543],\n",
              "         [ 1.2352, -1.2711],\n",
              "         [-1.1434,  0.3600],\n",
              "         [-0.8557, -0.0630],\n",
              "         [ 0.3635, -0.8167],\n",
              "         [-0.7071, -0.0368],\n",
              "         [ 1.3399, -2.4348],\n",
              "         [-0.0111, -0.0259],\n",
              "         [-0.1739, -0.2177],\n",
              "         [ 2.3465, -3.3568],\n",
              "         [-0.3305,  0.2982],\n",
              "         [ 1.1266, -1.0249],\n",
              "         [-0.5192, -0.1065],\n",
              "         [-1.4950,  0.5061],\n",
              "         [-0.8175,  0.0839],\n",
              "         [-1.0782,  0.7725],\n",
              "         [-0.7502, -0.4222]], grad_fn=<AddmmBackward0>),\n",
              " tensor([0, 0, 0, 1, 0, 1, 0, 0, 0, 0, 1, 0, 0, 0, 0, 1, 1, 0, 0, 0]))"
            ]
          },
          "metadata": {},
          "execution_count": 82
        }
      ],
      "source": [
        "outputs, labels"
      ]
    },
    {
      "cell_type": "markdown",
      "metadata": {
        "id": "ga6qUKpY04F1"
      },
      "source": [
        "#Test"
      ]
    },
    {
      "cell_type": "code",
      "execution_count": 83,
      "metadata": {
        "id": "Ff5AdQL005sM",
        "colab": {
          "base_uri": "https://localhost:8080/"
        },
        "outputId": "aa050825-4351-4565-9f0e-44aef704e3e6"
      },
      "outputs": [
        {
          "output_type": "stream",
          "name": "stdout",
          "text": [
            "tensor([[ 0.4113, -0.8742],\n",
            "        [-0.1108,  0.4751],\n",
            "        [-0.0526, -1.1855],\n",
            "        [-0.1251,  0.3152],\n",
            "        [-0.5380, -0.7515],\n",
            "        [-1.0991,  1.2689],\n",
            "        [ 0.7126, -1.0807],\n",
            "        [ 1.0338, -1.3631],\n",
            "        [ 0.3069,  0.0574],\n",
            "        [ 0.4216, -0.5076],\n",
            "        [-0.0111, -0.0259],\n",
            "        [ 0.5865, -1.3098],\n",
            "        [-0.5576, -0.4571],\n",
            "        [-0.3063,  0.3665],\n",
            "        [-0.8070, -0.5725],\n",
            "        [-0.4100, -1.2355],\n",
            "        [ 0.7628, -1.1823],\n",
            "        [ 1.2371, -2.5514],\n",
            "        [-0.7348, -0.4264],\n",
            "        [ 1.1652, -2.2133]])\n",
            "tensor([[ 0.6682, -0.7096],\n",
            "        [ 0.9858, -2.2317],\n",
            "        [ 0.6137, -1.2927],\n",
            "        [-0.9422,  1.2080],\n",
            "        [-1.7833,  1.8763],\n",
            "        [-0.7486,  0.4547],\n",
            "        [ 0.6831, -1.1332],\n",
            "        [-0.1745,  0.1815],\n",
            "        [ 1.3677, -2.4427],\n",
            "        [-0.5809,  0.2873],\n",
            "        [-0.0111, -0.0259],\n",
            "        [ 2.4218, -3.1409],\n",
            "        [ 1.0682, -1.4209],\n",
            "        [ 0.2898, -0.4192],\n",
            "        [-0.4547, -1.3652],\n",
            "        [-0.7575,  0.0933],\n",
            "        [ 1.1505, -4.0604],\n",
            "        [-0.3834, -0.4175],\n",
            "        [ 0.5678, -0.5895],\n",
            "        [-1.1587,  1.4296]])\n",
            "tensor([[ 0.2667, -0.6717],\n",
            "        [ 0.6058, -0.7570],\n",
            "        [ 0.1011, -0.0252],\n",
            "        [-0.6428,  0.1648],\n",
            "        [ 0.1511, -0.1685],\n",
            "        [ 1.3438, -2.2206],\n",
            "        [ 0.1596, -0.2137],\n",
            "        [-0.7406, -0.2873],\n",
            "        [-0.2462, -0.2488],\n",
            "        [ 1.7009, -2.4675],\n",
            "        [-0.0111, -0.0259],\n",
            "        [-1.8914,  1.4067],\n",
            "        [-1.2285,  0.7386],\n",
            "        [-0.0737, -0.2238],\n",
            "        [-0.9050, -0.0148],\n",
            "        [ 0.1224, -0.0747],\n",
            "        [ 1.1108, -3.6226],\n",
            "        [ 1.4034, -1.3521],\n",
            "        [ 1.3048, -2.0149],\n",
            "        [ 1.1503, -1.7296]])\n",
            "tensor([[-0.9745, -0.1832],\n",
            "        [ 0.9041, -1.6414],\n",
            "        [-0.0940, -0.9051],\n",
            "        [ 0.1711, -0.3537],\n",
            "        [-0.8413,  0.2920],\n",
            "        [-0.5331,  0.1389],\n",
            "        [-0.1400, -0.2322],\n",
            "        [ 0.8095, -0.8472],\n",
            "        [ 0.3074, -0.3067],\n",
            "        [-0.7531,  0.8532],\n",
            "        [-0.0111, -0.0259],\n",
            "        [-1.0820,  0.3755],\n",
            "        [ 0.6287, -2.5685],\n",
            "        [ 0.1182, -0.2214],\n",
            "        [ 1.7934, -2.2909],\n",
            "        [-0.3947, -0.5350],\n",
            "        [-0.6145,  0.5751],\n",
            "        [ 0.8969, -1.2600],\n",
            "        [ 0.9368, -2.7940],\n",
            "        [ 0.5878, -1.5171]])\n",
            "tensor([[ 9.9033e-01, -1.3145e+00],\n",
            "        [-1.5530e+00,  1.7055e+00],\n",
            "        [ 1.0159e+00, -1.1431e+00],\n",
            "        [-2.0111e-01, -1.1939e-01],\n",
            "        [ 8.9095e-02, -7.5128e-01],\n",
            "        [ 1.4606e+00, -3.7231e+00],\n",
            "        [-9.3314e-01,  8.2199e-01],\n",
            "        [ 8.2993e-01, -1.2446e+00],\n",
            "        [-1.3777e+00,  1.6573e+00],\n",
            "        [-9.0307e-02, -1.6451e+00],\n",
            "        [-1.1057e-02, -2.5884e-02],\n",
            "        [-1.0346e+00,  9.9502e-01],\n",
            "        [-9.7981e-01, -1.2267e-01],\n",
            "        [-9.8733e-02,  6.7211e-03],\n",
            "        [ 1.3511e+00, -2.7207e+00],\n",
            "        [ 3.6799e-01, -7.4546e-01],\n",
            "        [ 5.2711e-01, -1.2610e+00],\n",
            "        [ 2.1532e-01, -1.9363e+00],\n",
            "        [ 8.0202e-01, -1.1300e+00],\n",
            "        [ 5.3857e-01, -1.2243e-03]])\n",
            "tensor([[-1.2115,  0.8117],\n",
            "        [-0.2720,  0.0461],\n",
            "        [ 0.5551, -0.7239],\n",
            "        [-0.6581, -0.4921],\n",
            "        [ 0.0405, -0.1041],\n",
            "        [-0.2308, -1.4807],\n",
            "        [-0.9578,  0.9843],\n",
            "        [ 0.2965, -0.2388],\n",
            "        [ 0.0660, -1.6592],\n",
            "        [ 0.7175, -2.1055],\n",
            "        [-0.0111, -0.0259],\n",
            "        [ 0.6118, -0.6498],\n",
            "        [ 0.5915, -0.7006],\n",
            "        [ 0.6003, -0.7110],\n",
            "        [-0.6912,  0.7673],\n",
            "        [ 0.8571, -2.6194],\n",
            "        [-0.5050, -0.1592],\n",
            "        [ 0.0689, -0.0333],\n",
            "        [ 1.4742, -2.2804],\n",
            "        [ 0.1396, -1.4007]])\n"
          ]
        }
      ],
      "source": [
        "with torch.no_grad():\n",
        "  n_correct = 0\n",
        "  n_samples = 0\n",
        "  for features, labels in test_loader:\n",
        "    features = features.to(device)\n",
        "    labels = labels.to(device)\n",
        "    outputs = model(features)\n",
        "    print(outputs)\n",
        "    #value, index\n",
        "    _, predictions = torch.max(outputs, 1)\n",
        "    n_samples += labels.shape[0]\n",
        "    n_correct += (predictions == labels).sum().item()"
      ]
    },
    {
      "cell_type": "markdown",
      "source": [
        "# Accuracy"
      ],
      "metadata": {
        "id": "KJhrmwxPV60j"
      }
    },
    {
      "cell_type": "code",
      "source": [
        "  acc = 100.0 * n_correct / n_samples\n",
        "  print(f'accuracy = {acc} %')"
      ],
      "metadata": {
        "id": "Ledys3Jj-6Or",
        "colab": {
          "base_uri": "https://localhost:8080/"
        },
        "outputId": "35c32400-bddd-4f34-f377-36bc8bf345be"
      },
      "execution_count": 84,
      "outputs": [
        {
          "output_type": "stream",
          "name": "stdout",
          "text": [
            "accuracy = 76.66666666666667 %\n"
          ]
        }
      ]
    }
  ],
  "metadata": {
    "colab": {
      "provenance": [],
      "collapsed_sections": [
        "MwSUjvtElsBR",
        "P4vWtCezUnKu",
        "QG0rieAzwscd",
        "ga6qUKpY04F1"
      ],
      "include_colab_link": true
    },
    "kernelspec": {
      "display_name": "Python 3 (ipykernel)",
      "language": "python",
      "name": "python3"
    },
    "language_info": {
      "codemirror_mode": {
        "name": "ipython",
        "version": 3
      },
      "file_extension": ".py",
      "mimetype": "text/x-python",
      "name": "python",
      "nbconvert_exporter": "python",
      "pygments_lexer": "ipython3",
      "version": "3.9.12"
    },
    "varInspector": {
      "cols": {
        "lenName": 16,
        "lenType": 16,
        "lenVar": 40
      },
      "kernels_config": {
        "python": {
          "delete_cmd_postfix": "",
          "delete_cmd_prefix": "del ",
          "library": "var_list.py",
          "varRefreshCmd": "print(var_dic_list())"
        },
        "r": {
          "delete_cmd_postfix": ") ",
          "delete_cmd_prefix": "rm(",
          "library": "var_list.r",
          "varRefreshCmd": "cat(var_dic_list()) "
        }
      },
      "types_to_exclude": [
        "module",
        "function",
        "builtin_function_or_method",
        "instance",
        "_Feature"
      ],
      "window_display": false
    }
  },
  "nbformat": 4,
  "nbformat_minor": 0
}