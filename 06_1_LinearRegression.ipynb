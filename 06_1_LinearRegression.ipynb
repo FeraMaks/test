{
  "nbformat": 4,
  "nbformat_minor": 0,
  "metadata": {
    "colab": {
      "provenance": [],
      "authorship_tag": "ABX9TyOFA31jKFD/NFFC8AqHpxOH",
      "include_colab_link": true
    },
    "kernelspec": {
      "name": "python3",
      "display_name": "Python 3"
    },
    "language_info": {
      "name": "python"
    }
  },
  "cells": [
    {
      "cell_type": "markdown",
      "metadata": {
        "id": "view-in-github",
        "colab_type": "text"
      },
      "source": [
        "<a href=\"https://colab.research.google.com/github/FeraMaks/test/blob/main/06_1_LinearRegression.ipynb\" target=\"_parent\"><img src=\"https://colab.research.google.com/assets/colab-badge.svg\" alt=\"Open In Colab\"/></a>"
      ]
    },
    {
      "cell_type": "markdown",
      "source": [
        "# Import libraries"
      ],
      "metadata": {
        "id": "Q4XM6PncQc_N"
      }
    },
    {
      "cell_type": "code",
      "source": [
        "import torch\n",
        "import torch.nn as nn\n",
        "import numpy as np\n",
        "from sklearn import datasets\n",
        "import matplotlib.pyplot as plt\n"
      ],
      "metadata": {
        "id": "B43e128uQh8m"
      },
      "execution_count": 1,
      "outputs": []
    },
    {
      "cell_type": "markdown",
      "source": [
        "# Initialisation"
      ],
      "metadata": {
        "id": "iozBvKwWRBXP"
      }
    },
    {
      "cell_type": "code",
      "source": [
        "X_numpy, Y_numpy = datasets.make_regression(n_samples = 100, n_features = 1, noise = 10)\n",
        "\n",
        "X = torch.from_numpy(X_numpy.astype(np.float32))\n",
        "Y = torch.from_numpy(Y_numpy.astype(np.float32))\n",
        "print(Y.shape)\n",
        "Y = Y.view(Y.shape[0], 1)"
      ],
      "metadata": {
        "colab": {
          "base_uri": "https://localhost:8080/"
        },
        "id": "G_3vROmSRD1K",
        "outputId": "e182d357-50c5-4aca-f180-f76b6ff8266c"
      },
      "execution_count": 2,
      "outputs": [
        {
          "output_type": "stream",
          "name": "stdout",
          "text": [
            "torch.Size([100])\n"
          ]
        }
      ]
    },
    {
      "cell_type": "code",
      "source": [
        "n_samples, n_features = X.shape"
      ],
      "metadata": {
        "id": "-U8-MMQQRo97"
      },
      "execution_count": 3,
      "outputs": []
    },
    {
      "cell_type": "markdown",
      "source": [
        "# Model prediction"
      ],
      "metadata": {
        "id": "vLEo6cEFTD7M"
      }
    },
    {
      "cell_type": "code",
      "source": [
        "input_size = n_features\n",
        "output_size = 1\n",
        "\n",
        "class LinearRegression(nn.Module):\n",
        "  def __init__(self, input_dim, output_dim):\n",
        "    super(LinearRegression, self).__init__()\n",
        "    #define layers\n",
        "    self.lin = nn.Linear(input_dim, output_dim)\n",
        "  def forward(self, x):\n",
        "    return self.lin(x)\n"
      ],
      "metadata": {
        "id": "kPpGrtfrS7Ik"
      },
      "execution_count": 4,
      "outputs": []
    },
    {
      "cell_type": "code",
      "source": [
        "model = LinearRegression(input_size, output_size)"
      ],
      "metadata": {
        "id": "6WQ_SVTFUtWa"
      },
      "execution_count": 5,
      "outputs": []
    },
    {
      "cell_type": "markdown",
      "source": [
        "Loss"
      ],
      "metadata": {
        "id": "UaZdfJXgU-Zi"
      }
    },
    {
      "cell_type": "code",
      "source": [
        "loss = nn.MSELoss()"
      ],
      "metadata": {
        "id": "U7ZjJLUQU5Ar"
      },
      "execution_count": 6,
      "outputs": []
    },
    {
      "cell_type": "markdown",
      "source": [
        "#Training"
      ],
      "metadata": {
        "id": "GiDFd_EgVISp"
      }
    },
    {
      "cell_type": "code",
      "source": [
        "lr = 0.01\n",
        "n = 1000\n",
        "\n",
        "optimizer = torch.optim.SGD(model.parameters(), lr = lr)\n",
        "\n",
        "for epoch in range(n):\n",
        "  #prediction\n",
        "  H = model(X)\n",
        "  #loss\n",
        "  L = loss(Y, H)\n",
        "  L.backward()\n",
        "  #update\n",
        "  optimizer.step()\n",
        "  #zero gradients\n",
        "  optimizer.zero_grad()\n",
        "\n",
        "  if (epoch+1) % 100 == 0:\n",
        "    [w,b] = model.parameters()\n",
        "    print(f'epoch = {epoch+1}: w = {w[0][0]:.3f},loss = {L.item():.5f}')"
      ],
      "metadata": {
        "colab": {
          "base_uri": "https://localhost:8080/"
        },
        "id": "sTBmmDQlU3N1",
        "outputId": "4fc137eb-05de-4a8c-ef5a-4b0dbf82d986"
      },
      "execution_count": 7,
      "outputs": [
        {
          "output_type": "stream",
          "name": "stdout",
          "text": [
            "epoch = 100: w = 56.948,loss = 143.48781\n",
            "epoch = 200: w = 62.678,loss = 94.66936\n",
            "epoch = 300: w = 63.287,loss = 94.03474\n",
            "epoch = 400: w = 63.356,loss = 94.02420\n",
            "epoch = 500: w = 63.364,loss = 94.02399\n",
            "epoch = 600: w = 63.365,loss = 94.02399\n",
            "epoch = 700: w = 63.366,loss = 94.02400\n",
            "epoch = 800: w = 63.366,loss = 94.02400\n",
            "epoch = 900: w = 63.366,loss = 94.02400\n",
            "epoch = 1000: w = 63.366,loss = 94.02400\n"
          ]
        }
      ]
    },
    {
      "cell_type": "markdown",
      "source": [
        "#Visualization"
      ],
      "metadata": {
        "id": "RNm50dr4XzSq"
      }
    },
    {
      "cell_type": "code",
      "source": [
        "predictions = model(X).detach().numpy()\n",
        "plt.plot(X_numpy, Y_numpy, 'ro')\n",
        "plt.plot(X_numpy, predictions, 'b')"
      ],
      "metadata": {
        "colab": {
          "base_uri": "https://localhost:8080/",
          "height": 282
        },
        "id": "cwpk8g5UV9F9",
        "outputId": "c3985d42-6c94-4ab9-b1ad-0e1e861350bb"
      },
      "execution_count": 8,
      "outputs": [
        {
          "output_type": "execute_result",
          "data": {
            "text/plain": [
              "[<matplotlib.lines.Line2D at 0x7f37b9597550>]"
            ]
          },
          "metadata": {},
          "execution_count": 8
        },
        {
          "output_type": "display_data",
          "data": {
            "text/plain": [
              "<Figure size 432x288 with 1 Axes>"
            ],
            "image/png": "[encoded data removed]"
          },
          "metadata": {
            "needs_background": "light"
          }
        }
      ]
    }
  ]
}