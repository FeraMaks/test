{
  "nbformat": 4,
  "nbformat_minor": 0,
  "metadata": {
    "colab": {
      "provenance": [],
      "authorship_tag": "ABX9TyM50/JE3o06H8vPW0417660",
      "include_colab_link": true
    },
    "kernelspec": {
      "name": "python3",
      "display_name": "Python 3"
    },
    "language_info": {
      "name": "python"
    }
  },
  "cells": [
    {
      "cell_type": "markdown",
      "metadata": {
        "id": "view-in-github",
        "colab_type": "text"
      },
      "source": [
        "<a href=\"https://colab.research.google.com/github/FeraMaks/test/blob/main/05_1_gradientDescent_torch_enh2.ipynb\" target=\"_parent\"><img src=\"https://colab.research.google.com/assets/colab-badge.svg\" alt=\"Open In Colab\"/></a>"
      ]
    },
    {
      "cell_type": "markdown",
      "source": [
        "Import libraries"
      ],
      "metadata": {
        "id": "pG6COUw_HaYC"
      }
    },
    {
      "cell_type": "code",
      "execution_count": 1,
      "metadata": {
        "id": "woiWXr2-G56f"
      },
      "outputs": [],
      "source": [
        "import torch\n",
        "import torch.nn as nn"
      ]
    },
    {
      "cell_type": "markdown",
      "source": [
        "#Initialization"
      ],
      "metadata": {
        "id": "OiNwpbb3Hkx-"
      }
    },
    {
      "cell_type": "markdown",
      "source": [
        "y = 2*x"
      ],
      "metadata": {
        "id": "wJnfhgtKbybB"
      }
    },
    {
      "cell_type": "code",
      "source": [
        "X = torch.tensor([[1], [2], [3], [4]], dtype=torch.float32)\n",
        "Y = torch.tensor([[2], [4], [6], [8]], dtype=torch.float32)\n",
        "n_samples, n_features = X.shape\n",
        "print (n_samples, n_features)\n",
        "\n",
        "x_test = torch.tensor([5], dtype=torch.float32)\n"
      ],
      "metadata": {
        "colab": {
          "base_uri": "https://localhost:8080/"
        },
        "id": "6NHN462CHnW9",
        "outputId": "518f5fa9-6f02-48c3-bb2e-41bc81b2acb2"
      },
      "execution_count": 2,
      "outputs": [
        {
          "output_type": "stream",
          "name": "stdout",
          "text": [
            "4 1\n"
          ]
        }
      ]
    },
    {
      "cell_type": "markdown",
      "source": [
        "#Model"
      ],
      "metadata": {
        "id": "6NKs7WcXIQPE"
      }
    },
    {
      "cell_type": "code",
      "source": [
        "input_size = n_features\n",
        "output_size = 1\n",
        "\n",
        "class LinearRegression (nn.Module):\n",
        "  def __init__(self, input_dim, output_dim):\n",
        "    super(LinearRegression, self).__init__()\n",
        "    #define layers\n",
        "    self.lin = nn.Linear(input_dim, output_dim)\n",
        "  def forward(self, x):\n",
        "    return self.lin(x)"
      ],
      "metadata": {
        "id": "ivXVrYUhIRfD"
      },
      "execution_count": 3,
      "outputs": []
    },
    {
      "cell_type": "code",
      "source": [
        "model = LinearRegression(input_size, output_size)"
      ],
      "metadata": {
        "id": "cz4P1frkLzfe"
      },
      "execution_count": 4,
      "outputs": []
    },
    {
      "cell_type": "code",
      "source": [
        "loss = nn.MSELoss()"
      ],
      "metadata": {
        "id": "tHei17rmf9mO"
      },
      "execution_count": 5,
      "outputs": []
    },
    {
      "cell_type": "code",
      "source": [
        "model.parameters()"
      ],
      "metadata": {
        "colab": {
          "base_uri": "https://localhost:8080/"
        },
        "id": "x1wuC_wpg9p_",
        "outputId": "36ca3152-5061-472c-98fb-a8451e8ae42a"
      },
      "execution_count": 6,
      "outputs": [
        {
          "output_type": "execute_result",
          "data": {
            "text/plain": [
              "<generator object Module.parameters at 0x7efc82d93f50>"
            ]
          },
          "metadata": {},
          "execution_count": 6
        }
      ]
    },
    {
      "cell_type": "markdown",
      "source": [
        "#Training"
      ],
      "metadata": {
        "id": "5CiZB6WLI-Oa"
      }
    },
    {
      "cell_type": "code",
      "source": [
        "lr = 0.01\n",
        "n = 1000\n",
        "\n",
        "optimizer = torch.optim.SGD(model.parameters(),lr=lr)\n",
        "\n",
        "for epoch in range(n):\n",
        "  #prediction\n",
        "  H = model(X)\n",
        "  #loss\n",
        "  L = loss(Y,H)\n",
        "  #gradient\n",
        "  L.backward() #grad_theta = gradient(X, Y, H)\n",
        "  #update\n",
        "  optimizer.step()\n",
        "  #zero grad\n",
        "  optimizer.zero_grad()\n",
        "\n",
        "\n",
        "  if epoch % 10 == 0:\n",
        "    [theta, theta0] = model.parameters()\n",
        "    print(f'epoch = {epoch+1}, theta = {theta[0][0]}, theta0 = {theta0[0]}, loss = {L:.5f}')"
      ],
      "metadata": {
        "id": "94MOaZv7I1Bb"
      },
      "execution_count": null,
      "outputs": []
    },
    {
      "cell_type": "code",
      "source": [],
      "metadata": {
        "id": "vT8oTYDXKiSi"
      },
      "execution_count": 7,
      "outputs": []
    }
  ]
}