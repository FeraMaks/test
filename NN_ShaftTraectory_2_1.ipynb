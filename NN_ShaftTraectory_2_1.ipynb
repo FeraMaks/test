{
  "cells": [
    {
      "cell_type": "markdown",
      "metadata": {
        "id": "view-in-github",
        "colab_type": "text"
      },
      "source": [
        "<a href=\"https://colab.research.google.com/github/FeraMaks/test/blob/main/NN_ShaftTraectory_2_1.ipynb\" target=\"_parent\"><img src=\"https://colab.research.google.com/assets/colab-badge.svg\" alt=\"Open In Colab\"/></a>"
      ]
    },
    {
      "cell_type": "code",
      "execution_count": 1,
      "metadata": {
        "id": "UGwCWPzQ4PLb"
      },
      "outputs": [],
      "source": [
        "import torch\n",
        "import torch.nn as nn\n",
        "import torchvision\n",
        "import torchvision.transforms as transforms\n",
        "from torch.utils.data import Dataset, DataLoader\n",
        "import numpy as np\n",
        "import matplotlib.pyplot as plt\n",
        "import math\n",
        "import random\n",
        "import pandas as pd\n",
        "from numpy.core.memmap import uint8\n",
        "\n",
        "from google.colab import drive"
      ]
    },
    {
      "cell_type": "code",
      "execution_count": 2,
      "metadata": {
        "id": "lY4YjbjkzSO1"
      },
      "outputs": [],
      "source": [
        "#device config\n",
        "device = torch.device('cuda' if torch.cuda.is_available() else 'cpu')"
      ]
    },
    {
      "cell_type": "code",
      "execution_count": 3,
      "metadata": {
        "colab": {
          "base_uri": "https://localhost:8080/"
        },
        "id": "0y-xHoV-4gUq",
        "outputId": "45039b1b-2e21-458f-9dbc-8b6f00222a14"
      },
      "outputs": [
        {
          "output_type": "stream",
          "name": "stdout",
          "text": [
            "Drive already mounted at /content/drive/; to attempt to forcibly remount, call drive.mount(\"/content/drive/\", force_remount=True).\n"
          ]
        }
      ],
      "source": [
        "drive.mount('/content/drive/')"
      ]
    },
    {
      "cell_type": "markdown",
      "metadata": {
        "id": "MwSUjvtElsBR"
      },
      "source": [
        "#Создание датасета"
      ]
    },
    {
      "cell_type": "code",
      "execution_count": 4,
      "metadata": {
        "colab": {
          "base_uri": "https://localhost:8080/"
        },
        "id": "aF6Vtt8afTY1",
        "outputId": "176d8d69-b259-406f-8896-a705e9a51799"
      },
      "outputs": [
        {
          "output_type": "execute_result",
          "data": {
            "text/plain": [
              "(6, 20000)"
            ]
          },
          "metadata": {},
          "execution_count": 4
        }
      ],
      "source": [
        "# Советую воспользоваться циклом for, чтобы не писать множество однотипных строк кода\n",
        "\n",
        "x = pd.read_excel(open('/content/drive/MyDrive/work/100.xlsx', 'rb'))\n",
        "x = pd.DataFrame(x)\n",
        "xnp = pd.DataFrame.to_numpy(x)\n",
        "xnp = np.rot90(xnp)\n",
        "xnp.shape"
      ]
    },
    {
      "cell_type": "code",
      "source": [
        "#parameters\n",
        "num_samples = 10 # количество сэмплов в одном графике\n",
        "point_number = 2000 # количество точек в одном графике\n",
        "num_graphycs = 3 # количество графиков\\\n",
        "num_grahp0 = 1 # кол-во нормальных графиков\n",
        "num_grahp1 = 2 # кол-во угловатых графиков\n",
        "x = []"
      ],
      "metadata": {
        "id": "EsmFXtlaHS4W"
      },
      "execution_count": 5,
      "outputs": []
    },
    {
      "cell_type": "code",
      "source": [
        "y0 = np.zeros((num_grahp0*num_samples,1))\n",
        "y1 = np.ones((num_grahp1*num_samples,1))\n",
        "y = np.concatenate((y0, y1))\n",
        "y"
      ],
      "metadata": {
        "colab": {
          "base_uri": "https://localhost:8080/"
        },
        "id": "reImqeAHTlb1",
        "outputId": "0a2f8833-8ae7-4dd0-d46f-3665e092484a"
      },
      "execution_count": 6,
      "outputs": [
        {
          "output_type": "execute_result",
          "data": {
            "text/plain": [
              "array([[0.],\n",
              "       [0.],\n",
              "       [0.],\n",
              "       [0.],\n",
              "       [0.],\n",
              "       [0.],\n",
              "       [0.],\n",
              "       [0.],\n",
              "       [0.],\n",
              "       [0.],\n",
              "       [1.],\n",
              "       [1.],\n",
              "       [1.],\n",
              "       [1.],\n",
              "       [1.],\n",
              "       [1.],\n",
              "       [1.],\n",
              "       [1.],\n",
              "       [1.],\n",
              "       [1.],\n",
              "       [1.],\n",
              "       [1.],\n",
              "       [1.],\n",
              "       [1.],\n",
              "       [1.],\n",
              "       [1.],\n",
              "       [1.],\n",
              "       [1.],\n",
              "       [1.],\n",
              "       [1.]])"
            ]
          },
          "metadata": {},
          "execution_count": 6
        }
      ]
    },
    {
      "cell_type": "code",
      "source": [
        "for j in range (num_graphycs):\n",
        "  for i in range (num_samples):\n",
        "    x.append(np.concatenate((xnp[j*2,i*point_number:i*point_number+point_number], xnp[j*2+1,i*point_number:i*point_number+point_number])))\n",
        "x = np.concatenate(x, axis=0)\n",
        "x = np.reshape(x, (num_graphycs*num_samples,point_number*2))\n",
        "# Тип данных  в нейросетях - float32. Можно и float64, но тогда модель нужно делать с таким типом данных.\n",
        "#x = x.astype('float32')\n",
        "x.shape"
      ],
      "metadata": {
        "colab": {
          "base_uri": "https://localhost:8080/"
        },
        "id": "fB7L1axkHaLO",
        "outputId": "bcf0cea2-a474-48d9-8cf8-492486576a8c"
      },
      "execution_count": 7,
      "outputs": [
        {
          "output_type": "execute_result",
          "data": {
            "text/plain": [
              "(30, 4000)"
            ]
          },
          "metadata": {},
          "execution_count": 7
        }
      ]
    },
    {
      "cell_type": "code",
      "source": [
        "xy = np.concatenate((y,x), axis=1)\n",
        "xy[0,:]"
      ],
      "metadata": {
        "colab": {
          "base_uri": "https://localhost:8080/"
        },
        "id": "DLdTD4KqXvnO",
        "outputId": "e94818ed-c1ad-461b-8349-dee5b9f181ae"
      },
      "execution_count": 8,
      "outputs": [
        {
          "output_type": "execute_result",
          "data": {
            "text/plain": [
              "array([   0.      , -182.154261, -182.813766, ...,  -46.86475 ,\n",
              "        -44.582413,  -42.288928])"
            ]
          },
          "metadata": {},
          "execution_count": 8
        }
      ]
    },
    {
      "cell_type": "code",
      "source": [
        "xy = sorted(xy, key=lambda x: random.random())"
      ],
      "metadata": {
        "id": "-7Ih4dhZXseF"
      },
      "execution_count": 9,
      "outputs": []
    },
    {
      "cell_type": "code",
      "source": [
        "xy = np.asarray(xy)\n",
        "xy.shape"
      ],
      "metadata": {
        "colab": {
          "base_uri": "https://localhost:8080/"
        },
        "id": "Vci-eSMravRP",
        "outputId": "8c41d2eb-36d6-459a-d2e8-4327c774f816"
      },
      "execution_count": 10,
      "outputs": [
        {
          "output_type": "execute_result",
          "data": {
            "text/plain": [
              "(30, 4001)"
            ]
          },
          "metadata": {},
          "execution_count": 10
        }
      ]
    },
    {
      "cell_type": "code",
      "source": [
        "x, y = xy[:,1:], xy[:,0]\n",
        "x = x.astype('float32')\n",
        "y = y.astype('int64')\n",
        "x.shape, y.shape"
      ],
      "metadata": {
        "colab": {
          "base_uri": "https://localhost:8080/"
        },
        "id": "MnlOpWLcYhdF",
        "outputId": "392fe4c0-701f-42e0-a8b6-de726c49dd56"
      },
      "execution_count": 11,
      "outputs": [
        {
          "output_type": "execute_result",
          "data": {
            "text/plain": [
              "((30, 4000), (30,))"
            ]
          },
          "metadata": {},
          "execution_count": 11
        }
      ]
    },
    {
      "cell_type": "code",
      "execution_count": 12,
      "metadata": {
        "id": "wS05TpUwkmdp"
      },
      "outputs": [],
      "source": [
        "# Индексация классов начиается с нуля. То есть первый класс - 0, второй класс - 1. Тип данных разметки - int64.\n",
        "# Размерность у разметки должна быть одна"
      ]
    },
    {
      "cell_type": "code",
      "execution_count": 13,
      "metadata": {
        "id": "XURkjZuT6yyi"
      },
      "outputs": [],
      "source": [
        "# Тут и далее уже очень много ошибок, покажу просто как правильно с комментариями.\n",
        "\n",
        "class ShaftDataset(Dataset):\n",
        "    def __init__(self, x, y, mode):\n",
        "        # Проверка выборки\n",
        "        if mode == 'train':\n",
        "            self.x = x[:21]\n",
        "            self.y = y[:21]\n",
        "        elif mode == 'val':\n",
        "            self.x = x[21:]\n",
        "            self.y = y[21:]\n",
        "            \n",
        "        # Разбиение сделано по вашему примеру, но обращаю внимание,\n",
        "        # что так в тренировочной выборке всего один пример со 2 классом. А в тестовой - только 2 класс/\n",
        "        # Поэтому нужно как то примеры скомпоновать по-другому\n",
        "\n",
        "    def __getitem__(self, index):\n",
        "        return self.x[index], self.y[index]\n",
        "  \n",
        "    def __len__(self):\n",
        "        return len(self.y)"
      ]
    },
    {
      "cell_type": "code",
      "execution_count": 14,
      "metadata": {
        "id": "ITBdf8iT7D8x"
      },
      "outputs": [],
      "source": [
        "# Создаем два отдельных датасета и их будем подавать в Loader.\n",
        "# Изначально вы пытались сделать два среза по одному датасету и подавили в Loader. Так работать не будет\n",
        "\n",
        "train_dataset = ShaftDataset(x, y, 'train')\n",
        "test_dataset = ShaftDataset(x, y, 'val')\n"
      ]
    },
    {
      "cell_type": "code",
      "execution_count": 15,
      "metadata": {
        "id": "dgohZFvDgJmR",
        "colab": {
          "base_uri": "https://localhost:8080/"
        },
        "outputId": "44a0f47e-84e8-4ace-9779-a2a906e3362f"
      },
      "outputs": [
        {
          "output_type": "execute_result",
          "data": {
            "text/plain": [
              "(array([-104.00586, -106.41231, -108.77279, ..., -157.46452, -157.0421 ,\n",
              "        -156.54283], dtype=float32), 0)"
            ]
          },
          "metadata": {},
          "execution_count": 15
        }
      ],
      "source": [
        "train_dataset[0]"
      ]
    },
    {
      "cell_type": "markdown",
      "metadata": {
        "id": "QG0rieAzwscd"
      },
      "source": [
        "Hyper parameters"
      ]
    },
    {
      "cell_type": "code",
      "execution_count": 16,
      "metadata": {
        "id": "Ow5VwGMIwrym"
      },
      "outputs": [],
      "source": [
        "input_size = x.shape[1]\n",
        "hidden_size = 100 # Попробуйте для начала поменьше\n",
        "num_classes = 2\n",
        "num_epochs = 100\n",
        "batch_size = 10 # Bath size не может быть больше размера датасета (у вас 30 примеров)\n",
        "lr = 0.001 # learning rate"
      ]
    },
    {
      "cell_type": "code",
      "execution_count": 17,
      "metadata": {
        "id": "KxDbXIaVquNd"
      },
      "outputs": [],
      "source": [
        "# Loader генерирует тензоры следующего размера -\n",
        "# (batch_size (размер батча - кол-во примеров в батче), m (кол-во признаков))\n",
        "# Таким образом, размерностей 2, а не 4\n",
        "\n",
        "train_loader = torch.utils.data.DataLoader(dataset=train_dataset, \n",
        "                                           batch_size=batch_size, \n",
        "                                           shuffle=True)\n",
        "\n",
        "test_loader = torch.utils.data.DataLoader(dataset=test_dataset, \n",
        "                                          batch_size=batch_size, \n",
        "                                          shuffle=False)"
      ]
    },
    {
      "cell_type": "code",
      "execution_count": 18,
      "metadata": {
        "colab": {
          "base_uri": "https://localhost:8080/"
        },
        "id": "zCYSzuDxtJx1",
        "outputId": "d67044d0-049f-41be-c675-b213729ec4b5"
      },
      "outputs": [
        {
          "output_type": "stream",
          "name": "stdout",
          "text": [
            "(21, 4000) (21,)\n",
            "(9, 4000) (9,)\n"
          ]
        }
      ],
      "source": [
        "# Размеры данных в датасетах\n",
        "\n",
        "features, labels = train_dataset.x, train_dataset.y\n",
        "print(features.shape, labels.shape)\n",
        "features, labels = test_dataset.x, test_dataset.y\n",
        "print(features.shape, labels.shape)\n",
        "#samples = torch.from_numpy(samples)\n",
        "#labels = torch.from_numpy(labels)"
      ]
    },
    {
      "cell_type": "markdown",
      "metadata": {
        "id": "OsQ4OoSKxrmR"
      },
      "source": [
        "#Создание нейронной сети"
      ]
    },
    {
      "cell_type": "code",
      "execution_count": 19,
      "metadata": {
        "id": "psneQ6gguTQO"
      },
      "outputs": [],
      "source": [
        "class NeuralNet(nn.Module):\n",
        "  def __init__(self, input_size, hidden_size, num_classes):\n",
        "    super(NeuralNet, self).__init__()\n",
        "    self.l1 = nn.Linear(input_size, hidden_size)\n",
        "    self.relu = nn.ReLU()\n",
        "    self.l2 = nn.Linear(hidden_size, num_classes)\n",
        "\n",
        "  def forward(self, x):\n",
        "    out = self.l1(x)\n",
        "    out = self.relu(out)\n",
        "    out = self.l2(out)\n",
        "    return out\n"
      ]
    },
    {
      "cell_type": "code",
      "execution_count": 20,
      "metadata": {
        "id": "fEOw9LrLxqhg"
      },
      "outputs": [],
      "source": [
        "model = NeuralNet(input_size, hidden_size, num_classes)\n",
        "\n",
        "# Модель также перемещаем в нужное место\n",
        "model = model.to(device)"
      ]
    },
    {
      "cell_type": "markdown",
      "metadata": {
        "id": "Lhe6kfOPx3YG"
      },
      "source": [
        "Loss and optimizer"
      ]
    },
    {
      "cell_type": "code",
      "execution_count": 21,
      "metadata": {
        "id": "ezEMbjGAx5ZN"
      },
      "outputs": [],
      "source": [
        "L = nn.CrossEntropyLoss()\n",
        "optimizer = torch.optim.Adam(model.parameters(), lr=lr)"
      ]
    },
    {
      "cell_type": "markdown",
      "metadata": {
        "id": "m-JRvLNRyRIl"
      },
      "source": [
        "#Training loop"
      ]
    },
    {
      "cell_type": "code",
      "execution_count": 22,
      "metadata": {
        "id": "JcrFEtk1yS3N"
      },
      "outputs": [],
      "source": [
        "n_total_steps = len(train_loader)\n",
        "for epoch in range(num_epochs):\n",
        "  for i, (features, labels) in enumerate(train_loader):\n",
        "    features = features.to(device)\n",
        "    labels = labels.to(device)\n",
        "\n",
        "    #forward path\n",
        "    outputs = model(features) # Подаем признаки на вход нейросети\n",
        "    loss = L(outputs, labels)\n",
        "\n",
        "    #backward path\n",
        "    optimizer.zero_grad()\n",
        "    loss.backward()\n",
        "    optimizer.step()\n",
        "\n",
        "    if (i+1) % 5 == 0:\n",
        "       print(f'epoch {epoch+1} / {num_epochs}, step {i+1}/{n_total_steps}, loss = {loss.item():.4f}')\n"
      ]
    },
    {
      "cell_type": "code",
      "execution_count": 23,
      "metadata": {
        "colab": {
          "base_uri": "https://localhost:8080/"
        },
        "id": "JBpHSfuK3GWL",
        "outputId": "8ff79f69-ad58-4e82-bd59-9759e2ae7543"
      },
      "outputs": [
        {
          "output_type": "execute_result",
          "data": {
            "text/plain": [
              "(tensor([[-15.9476,  10.9707]], grad_fn=<AddmmBackward0>), tensor([1]))"
            ]
          },
          "metadata": {},
          "execution_count": 23
        }
      ],
      "source": [
        "outputs, labels"
      ]
    },
    {
      "cell_type": "markdown",
      "metadata": {
        "id": "ga6qUKpY04F1"
      },
      "source": [
        "#Test"
      ]
    },
    {
      "cell_type": "code",
      "execution_count": 24,
      "metadata": {
        "colab": {
          "base_uri": "https://localhost:8080/"
        },
        "id": "Ff5AdQL005sM",
        "outputId": "1571efb2-3635-4ffc-f61c-3936371f7dfb"
      },
      "outputs": [
        {
          "output_type": "stream",
          "name": "stdout",
          "text": [
            "tensor([[-5.1608e-02,  1.2949e-01],\n",
            "        [ 1.7375e+01, -2.0112e+01],\n",
            "        [-5.1608e-02,  1.2949e-01],\n",
            "        [-5.1608e-02,  1.2949e-01],\n",
            "        [ 1.0402e+02, -5.1408e+01],\n",
            "        [-5.1608e-02,  1.2949e-01],\n",
            "        [ 2.3654e+02, -1.0311e+02],\n",
            "        [-2.2526e+01,  1.6167e+01],\n",
            "        [-5.1608e-02,  1.2949e-01]])\n"
          ]
        }
      ],
      "source": [
        "with torch.no_grad():\n",
        "  n_correct = 0\n",
        "  n_samples = 0\n",
        "  for features, labels in test_loader:\n",
        "    features = features.to(device)\n",
        "    labels = labels.to(device)\n",
        "    outputs = model(features)\n",
        "    print(outputs)\n",
        "    #value, index\n",
        "    _, predictions = torch.max(outputs, 1)\n",
        "    n_samples += labels.shape[0]\n",
        "    n_correct += (predictions == labels).sum().item()"
      ]
    },
    {
      "cell_type": "code",
      "source": [
        "  acc = 100.0 * n_correct / n_samples\n",
        "  print(f'accuracy = {acc} %')"
      ],
      "metadata": {
        "colab": {
          "base_uri": "https://localhost:8080/"
        },
        "id": "Ledys3Jj-6Or",
        "outputId": "b561820a-ee71-4b79-ab67-3b1b26bee563"
      },
      "execution_count": 25,
      "outputs": [
        {
          "output_type": "stream",
          "name": "stdout",
          "text": [
            "accuracy = 66.66666666666667 %\n"
          ]
        }
      ]
    }
  ],
  "metadata": {
    "colab": {
      "provenance": [],
      "include_colab_link": true
    },
    "kernelspec": {
      "display_name": "Python 3 (ipykernel)",
      "language": "python",
      "name": "python3"
    },
    "language_info": {
      "codemirror_mode": {
        "name": "ipython",
        "version": 3
      },
      "file_extension": ".py",
      "mimetype": "text/x-python",
      "name": "python",
      "nbconvert_exporter": "python",
      "pygments_lexer": "ipython3",
      "version": "3.9.12"
    },
    "varInspector": {
      "cols": {
        "lenName": 16,
        "lenType": 16,
        "lenVar": 40
      },
      "kernels_config": {
        "python": {
          "delete_cmd_postfix": "",
          "delete_cmd_prefix": "del ",
          "library": "var_list.py",
          "varRefreshCmd": "print(var_dic_list())"
        },
        "r": {
          "delete_cmd_postfix": ") ",
          "delete_cmd_prefix": "rm(",
          "library": "var_list.r",
          "varRefreshCmd": "cat(var_dic_list()) "
        }
      },
      "types_to_exclude": [
        "module",
        "function",
        "builtin_function_or_method",
        "instance",
        "_Feature"
      ],
      "window_display": false
    }
  },
  "nbformat": 4,
  "nbformat_minor": 0
}